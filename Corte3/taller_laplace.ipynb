{
  "nbformat": 4,
  "nbformat_minor": 0,
  "metadata": {
    "colab": {
      "provenance": [],
      "include_colab_link": true
    },
    "kernelspec": {
      "display_name": "Python 3",
      "language": "python",
      "name": "python3"
    },
    "language_info": {
      "codemirror_mode": {
        "name": "ipython",
        "version": 3
      },
      "file_extension": ".py",
      "mimetype": "text/x-python",
      "name": "python",
      "nbconvert_exporter": "python",
      "pygments_lexer": "ipython3",
      "version": "3.7.1"
    }
  },
  "cells": [
    {
      "cell_type": "markdown",
      "metadata": {
        "id": "view-in-github",
        "colab_type": "text"
      },
      "source": [
        "<a href=\"https://colab.research.google.com/github/JuanmaVL/SyS/blob/main/Corte3/taller_laplace.ipynb\" target=\"_parent\"><img src=\"https://colab.research.google.com/assets/colab-badge.svg\" alt=\"Open In Colab\"/></a>"
      ]
    },
    {
      "cell_type": "markdown",
      "metadata": {
        "id": "H73L_JXU7k2L",
        "nbsphinx": "hidden"
      },
      "source": [
        "# Caracterización de Sistemas en el Dominio del Tiempo\n",
        "*This Jupyter notebook is part of a [collection of notebooks](../index.ipynb) in the bachelors module Signals and Systems, Communications Engineering, Universität Rostock. Please direct questions and suggestions to [Sascha.Spors@uni-rostock.de](mailto:Sascha.Spors@uni-rostock.de).*"
      ]
    },
    {
      "cell_type": "markdown",
      "metadata": {
        "id": "K7eH5_ea7k2Q"
      },
      "source": [
        "## Análisis de un péndulo elástico amortiguado\n",
        "\n",
        "- El [péndulo elástico](https://en.wikipedia.org/wiki/Spring_pendulum) amortiguado es un ejemplo de un sistema mecánico que puede ser modelado por una ecuación diferencial ordinaria lineal (EDO) con coeficientes constantes.\n",
        "\n",
        "- Desde el punto de vista de la teoría de señales y sistemas, puede ser interpretado como un sistema lineal invariante en el tiempo (SLIT).\n",
        "\n",
        "- Las propiedades mecánicas del péndulo elástico amortiguado se analizan utilizando la teoría de los SLIT. La configuración mecánica subyacente se muestra en la siguiente figura:\n",
        "\n",
        "![Péndulo Elástico Amortiguado](https://github.com/amalvarezme/SenalesSistemas/blob/master/4_Transformada_Laplace/damped_spring.png?raw=1)\n",
        "\n",
        "- Un cuerpo rígido de masa $m$ está montado sobre un resorte con rigidez $k$ que está conectado al suelo.\n",
        "\n",
        "- Un amortiguador con un coeficiente de amortiguamiento $c$ se monta paralelo al resorte para modelar la fricción presente en el sistema.\n",
        "\n",
        "- Se asume que el movimiento de la masa a lo largo del tiempo está restringido al eje vertical, aquí indicado por $y$. Además, se asume que la masa no se mueve para $ t <0 $.\n",
        "\n",
        "- Denotando el desplazamiento de la masa con respecto al tiempo con $y(t)$, las condiciones iniciales se formulan como $y(t)=0$ y $\\frac{d y(t)}{dt}=0$ para $t<0$.\n",
        "\n",
        "- Se utilizarán los siguientes valores $m = 0.1$,  $c = 0.1$ y $k = 2.5$ para ilustrar de manera más sencilla el siguiente ejemplo."
      ]
    },
    {
      "cell_type": "markdown",
      "metadata": {
        "id": "LujI96aT7k2T"
      },
      "source": [
        "### Ecuación diferencial\n",
        "\n",
        "La ecuación diferencia del sistema mecánico se obtiene al considerar el equilibrio de fuerzas ejercidas sobre la masa:\n",
        "\n",
        "\\begin{equation}\n",
        "F_\\text{S}(t) + F_\\text{F}(t) + F_\\text{I}(t) = F_\\text{E}(t)\n",
        "\\end{equation}\n",
        "\n",
        "Donde $F_\\text{E}(t) $ denota una fuerza externa que actúa sobre la masa. La fuerza $F_\\text{S}(t)$ inducida por el resorte está dada por la [ley de Hooke](https://en.wikipedia.org/wiki/Hooke%27s_law)\n",
        "\n",
        "\\begin{equation}\n",
        "F_\\text{S}(t) = k y(t)\n",
        "\\end{equation}\n",
        "\n",
        "Es común modelar la fuerza de fricción $F_\\text{F}(t)$ inducida por el amortiguador de manera proporcional a la velocidad de la masa\n",
        "\n",
        "\\begin{equation}\n",
        "F_\\text{F}(t) = c \\frac{d y(t)}{dt}\n",
        "\\end{equation}\n",
        "\n",
        "La fuerza inercial $F_\\text{I}(t)$ debida a la aceleración de la masa se da como\n",
        "\n",
        "\\begin{equation}\n",
        "F_\\text{I}(t) = m \\frac{d^2 y(t)}{dt^2}\n",
        "\\end{equation}\n",
        "\n",
        "Al introducir las fuerzas anteriormente halladas en el equilibrio de fuerzas se obtiene la ecuación diferencial que describe el desplazamiento del péndulo elástico amortiguado\n",
        "\n",
        "\\begin{equation}\n",
        "m \\frac{d^2 y(t)}{dt^2} + c \\frac{d y(t)}{dt} + k y(t) = F_\\text{E}(t)\n",
        "\\end{equation}\n",
        "\n",
        "Como consecuencia de la fuerza externa.\n",
        "\n",
        "La ecuación anterior constituye una EDO con coeficientes constantes. Puede interpretarse como un SLTI con la fuerza externa $x(t)=F_\\text{E}(t)$ como señal de entrada y el desplazamiento de la masa como la señal de salida $y(t)$."
      ]
    },
    {
      "cell_type": "code",
      "source": [
        "%matplotlib inline\n",
        "import sympy as sym\n",
        "sym.init_printing()\n",
        "\n",
        "t, m, c, k = sym.symbols('t m c k', real=True)\n",
        "x = sym.Function('x')(t)\n",
        "y = sym.Function('y')(t)\n",
        "\n",
        "ode = sym.Eq(m*y.diff(t, 2) + c*y.diff(t) + k*y, x)\n",
        "ode"
      ],
      "metadata": {
        "colab": {
          "base_uri": "https://localhost:8080/",
          "height": 54
        },
        "id": "YdbIsiv-WGVi",
        "outputId": "d1c463b8-4a75-4e42-d169-c28f87c30441"
      },
      "execution_count": 1,
      "outputs": [
        {
          "output_type": "execute_result",
          "data": {
            "text/plain": [
              "                         2              \n",
              "  d                     d               \n",
              "c⋅──(y(t)) + k⋅y(t) + m⋅───(y(t)) = x(t)\n",
              "  dt                      2             \n",
              "                        dt              "
            ],
            "text/latex": "$\\displaystyle c \\frac{d}{d t} y{\\left(t \\right)} + k y{\\left(t \\right)} + m \\frac{d^{2}}{d t^{2}} y{\\left(t \\right)} = x{\\left(t \\right)}$"
          },
          "metadata": {},
          "execution_count": 1
        }
      ]
    },
    {
      "cell_type": "code",
      "source": [
        "# Solicitud: Dame el código para realizar la transformada de Laplace a mi EDO\n",
        "\n",
        "import sympy as sym\n",
        "\n",
        "# Define símbolos y funciones\n",
        "t, m, c, k, s = sym.symbols('t m c k s', real=True)\n",
        "x = sym.Function('x')(t)\n",
        "y = sym.Function('y')(t)\n",
        "# Define Y y X como funciones\n",
        "Y = sym.Function('Y')\n",
        "X = sym.Function('X')\n",
        "\n",
        "\n",
        "# Define la EDO\n",
        "ode = sym.Eq(m*y.diff(t, 2) + c*y.diff(t) + k*y, x)\n",
        "\n",
        "# Aplica la transformada de Laplace a la EDO\n",
        "Laplace_ode = sym.laplace_transform(ode.lhs, t, s, noconds=True)\n",
        "Laplace_ode = sym.Eq(Laplace_ode, sym.laplace_transform(ode.rhs, t, s, noconds=True))\n",
        "\n",
        "\n",
        "# Asumiendo condiciones iniciales cero y(0) = 0 e y'(0) = 0\n",
        "# Llama a Y y X como funciones con el argumento s\n",
        "# En lugar de y(0), usa y.subs(t,0) para sustituir t con 0 en la expresión y(t)\n",
        "Laplace_ode = Laplace_ode.subs({sym.laplace_transform(y.diff(t), t, s, noconds=True): s * Y(s) - y.subs(t,0), sym.laplace_transform(y, t, s, noconds=True) : Y(s), sym.laplace_transform(x,t,s, noconds=True): X(s)})\n",
        "# En lugar de y.diff(t).subs(t,0), usa y.diff(t).subs(t, 0) para obtener la derivada en t=0\n",
        "Laplace_ode = Laplace_ode.subs({y.subs(t,0):0, y.diff(t).subs(t, 0):0})\n",
        "\n",
        "# Resuelve para Y(s)\n",
        "H = sym.solve(Laplace_ode, Y(s))[0]\n",
        "\n",
        "\n",
        "# Imprime el resultado\n",
        "print(\"La Transformada de Laplace de la EDO es:\")\n",
        "print(Laplace_ode)\n",
        "print(\"\\nLa Función de Transferencia H(s) = Y(s)/X(s) es:\")\n",
        "print(H/X(s))\n"
      ],
      "metadata": {
        "colab": {
          "base_uri": "https://localhost:8080/"
        },
        "id": "zD41VTNCWc2J",
        "outputId": "959a0f31-346e-4e44-a348-da9b60fa0a05"
      },
      "execution_count": 8,
      "outputs": [
        {
          "output_type": "stream",
          "name": "stdout",
          "text": [
            "La Transformada de Laplace de la EDO es:\n",
            "Eq(c*s*Y(s) + k*Y(s) + m*s**2*Y(s), X(s))\n",
            "\n",
            "La Función de Transferencia H(s) = Y(s)/X(s) es:\n",
            "1/((c*s + k + m*s**2)*X(s))\n"
          ]
        }
      ]
    },
    {
      "cell_type": "code",
      "source": [
        "# Define los símbolos y funciones\n",
        "t, m, c, k, s = sym.symbols('t m c k s', real=True)\n",
        "x = sym.Function('x')(t)\n",
        "y = sym.Function('y')(t)\n",
        "\n",
        "# Define la EDO\n",
        "ode = sym.Eq(m*y.diff(t, 2) + c*y.diff(t) + k*y, x)\n",
        "\n",
        "# Resuelve para H(s)\n",
        "H = sym.Function('H')(s)\n",
        "H, = sym.solve(ode.subs(x, sym.exp(s*t)).subs(y, H*sym.exp(s*t)).doit(), H)\n",
        "\n",
        "# Imprime la respuesta usando sympy.pprint\n",
        "sym.pprint(H)"
      ],
      "metadata": {
        "colab": {
          "base_uri": "https://localhost:8080/"
        },
        "id": "oim_0YamZjIU",
        "outputId": "1356844c-db57-44fc-eceb-b35d1f1316a1"
      },
      "execution_count": 9,
      "outputs": [
        {
          "output_type": "stream",
          "name": "stdout",
          "text": [
            "      1       \n",
            "──────────────\n",
            "             2\n",
            "c⋅s + k + m⋅s \n"
          ]
        }
      ]
    },
    {
      "cell_type": "markdown",
      "metadata": {
        "id": "98coA2j47k2W"
      },
      "source": [
        "### Comparación con la red eléctrica\n",
        "\n",
        "Comparando las EDO del péndulo elástico amortiguado y el circuito RLC, se tiene que ambos constituyen una EDO de segundo orden con coeficientes constantes.\n",
        "\n",
        "La división de la EDO del circuito por la constante $C$ resulta en:\n",
        "\n",
        "\\begin{equation}\n",
        "L \\frac{d^2 u_\\text{o}(t)}{dt^2} + R \\frac{d u_\\text{o}(t)}{dt} + \\frac{1}{C} u_\\text{o}(t) = \\frac{1}{C} u_\\text{i}(t)\n",
        "\\end{equation}\n",
        "\n",
        "Donde $u_\\text{i}(t)$ y $u_\\text{o}(t)$ denotan el voltaje de entrada y salida del circuito respesctivamente.\n",
        "\n",
        "La comparación de la EDO anterior con la del péndulo elástico amortiguado produce [equivalencia entre sistemas](https://en.wikipedia.org/wiki/System_equivalence) así:\n",
        "\n",
        "|                         | Circuito RLC | Péndulo elástico                          |\n",
        "|-------------------------|------------------------------------|-------------------------------------------|\n",
        "| Señal de entrada $x(t)$ | $u_\\text{i}(t) = F_\\text{E}(t) C$  | $F_\\text{E}(t) = \\frac{u_\\text{i}(t)}{C}$ |\n",
        "| Señal de salida $y(t)$  | $u_\\text{o}(t)$                    | $y(t)$                                    |\n",
        "|                         | $L=m$                              | $m=L$                                     |\n",
        "|                         | $R=c$                              | $c=R$                                     |\n",
        "|                         | $C=\\frac{1}{k}$                    | $k=\\frac{1}{C}$                           |"
      ]
    },
    {
      "cell_type": "markdown",
      "metadata": {
        "id": "45ywl0jG7k2Z"
      },
      "source": [
        "### Respuesta al Impulso\n",
        "\n",
        "El SLIT correspondiente al péndulo puede ser caracterizado por su respuesta al impulso $h(t)$. Se define como la salida del sistema ante una entra $x(t) = \\delta(t)$ en la entrada. La respuesta al impulso caracteriza el movimiento $y(t)$ de la masa ante un evento.\n",
        "\n",
        "Primero, se define la EDO del péndulo elástico amortiguado con `SymPy`"
      ]
    },
    {
      "cell_type": "code",
      "metadata": {
        "colab": {
          "base_uri": "https://localhost:8080/",
          "height": 54
        },
        "id": "9hIv-Tl-7k2b",
        "outputId": "0526048c-36a5-46bc-f2e4-811bf4077557"
      },
      "source": [
        "%matplotlib inline\n",
        "import sympy as sym\n",
        "sym.init_printing()\n",
        "\n",
        "t, m, c, k = sym.symbols('t m c k', real=True)\n",
        "x = sym.Function('x')(t)\n",
        "y = sym.Function('y')(t)\n",
        "\n",
        "ode = sym.Eq(m*y.diff(t, 2) + c*y.diff(t) + k*y, x)\n",
        "ode"
      ],
      "execution_count": null,
      "outputs": [
        {
          "output_type": "execute_result",
          "data": {
            "text/plain": [
              "                          2             \n",
              "  d                      d              \n",
              "c⋅──(y(t)) + k⋅y(t) + m⋅───(y(t)) = x(t)\n",
              "  dt                      2             \n",
              "                        dt              "
            ],
            "image/png": "[encoded data removed]",
            "text/latex": "$\\displaystyle c \\frac{d}{d t} y{\\left(t \\right)} + k y{\\left(t \\right)} + m \\frac{d^{2}}{d t^{2}} y{\\left(t \\right)} = x{\\left(t \\right)}$"
          },
          "metadata": {},
          "execution_count": 1
        }
      ]
    },
    {
      "cell_type": "markdown",
      "metadata": {
        "id": "6Q8fhKUT7k2q"
      },
      "source": [
        "Se guardan los valores de las constantes en un diccionario para posteriores sustituciones"
      ]
    },
    {
      "cell_type": "code",
      "metadata": {
        "colab": {
          "base_uri": "https://localhost:8080/",
          "height": 58
        },
        "id": "OQg6lok37k2s",
        "outputId": "a70add78-fc35-4922-b820-1eab3f79187d"
      },
      "source": [
        "mck = {m: 0.1, c: sym.Rational('.1'), k: sym.Rational('2.5')}\n",
        "mck"
      ],
      "execution_count": null,
      "outputs": [
        {
          "output_type": "execute_result",
          "data": {
            "text/plain": [
              "{c: 1/10, k: 5/2, m: 0.1}"
            ],
            "image/png": "[encoded data removed]",
            "text/latex": "$\\displaystyle \\left\\{ c : \\frac{1}{10}, \\  k : \\frac{5}{2}, \\  m : 0.1\\right\\}$"
          },
          "metadata": {},
          "execution_count": 2
        }
      ]
    },
    {
      "cell_type": "markdown",
      "metadata": {
        "id": "mol_ZwPs7k21"
      },
      "source": [
        "La respuesta al impulso se calcula al resolver la EDO"
      ]
    },
    {
      "cell_type": "code",
      "metadata": {
        "colab": {
          "base_uri": "https://localhost:8080/",
          "height": 71
        },
        "id": "k7dmJ1Os7k23",
        "outputId": "9044d355-abd9-45bd-f347-9c4fd23958a3"
      },
      "source": [
        "solution_h = sym.dsolve(ode.subs(x, sym.DiracDelta(t)).subs(y, sym.Function('h')(t)))\n",
        "solution_h"
      ],
      "execution_count": null,
      "outputs": [
        {
          "output_type": "execute_result",
          "data": {
            "text/plain": [
              "                                                                        ⎛     \n",
              "             ⎛        ____________⎞         ⎛        ____________⎞      ⎜     \n",
              "             ⎜       ╱  2         ⎟         ⎜       ╱  2         ⎟    t⋅⎝-c - \n",
              "           t⋅⎝-c - ╲╱  c  - 4⋅k⋅m ⎠       t⋅⎝-c + ╲╱  c  - 4⋅k⋅m ⎠    ────────\n",
              "           ────────────────────────       ────────────────────────            \n",
              "                     2⋅m                            2⋅m              ℯ        \n",
              "h(t) = C₁⋅ℯ                         + C₂⋅ℯ                         - ─────────\n",
              "                                                                              \n",
              "                                                                              \n",
              "                                                                            ╲╱\n",
              "\n",
              "   ____________⎞           ⎛        ____________⎞     \n",
              "  ╱  2         ⎟           ⎜       ╱  2         ⎟     \n",
              "╲╱  c  - 4⋅k⋅m ⎠         t⋅⎝-c + ╲╱  c  - 4⋅k⋅m ⎠     \n",
              "────────────────         ────────────────────────     \n",
              "  2⋅m                              2⋅m                \n",
              "                ⋅θ(t)   ℯ                        ⋅θ(t)\n",
              "───────────────────── + ──────────────────────────────\n",
              " ____________                     ____________        \n",
              "╱  2                             ╱  2                 \n",
              "  c  - 4⋅k⋅m                   ╲╱  c  - 4⋅k⋅m         "
            ],
            "image/png": "[encoded data removed]",
            "text/latex": "$\\displaystyle h{\\left(t \\right)} = C_{1} e^{\\frac{t \\left(- c - \\sqrt{c^{2} - 4 k m}\\right)}{2 m}} + C_{2} e^{\\frac{t \\left(- c + \\sqrt{c^{2} - 4 k m}\\right)}{2 m}} - \\frac{e^{\\frac{t \\left(- c - \\sqrt{c^{2} - 4 k m}\\right)}{2 m}} \\theta\\left(t\\right)}{\\sqrt{c^{2} - 4 k m}} + \\frac{e^{\\frac{t \\left(- c + \\sqrt{c^{2} - 4 k m}\\right)}{2 m}} \\theta\\left(t\\right)}{\\sqrt{c^{2} - 4 k m}}$"
          },
          "metadata": {},
          "execution_count": 3
        }
      ]
    },
    {
      "cell_type": "markdown",
      "metadata": {
        "id": "iAwXOyCd7k3C"
      },
      "source": [
        "Las constantes de integración $C_1$ y $C_2$ se determinan a partir de las condiciones iniciales $y(t) = 0$ y $\\frac{d y(t)}{dt}=0$ para $t<0$."
      ]
    },
    {
      "cell_type": "code",
      "metadata": {
        "colab": {
          "base_uri": "https://localhost:8080/",
          "height": 39
        },
        "id": "WOiIJDqA7k3E",
        "outputId": "eb6c7b6c-7dce-4536-94be-0804aefd2ec5"
      },
      "source": [
        "integration_constants = sym.solve( (solution_h.rhs.limit(t, 0, '-'), solution_h.rhs.diff(t).limit(t, 0, '-')), ['C1', 'C2'] )\n",
        "integration_constants"
      ],
      "execution_count": null,
      "outputs": [
        {
          "output_type": "execute_result",
          "data": {
            "text/plain": [
              "{C₁: 0, C₂: 0}"
            ],
            "image/png": "[encoded data removed]",
            "text/latex": "$\\displaystyle \\left\\{ C_{1} : 0, \\  C_{2} : 0\\right\\}$"
          },
          "metadata": {},
          "execution_count": 4
        }
      ]
    },
    {
      "cell_type": "markdown",
      "metadata": {
        "id": "aY7TZjU27k3N"
      },
      "source": [
        "La sustitución de los valores de las constantes de integración $C_1$ y $C_2$ en el resultado anterior, produce la respuesta al impulso del sistema mecánico"
      ]
    },
    {
      "cell_type": "code",
      "metadata": {
        "colab": {
          "base_uri": "https://localhost:8080/",
          "height": 71
        },
        "id": "BvMdOUkj7k3P",
        "outputId": "1687499f-60ec-4165-f418-d16f522a6b8e"
      },
      "source": [
        "h = solution_h.subs(integration_constants)\n",
        "h"
      ],
      "execution_count": null,
      "outputs": [
        {
          "output_type": "execute_result",
          "data": {
            "text/plain": [
              "            ⎛        ____________⎞           ⎛        ____________⎞     \n",
              "            ⎜       ╱  2         ⎟           ⎜       ╱  2         ⎟     \n",
              "          t⋅⎝-c - ╲╱  c  - 4⋅k⋅m ⎠         t⋅⎝-c + ╲╱  c  - 4⋅k⋅m ⎠     \n",
              "          ────────────────────────         ────────────────────────     \n",
              "                    2⋅m                              2⋅m                \n",
              "         ℯ                        ⋅θ(t)   ℯ                        ⋅θ(t)\n",
              "h(t) = - ────────────────────────────── + ──────────────────────────────\n",
              "                   ____________                     ____________        \n",
              "                  ╱  2                             ╱  2                 \n",
              "                ╲╱  c  - 4⋅k⋅m                   ╲╱  c  - 4⋅k⋅m         "
            ],
            "image/png": "[encoded data removed]",
            "text/latex": "$\\displaystyle h{\\left(t \\right)} = - \\frac{e^{\\frac{t \\left(- c - \\sqrt{c^{2} - 4 k m}\\right)}{2 m}} \\theta\\left(t\\right)}{\\sqrt{c^{2} - 4 k m}} + \\frac{e^{\\frac{t \\left(- c + \\sqrt{c^{2} - 4 k m}\\right)}{2 m}} \\theta\\left(t\\right)}{\\sqrt{c^{2} - 4 k m}}$"
          },
          "metadata": {},
          "execution_count": 5
        }
      ]
    },
    {
      "cell_type": "markdown",
      "metadata": {
        "id": "jVWDPU6W7k3Z"
      },
      "source": [
        "Se grafica la respuesta para los valores de $m$, $c$ y $k$ definidas anteriormente"
      ]
    },
    {
      "cell_type": "code",
      "metadata": {
        "colab": {
          "base_uri": "https://localhost:8080/",
          "height": 297
        },
        "id": "_gA-N1v47k3b",
        "outputId": "cba94021-2499-4be8-bfa9-67b8d0f5ea97"
      },
      "source": [
        "sym.plot(h.rhs.subs(mck), (t,0,12), ylabel=r'h(t)');"
      ],
      "execution_count": null,
      "outputs": [
        {
          "output_type": "display_data",
          "data": {
            "text/plain": [
              "<Figure size 432x288 with 1 Axes>"
            ],
            "image/png": "[encoded data removed]"
          },
          "metadata": {
            "needs_background": "light"
          }
        }
      ]
    },
    {
      "cell_type": "markdown",
      "metadata": {
        "id": "RBSU-Q3l7k3m"
      },
      "source": [
        "### Función de Transferencia\n",
        "\n",
        "Para una señal exponencial de entrada $x(t)=e^{st}$, la función de transferencia $H(s)$ representa el peso de la entrada, tal que $y(t) = H(s) \\cdot e^{s t}$. La función de transferencia se obtiene al introducir $x(t)$ y $y(t)$ en la EDO y resolver para $H(s)$"
      ]
    },
    {
      "cell_type": "code",
      "metadata": {
        "colab": {
          "base_uri": "https://localhost:8080/",
          "height": 52
        },
        "id": "8SK-CphO7k3o",
        "outputId": "296e9e1a-44ad-4773-c636-4d3aae876620"
      },
      "source": [
        "s = sym.symbols('s')\n",
        "H = sym.Function('H')(s)\n",
        "\n",
        "H, = sym.solve(ode.subs(x, sym.exp(s*t)).subs(y, H*sym.exp(s*t)).doit(), H)\n",
        "H"
      ],
      "execution_count": null,
      "outputs": [
        {
          "output_type": "execute_result",
          "data": {
            "text/plain": [
              "      1       \n",
              "──────────────\n",
              "             2\n",
              "c⋅s + k + m⋅s "
            ],
            "image/png": "[encoded data removed]",
            "text/latex": "$\\displaystyle \\frac{1}{c s + k + m s^{2}}$"
          },
          "metadata": {},
          "execution_count": 7
        }
      ]
    },
    {
      "cell_type": "markdown",
      "metadata": {
        "id": "DxCLfu7e7k3v"
      },
      "source": [
        "Las características de transferencia de un SLIT para señales exponenciales armónicas $e^{j\\omega}=\\cos(\\omega t)+j\\sin(\\omega t)$ son de especial interés en el análisis de sistemas resonantes.\n",
        "\n",
        "Se pueden derivar de $H(s)$ sustituyendo la frecuencia compleja $s$ por $s=j\\omega$. La función de transferencia resultante $H(j\\omega)$ proporciona la atenuación y la fase que el sistema agrega a una señal de entrada armónica."
      ]
    },
    {
      "cell_type": "code",
      "metadata": {
        "colab": {
          "base_uri": "https://localhost:8080/",
          "height": 52
        },
        "id": "M71QaIcm7k3w",
        "outputId": "c06aa3a7-1234-43b7-ca80-8fc8c206ea9c"
      },
      "source": [
        "w = sym.symbols('omega', real=True)\n",
        "\n",
        "Hjw = H.subs(s, sym.I * w)\n",
        "Hjw"
      ],
      "execution_count": null,
      "outputs": [
        {
          "output_type": "execute_result",
          "data": {
            "text/plain": [
              "       1        \n",
              "────────────────\n",
              "               2\n",
              "ⅈ⋅c⋅ω + k - m⋅ω "
            ],
            "image/png": "[encoded data removed]",
            "text/latex": "$\\displaystyle \\frac{1}{i c \\omega + k - m \\omega^{2}}$"
          },
          "metadata": {},
          "execution_count": 8
        }
      ]
    },
    {
      "cell_type": "markdown",
      "metadata": {
        "id": "8b87wEpL7k34"
      },
      "source": [
        "La magnitud de la función de transferencia $|H(j\\omega)|$ se grafica para los valores de los parámetros dados anteriormente"
      ]
    },
    {
      "cell_type": "code",
      "metadata": {
        "id": "HiYpg_Vd7k36",
        "outputId": "473cfb15-249f-470c-adc9-7ebf32c22478",
        "colab": {
          "base_uri": "https://localhost:8080/",
          "height": 297
        }
      },
      "source": [
        "sym.plot(abs(Hjw.subs(mck)), (w, -15, 15), ylabel=r'$|H(j \\omega)|$', xlabel=r'$\\omega$');"
      ],
      "execution_count": null,
      "outputs": [
        {
          "output_type": "display_data",
          "data": {
            "text/plain": [
              "<Figure size 432x288 with 1 Axes>"
            ],
            "image/png": "[encoded data removed]"
          },
          "metadata": {
            "needs_background": "light"
          }
        }
      ]
    },
    {
      "cell_type": "markdown",
      "metadata": {
        "id": "U82rDJ-J7k4B"
      },
      "source": [
        "Al inspeccionar la magnitud de la función de transferencia, se hace evidente que el péndulo del resorte amortiguado muestra resonancias (picos máximos) para dos frecuencias angulares específicas. Estas frecuencias de resonancia $\\omega_0$ se calculan desde los valores extremos de $|H(j\\omega)|$. Primero se calcula la derivada de $|H(j\\omega)|$ con respecto a $\\omega$ y luego se igual a cero"
      ]
    },
    {
      "cell_type": "code",
      "metadata": {
        "colab": {
          "base_uri": "https://localhost:8080/",
          "height": 82
        },
        "id": "JS9oWlIZ7k4D",
        "outputId": "101fa98d-6fc8-4d4b-fe8d-108f4e6c0519"
      },
      "source": [
        "extrema = sym.solve(sym.Eq(sym.diff(abs(Hjw), w),0),w)\n",
        "extrema"
      ],
      "execution_count": null,
      "outputs": [
        {
          "output_type": "execute_result",
          "data": {
            "text/plain": [
              "⎡         ____________        ____________⎤\n",
              "⎢        ╱    2              ╱    2       ⎥\n",
              "⎢       ╱    c              ╱    c        ⎥\n",
              "⎢   -  ╱   - ── + k⋅m      ╱   - ── + k⋅m ⎥\n",
              "⎢    ╲╱      2           ╲╱      2        ⎥\n",
              "⎢0, ───────────────────, ─────────────────⎥\n",
              "⎣            m                   m        ⎦"
            ],
            "image/png": "[encoded data removed]",
            "text/latex": "$\\displaystyle \\left[ 0, \\  - \\frac{\\sqrt{- \\frac{c^{2}}{2} + k m}}{m}, \\  \\frac{\\sqrt{- \\frac{c^{2}}{2} + k m}}{m}\\right]$"
          },
          "metadata": {},
          "execution_count": 10
        }
      ]
    },
    {
      "cell_type": "markdown",
      "metadata": {
        "id": "BUr9MQz17k4L"
      },
      "source": [
        "Para los máximos de la función de transferencia solo es de interés el segundo y el tercer extremo"
      ]
    },
    {
      "cell_type": "code",
      "metadata": {
        "colab": {
          "base_uri": "https://localhost:8080/",
          "height": 82
        },
        "id": "SY5BAevS7k4N",
        "outputId": "ab5bcbfb-4975-43a2-fff1-30ce41ffa444"
      },
      "source": [
        "w0 = extrema[1:3]\n",
        "w0"
      ],
      "execution_count": null,
      "outputs": [
        {
          "output_type": "execute_result",
          "data": {
            "text/plain": [
              "⎡      ____________        ____________⎤\n",
              "⎢     ╱    2              ╱    2       ⎥\n",
              "⎢    ╱    c              ╱    c        ⎥\n",
              "⎢-  ╱   - ── + k⋅m      ╱   - ── + k⋅m ⎥\n",
              "⎢ ╲╱      2           ╲╱      2        ⎥\n",
              "⎢───────────────────, ─────────────────⎥\n",
              "⎣         m                   m        ⎦"
            ],
            "image/png": "[encoded data removed]",
            "text/latex": "$\\displaystyle \\left[ - \\frac{\\sqrt{- \\frac{c^{2}}{2} + k m}}{m}, \\  \\frac{\\sqrt{- \\frac{c^{2}}{2} + k m}}{m}\\right]$"
          },
          "metadata": {},
          "execution_count": 11
        }
      ]
    },
    {
      "cell_type": "markdown",
      "metadata": {
        "id": "3z6o5V4w7k4W"
      },
      "source": [
        "Las frecuencias de resonancia se calculan para los valores de $m$, $c$ y $k$ dados anteriormente"
      ]
    },
    {
      "cell_type": "code",
      "metadata": {
        "colab": {
          "base_uri": "https://localhost:8080/",
          "height": 37
        },
        "id": "h0iYkA-W7k4X",
        "outputId": "232b77bc-4edd-4c85-fd42-49dbbd8a0b6a"
      },
      "source": [
        "[w00.subs(mck) for w00 in w0]"
      ],
      "execution_count": null,
      "outputs": [
        {
          "output_type": "execute_result",
          "data": {
            "text/plain": [
              "[-4.94974746830583, 4.94974746830583]"
            ],
            "image/png": "[encoded data removed]",
            "text/latex": "$\\displaystyle \\left[ -4.94974746830583, \\  4.94974746830583\\right]$"
          },
          "metadata": {},
          "execution_count": 12
        }
      ]
    },
    {
      "cell_type": "markdown",
      "metadata": {
        "id": "BiebSBR67k4c"
      },
      "source": [
        "La fase de la función de transferencia $\\varphi (j\\omega)$ se calcula y grafica para los valores específicos de los elementos dados anteriormente"
      ]
    },
    {
      "cell_type": "code",
      "metadata": {
        "colab": {
          "base_uri": "https://localhost:8080/",
          "height": 297
        },
        "id": "rzvMK_Qh7k4d",
        "outputId": "e774911b-d165-4b2b-8499-6717bde9bc84"
      },
      "source": [
        "phi = sym.arg(Hjw)\n",
        "sym.plot(phi.subs(mck), (w, -15, 15), ylabel=r'$\\varphi(j \\omega)$', xlabel=r'$\\omega$');"
      ],
      "execution_count": null,
      "outputs": [
        {
          "output_type": "display_data",
          "data": {
            "text/plain": [
              "<Figure size 432x288 with 1 Axes>"
            ],
            "image/png": "[encoded data removed]"
          },
          "metadata": {
            "needs_background": "light"
          }
        }
      ]
    },
    {
      "cell_type": "markdown",
      "source": [
        "# Forma general (canónica) SLITs segundo orden\n",
        "\n",
        "- En general, la función de transferencia de un SLIT de segundo orden (donde el orden se refiere al orden de la EDO o a la cantidad de elementos almacenadores de energía), se puede definir como:\n",
        "\n",
        "$$H(s)=\\frac{1}{a_2 s^2 + a_1 s + a_o}$$\n",
        "\n",
        "- Para tareas de modelado y control de procesos, se suele factorizar en su forma canónica como:\n",
        "\n",
        "$$H(s)=K\\frac{\\omega_n^2}{s^2+2\\xi \\omega_n s + \\omega_n^2}$$\n",
        "\n",
        "- Con:\n",
        "\n",
        "$$K=\\frac{1}{a_o}$$\n",
        "$$w_n^2=\\frac{a_o}{a_2}$$\n",
        "$$\\xi = \\frac{a_1}{2\\sqrt{a_o a_2}}$$\n",
        "\n",
        "- Las raíces del denominador (polos), se pueden entonces calcular como:\n",
        "\n",
        "$$p_{1,2}=-\\xi \\omega_n \\pm j \\omega_n \\sqrt{1-\\xi^2}$$\n",
        "\n",
        "- Deefiniendo:\n",
        "\n",
        "$\\omega_n$: frecuencia natural no amortiguada.\n",
        "\n",
        "$\\omega_d = \\omega_n\\sqrt{1-\\xi^2}$: frecuencia natural amortiguada.\n",
        "\n",
        "$\\xi:$ factor de amortiguamiento.\n",
        "\n",
        "- Según el factor de amortiguamiento, los SLIT de segundo orden se caracterizan como:\n",
        "\n",
        "$0<\\xi< 1$: SLIT subamortiguado.\n",
        "\n",
        "$\\xi = 1$: SLIT con amortiguamiento crítico.\n",
        "\n",
        "$\\xi > 1$: SLIT sobreamortiguado.\n",
        "\n",
        "$\\xi = 0$: SLIT oscilatorio.\n",
        "\n",
        "$\\xi < 0$: SLIT inestable (polos en el lado deracho del plano complejo $s$).\n",
        "\n",
        "## Respuesta transitoria SLIT segundo orden\n",
        "\n",
        "- La siguiente figura ilustra la respuesta transitoria de un SLIT de segundo orden ante una entrada escalón (Heaviside) respecto al valor del factor de amortiguamiento $\\xi$:\n",
        "\n",
        "\n",
        "![slit2o](https://github.com/amalvarezme/SenalesSistemas/blob/master/4_Transformada_Laplace/Sistemas2Orden.jpg?raw=1)\n",
        "\n",
        "$M_p= 100\\frac{x_{max}-x_{f}}{x_f}[\\%]$: máximo sobre-impulso, donde:\n",
        "\n",
        "Teniendo en cuenta la derivada: $\\frac{dx(t)}{dt}\\Big|_{t=t_p} = 0$\n",
        "\n",
        "tenemos que: $t_p =\\frac{\\pi}{\\omega_n\\sqrt{1-\\xi^2}}$\n",
        "\n",
        "$t_u$: se conoce como el tiempo de levantamiento (10$\\%$ a 90$\\%$ o 0$\\%$ 100$\\%$ de su valor máximo o máximo pico).\n",
        "\n",
        "$t_s$: tiempo establecimiento (tiempo en permanecer al rededor del $\\pm$5$\\%$ del valor de equilibrio)\n",
        "\n",
        "$t_s=\\frac{3}{\\xi\\omega_n}$"
      ],
      "metadata": {
        "id": "E2xO6axsgApU"
      }
    },
    {
      "cell_type": "markdown",
      "metadata": {
        "id": "zfnD6qGU7k4q",
        "nbsphinx": "hidden"
      },
      "source": [
        "**Copyright**\n",
        "\n",
        "The notebooks are provided as [Open Educational Resource](https://de.wikipedia.org/wiki/Open_Educational_Resources). Feel free to use the notebooks for your own educational purposes. The text is licensed under [Creative Commons Attribution 4.0](https://creativecommons.org/licenses/by/4.0/), the code of the IPython examples under the [MIT license](https://opensource.org/licenses/MIT). Please attribute the work as follows: *Lecture Notes on Signals and Systems* by Sascha Spors."
      ]
    }
  ]
}