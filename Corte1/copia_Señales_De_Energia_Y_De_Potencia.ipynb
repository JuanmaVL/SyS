{
  "nbformat": 4,
  "nbformat_minor": 0,
  "metadata": {
    "colab": {
      "name": "_Señales De Energia Y De Potencia.ipynb",
      "provenance": [],
      "include_colab_link": true
    },
    "kernelspec": {
      "name": "python3",
      "display_name": "Python 3"
    }
  },
  "cells": [
    {
      "cell_type": "markdown",
      "metadata": {
        "id": "view-in-github",
        "colab_type": "text"
      },
      "source": [
        "<a href=\"https://colab.research.google.com/github/JuanmaVL/SyS/blob/main/Corte1/copia_Sen%CC%83ales_De_Energia_Y_De_Potencia.ipynb\" target=\"_parent\"><img src=\"https://colab.research.google.com/assets/colab-badge.svg\" alt=\"Open In Colab\"/></a>"
      ]
    },
    {
      "cell_type": "markdown",
      "metadata": {
        "id": "B52z58zguMuL"
      },
      "source": [
        "# Señales de energía y potencia\n",
        "\n",
        "Las señales pueden clasificarse como de energía o de potencia.\n",
        "\n",
        "Los conceptos de energía y potencia son empleados para la generalización de métricas que permitirán tomar decisiones de convergencia en distintos tipos de análisis en espacios $L^{2}$.\n",
        "\n",
        "---\n",
        "\n",
        "\n",
        "\n",
        "## Señales de energía\n",
        "\n",
        "Se dice que una señal es de energía, si su energía total $E_x$ converge, es decir:\n",
        "\n",
        "$$\n",
        "0< E_x < \\infty. \\tag{1}\n",
        "$$\n",
        "\n",
        "Para el caso de una señal $x(t)$ contínua, su energía total es calculada como:\n",
        "\n",
        "$$\n",
        "E_x = \\|x(t) \\|_2^2 = \\int_{-\\infty}^{\\infty} |x(t)|^{2}~dt,  \\tag{2}\n",
        "$$\n",
        "donde la [norma-2](https://en.wikipedia.org/wiki/Norm_(mathematics)) de la señal $x(t)$ se denota por: $\\|x(t) \\|_2^2.$ En el mismo sentido, la energía total de la función discreta $x[n]$, es:\n",
        "\n",
        "$$\n",
        "E_x = \\|x[n] \\|_2^2 = \\sum_{n=-\\infty}^{\\infty} |x[n]|^{2}  \\tag{3}\n",
        "$$\n",
        "\n",
        "Tomando en cuenta que la energía de una señal en un intervalo de tiempo finito $T$ es:\n",
        "\n",
        "$$\n",
        "E_T = \\int_T |x(t)|^{2}~dt. \\tag{4}\n",
        "$$\n",
        "\n",
        "La energía total de la señal puede expresarse en terminos del siguiente límite:\n",
        "\n",
        "$$\n",
        "E_x = \\lim_{T \\to \\infty} E_T \\tag{5}\n",
        "$$\n",
        "\n",
        "Para las señales discretas,\n",
        "\n",
        "$$\n",
        "E_N = \\sum_{n=-N}^{N} |x[n]|^{2} \\tag{6}\n",
        "$$\n",
        "\n",
        "Y la energía total de $x[n]$ es:\n",
        "\n",
        "$$\n",
        "E_x = \\lim_{N \\to \\infty} E_N \\tag{7}\n",
        "$$\n",
        "\n",
        "## Señales de potencia\n",
        "\n",
        "Por otro lado, una señal se clasifica como de potencia, si su potencia media $\\bar{P}_x$ converge, esto es:\n",
        "\n",
        "$$\n",
        "0< \\bar{P}_x < \\infty \\tag{8}\n",
        "$$\n",
        "\n",
        "Para el caso de una señal $x(t)$  continua, su potencia media se calcula a partir de la siguiente expresión.\n",
        "\n",
        "$$\n",
        "\\bar{P}_x = \\lim_{T \\to \\infty} \\frac{1}{T} \\int_T |x(t)|^{2}~dt  \\tag{9}\n",
        "$$\n",
        "\n",
        "Si $x(t)$ resulta ser periódica, la ecuación anterior puede reescribirse de la siguiente manera:\n",
        "\n",
        "$$\n",
        "\\bar{P}_x = \\lim_{k \\to \\infty} \\frac{1}{k~T_0}~k \\int_0^{T_0} |x(t)|^{2}~dt \\tag{10}\n",
        "$$\n",
        "\n",
        "Donde $T_0$ es el periodo fundamental de la señal, con lo cual se logra hacer una analogía de la ecuación inicial de potencia llevando las repeticiones al infinito, obteniendo el siguiente resultado:\n",
        "\n",
        "$$\n",
        "\\bar{P}_x = \\frac{1}{T_0} \\int_0^{T_0} |x(t)|^{2}~dt \\tag{11}\n",
        "$$\n",
        "\n",
        "Para el caso de una señal discreta $x[n]$, su potencia media está definida por:\n",
        "\n",
        "$$\n",
        "\\bar{P}_x = \\lim_{N \\to \\infty} \\frac{1}{2N+1} \\sum_{n=-N}^{N} |x[n]|^{2}  \\tag{12}\n",
        "$$\n",
        "\n",
        "De igual manera, si $x[n]$ resulta ser periódica, su potencia media estará dada por:\n",
        "\n",
        "$$\n",
        "\\bar{P}_ x = \\frac{1}{N_0} \\sum_{n=0}^{N_0-1} |x_[n]|^{2} \\tag{13}\n",
        "$$\n",
        "\n",
        "Donde $N_0$ es el número mínimo de muestras para el cual la señal $x[n]$ se repite.\n",
        "\n",
        "La potencia media también se puede expresar en términos de la energía de la señal de la siguiente forma:\n",
        "\n",
        "* Caso continuo\n",
        "\n",
        "$$\n",
        "\\bar{P}_x = \\lim_{T \\to \\infty} \\frac{1}{T}~E_T \\tag{14}\n",
        "$$\n",
        "\n",
        "* Caso discreto\n",
        "\n",
        "$$\n",
        "\\bar{P}_x = \\lim_{N \\to \\infty} \\frac{1}{2N+1}~E_N \\tag{15}\n",
        "$$\n",
        "\n",
        "De lo anterior se puede concluir que:\n",
        "\n",
        "**-**Si la energía de la señal es finita, entonces su potencia es cero.\n",
        "\n",
        "**-**Si la señal tiene energía infinita, su potencia puede ser finita o infinita.\n",
        "\n",
        "**-**Si la potencia de la señal es finita, su energía es infinita.\n"
      ]
    },
    {
      "cell_type": "markdown",
      "metadata": {
        "id": "M7a6xCxlbgEQ"
      },
      "source": [
        "## Ejemplo 1\n",
        "\n",
        "Determine el concepto de potencia media a partir de la potencia instantánea disipada por una resistencia de $1 \\Omega$."
      ]
    },
    {
      "cell_type": "code",
      "metadata": {
        "id": "OSWTBwgBQZgi",
        "colab": {
          "base_uri": "https://localhost:8080/",
          "height": 807
        },
        "outputId": "bfa1f6e8-b223-45c3-a9bd-5b90180cf131"
      },
      "source": [
        "import matplotlib.pyplot as plt\n",
        "import matplotlib.patches as mpatches\n",
        "\n",
        "fig, ax = plt.subplots(1, figsize=(8, 10))\n",
        "ax.axvline(0.4, 0.8, 1, color=\"black\", linewidth=5)\n",
        "ax.axvline(0.4, 0, 0.2, color=\"black\", linewidth=5)\n",
        "rect = mpatches.Rectangle([0.2, 0.2], 0.4, 0.6, edgecolor=\"black\", facecolor=\"white\", linewidth=5)\n",
        "ax.add_patch(rect)\n",
        "ax.arrow(0.7, 0.2, 0, 0.6, width=0.005, length_includes_head=True, head_width=0.05, facecolor=\"black\")\n",
        "ax.arrow(0.4, 1, 0, -0.15, width=0.005, length_includes_head=True, head_width=0.05, facecolor=\"black\")\n",
        "ax.text(0.4, 0.5, r'$R=1 \\Omega$', fontsize = 45, horizontalalignment='center')\n",
        "ax.text(0.3, 0.9, r'$i(t)$', fontsize = 45, horizontalalignment='center')\n",
        "ax.text(0.8, 0.5, r'$v(t)$', fontsize = 45, horizontalalignment='center')\n",
        "ax.grid()\n",
        "ax.set_axis_off()\n",
        "fig.show()"
      ],
      "execution_count": 1,
      "outputs": [
        {
          "output_type": "display_data",
          "data": {
            "text/plain": [
              "<Figure size 800x1000 with 1 Axes>"
            ],
            "image/png": "[encoded data removed]"
          },
          "metadata": {}
        }
      ]
    },
    {
      "cell_type": "markdown",
      "metadata": {
        "id": "XjX-wCHol7zE"
      },
      "source": [
        "La potencia instantánea $p(t)$ para el elemento resistivo está dada por la siguiente ecuación:\n",
        "\n",
        "$$\n",
        "p(t) = v(t) \\cdot i(t) = R \\cdot i(t)^{2}\n",
        "$$\n",
        "\n",
        "Evaluando en $R = 1 \\Omega$,\n",
        "\n",
        "$$\n",
        "p(t) = i(t)^{2}\n",
        "$$\n",
        "\n",
        "La potencia media de la señal de corriente en un intervalo de tiempo $T$ es entonces la siguiente:\n",
        "\n",
        "$$\n",
        "\\bar{P}_i = \\frac{1}{T} \\int_0^{T} i(t)^{2}~dt\n",
        "$$\n",
        "\n",
        "Para el caso en el que $i(t)$ coincide con una señal sinusoidal,\n",
        "\n",
        "$$\n",
        "\\bar{P}_i = \\frac{1}{T_0} \\int_0^{T_0} \\left( I_{\\max}~\\sin(w_0t+\\theta) \\right)^{2}~dt\\\\\n",
        "\\bar{P}_i = \\frac{I_{\\max}^{2}}{2}\n",
        "$$\n",
        "\n",
        "Lo que es equivalente al cuadrado del [valor eficaz](https://en.wikipedia.org/wiki/Root_mean_square) de la señal.\n",
        "\n",
        "$$\n",
        "I_{RMS} = \\frac{I_{\\max}}{\\sqrt{2}}\n",
        "$$"
      ]
    },
    {
      "cell_type": "code",
      "metadata": {
        "id": "CPJJ1mcJh7aK",
        "colab": {
          "base_uri": "https://localhost:8080/",
          "height": 70
        },
        "outputId": "c95d9760-fd85-4503-c092-73076f0ebf7c"
      },
      "source": [
        "from sympy import * #importar todo sympy\n",
        "init_printing()\n",
        "t, I_max = symbols('t, I_max', real = True)\n",
        "w = symbols('w', real = True, nonzero = True)\n",
        "T0 = 2*pi/w\n",
        "x = I_max*sin(w*t)\n",
        "P = integrate(x**2, (t, 0, T0)) /T0\n",
        "print('La potencia media de la señal es:')\n",
        "P"
      ],
      "execution_count": null,
      "outputs": [
        {
          "output_type": "stream",
          "name": "stdout",
          "text": [
            "La potencia media de la señal es:\n"
          ]
        },
        {
          "output_type": "execute_result",
          "data": {
            "image/png": "[encoded data removed]",
            "text/latex": "$\\displaystyle \\frac{I_{max}^{2}}{2}$",
            "text/plain": [
              "    2\n",
              "Iₘₐₓ \n",
              "─────\n",
              "  2  "
            ]
          },
          "metadata": {},
          "execution_count": 1
        }
      ]
    },
    {
      "cell_type": "markdown",
      "metadata": {
        "id": "PH-GYMVqgqpg"
      },
      "source": [
        "La siguiente figura muestra la potencia media  e instantánea de la señal de corriente $4\\sin(2 \\pi t)$, cuando circula a través de una resistencia de 1 Ohm."
      ]
    },
    {
      "cell_type": "code",
      "metadata": {
        "id": "9kfuto9NdTJd",
        "colab": {
          "base_uri": "https://localhost:8080/",
          "height": 297
        },
        "outputId": "c0cfa8d4-c442-4f55-abcf-17cc1164b6e2"
      },
      "source": [
        "import warnings\n",
        "warnings.filterwarnings(\"ignore\")\n",
        "\n",
        "w0 = 2*pi\n",
        "T0 = T0.subs(w, w0)\n",
        "sig = 4*sin(w0*t)\n",
        "p_ins = sig ** 2\n",
        "P = integrate(sig**2, (t, 0, T0)) /T0\n",
        "\n",
        "t_limits = (t, 0, 3)\n",
        "ylim=[-5, 18]\n",
        "p1 = plot(sig, t_limits, ylim=ylim,show = False, line_color = 'orange', legend = True)\n",
        "p2 = plot(p_ins, t_limits, ylim=ylim, show = False, legend = True)\n",
        "p3 = plot(P, t_limits, ylim=ylim, show = False, line_color = 'green', legend = True)\n",
        "p1.extend(p2)\n",
        "p1.extend(p3)\n",
        "p1.show()"
      ],
      "execution_count": null,
      "outputs": [
        {
          "output_type": "display_data",
          "data": {
            "image/png": "[encoded data removed]",
            "text/plain": [
              "<Figure size 432x288 with 1 Axes>"
            ]
          },
          "metadata": {
            "needs_background": "light"
          }
        }
      ]
    },
    {
      "cell_type": "markdown",
      "metadata": {
        "id": "Aum2C5AYLsDY"
      },
      "source": [
        "## Ejercicio 1\n",
        "\n",
        "Graficar la potencia media de una impedancia $R+jwL$, cuándo es excitada por una fuente sinusoidal.\n",
        "\n",
        "Graficar la potencia media de una impedancia $R-j\\frac{1}{wC} $, cuándo es excitada por una fuente sinusoidal.\n",
        "\n",
        "Ver cuaderno [https://github.com/amalvarezme/SenalesSistemas/blob/master/1_IntroduccionSyS/6_Potencia_Circutios.ipynb](https://github.com/amalvarezme/SenalesSistemas/blob/master/1_IntroduccionSyS/6_Potencia_Circutios.ipynb) para repaso conceptos básicos potencia en circuitos."
      ]
    },
    {
      "cell_type": "markdown",
      "metadata": {
        "id": "rUhDcUsXOHGq"
      },
      "source": [
        "## Ejemplo 2\n",
        "\n",
        "Para el caso de una señal sinusoidal de amplitud $A$ y periodo fundamental $T_0$ tal que:\n",
        "$$\n",
        "v(t) = A\\cos(w_0t), ~~~ w_0 = \\frac{2\\pi}{T_0}\n",
        "$$\n",
        "\n",
        "Determinar su potencia media y energía total.\n",
        "\n",
        "$$\n",
        "\\bar{P}_v = \\frac{1}{T_0} \\int_0^{T_0} |A\\cos(w_0t)|^{2}~dt\\\\\n",
        "\\bar{P}_v = \\frac{A^{2}}{T_0} \\left[\\int_0^{T0} \\frac{1}{2} ~dt + \\int_0^{T0} \\frac{\\cos(2w_0t)}{2} ~dt  \\right]\\\\\n",
        "\\bar{P}_v = \\frac{A^{2}}{2}\n",
        "$$\n",
        "\n",
        "Debido a que la potencia de la señal es finita (siempre y cuando $A<\\infty$), su energía total es infinita.\n",
        "\n",
        "$$\n",
        "E_v \\to \\infty\n",
        "$$"
      ]
    },
    {
      "cell_type": "code",
      "metadata": {
        "id": "Nhnb5oSGmHBt",
        "colab": {
          "base_uri": "https://localhost:8080/",
          "height": 70
        },
        "outputId": "70805a7a-4169-4cb6-ed26-00063ed1621a"
      },
      "source": [
        "t = symbols('t', real = True)\n",
        "w, A = symbols('w, A', real = True, nonzero = True, nonnegative = True)\n",
        "T0 = 2*pi/w\n",
        "x = A*cos(w*t)\n",
        "Pv = integrate(x**2, (t, 0, T0)) /T0\n",
        "print('La potencia media de la señal es:')\n",
        "Pv"
      ],
      "execution_count": null,
      "outputs": [
        {
          "output_type": "stream",
          "name": "stdout",
          "text": [
            "La potencia media de la señal es:\n"
          ]
        },
        {
          "output_type": "execute_result",
          "data": {
            "image/png": "[encoded data removed]",
            "text/latex": "$\\displaystyle \\frac{A^{2}}{2}$",
            "text/plain": [
              " 2\n",
              "A \n",
              "──\n",
              "2 "
            ]
          },
          "metadata": {},
          "execution_count": 3
        }
      ]
    },
    {
      "cell_type": "code",
      "metadata": {
        "id": "6ac7OgRELA_l",
        "colab": {
          "base_uri": "https://localhost:8080/",
          "height": 70
        },
        "outputId": "6a166f0a-a4cb-4cd3-b0b1-816888da8609"
      },
      "source": [
        "T = symbols('T', real = True)\n",
        "Ev = integrate(x**2, (t, -oo, oo))\n",
        "print('\\nLa energía total de la señal es:')\n",
        "Ev"
      ],
      "execution_count": null,
      "outputs": [
        {
          "output_type": "stream",
          "name": "stdout",
          "text": [
            "\n",
            "La energía total de la señal es:\n"
          ]
        },
        {
          "output_type": "execute_result",
          "data": {
            "image/png": "[encoded data removed]",
            "text/latex": "$\\displaystyle \\infty$",
            "text/plain": [
              "∞"
            ]
          },
          "metadata": {},
          "execution_count": 4
        }
      ]
    },
    {
      "cell_type": "markdown",
      "metadata": {
        "id": "DozS0Q1PNkLM"
      },
      "source": [
        "## Ejercicio 2\n",
        "\n",
        "Discuta el concepto de valor RMS de una señal a partir de su potencia media. [Ver conceptos RMS](https://en.wikipedia.org/wiki/Root_mean_square)."
      ]
    },
    {
      "cell_type": "markdown",
      "metadata": {
        "id": "yPf0dMu4PGuB"
      },
      "source": [
        "## Ejemplo 3\n",
        "\n",
        "Para el caso de la señal $x(t) = e^{-\\alpha t}u(t)$ con $\\alpha > 0$, hallar su energía y potencia media.\n",
        "\n",
        "$$\n",
        "E_x = \\int_{-\\infty}^{\\infty} |e^{-\\alpha t}u(t)|^{2}~dt\\\\\n",
        "E_x = \\int_{0}^{\\infty} e^{-2\\alpha t}~dt\\\\\n",
        "E_x = -\\frac{1}{2\\alpha}~ e^{-2\\alpha t}~\\Big|_0^\\infty\\\\\n",
        "E_x = \\frac{1}{2\\alpha}\n",
        "$$\n",
        "\n",
        "$$\n",
        "\\bar{P}_x = \\lim_{T \\to \\infty} \\frac{1}{T} \\int_{-\\frac{T}{2}}^{\\frac{T}{2}} |e^{-\\alpha t}u(t)|^{2}~dt\\\\\n",
        "\\bar{P}_x = \\lim_{T \\to \\infty} \\frac{1}{T} \\int_{0}^{\\frac{T}{2}} e^{-2\\alpha t}~dt\\\\\n",
        "\\bar{P}_x = \\lim_{T \\to \\infty} \\frac{1}{T} \\left[  -\\frac{1}{2\\alpha}~ e^{-2\\alpha t}~\\Big|_0^\\frac{T}{2} \\right]\\\\\n",
        "\\bar{P}_x = \\lim_{T \\to \\infty} \\frac{1}{T} \\left[  -\\frac{1}{2\\alpha}~ e^{-\\alpha T} + \\frac{1}{2\\alpha} \\right]\\\\\n",
        "\\bar{P}_x = 0\n",
        "$$"
      ]
    },
    {
      "cell_type": "code",
      "metadata": {
        "id": "ZLsMQ-wnzWSG",
        "colab": {
          "base_uri": "https://localhost:8080/",
          "height": 68
        },
        "outputId": "acdb7e5b-ea8a-436a-9dd2-c1788df7c7d0"
      },
      "source": [
        "from sympy import exp\n",
        "t = symbols('t', Real = True)\n",
        "a = symbols('a', Real = True, nonzero = True, nonnegative = True)\n",
        "x = exp(-a*t)\n",
        "E = integrate(x**2, (t, 0, oo))\n",
        "print('La energía total de la señal es:')\n",
        "E"
      ],
      "execution_count": null,
      "outputs": [
        {
          "output_type": "stream",
          "name": "stdout",
          "text": [
            "La energía total de la señal es:\n"
          ]
        },
        {
          "output_type": "execute_result",
          "data": {
            "image/png": "[encoded data removed]",
            "text/latex": "$\\displaystyle \\frac{1}{2 a}$",
            "text/plain": [
              " 1 \n",
              "───\n",
              "2⋅a"
            ]
          },
          "metadata": {},
          "execution_count": 22
        }
      ]
    },
    {
      "cell_type": "code",
      "metadata": {
        "id": "I3uxPZrKO9vB",
        "colab": {
          "base_uri": "https://localhost:8080/",
          "height": 70
        },
        "outputId": "0cfbdc50-2317-42c1-8ada-1f36ac228e3c"
      },
      "source": [
        "T = symbols('T', Real = True)\n",
        "P = limit(integrate(x**2, (t, 0, T/2)) / T, T, oo)\n",
        "print('\\nLa potencia media de la señal es:')\n",
        "P"
      ],
      "execution_count": null,
      "outputs": [
        {
          "output_type": "stream",
          "name": "stdout",
          "text": [
            "\n",
            "La potencia media de la señal es:\n"
          ]
        },
        {
          "output_type": "execute_result",
          "data": {
            "image/png": "[encoded data removed]",
            "text/latex": "$\\displaystyle 0$",
            "text/plain": [
              "0"
            ]
          },
          "metadata": {},
          "execution_count": 24
        }
      ]
    },
    {
      "cell_type": "markdown",
      "metadata": {
        "id": "BnDP1jb2bmd4"
      },
      "source": [
        "## Ejemplo 4\n",
        "\n",
        "Determine la potencia y energía de la señal escalón unitario discreta $u[n]$.\n",
        "\n",
        "$$\n",
        "\\bar{P} = \\lim_{N \\to \\infty} \\frac{1}{2N+1} \\sum_{n=-N}^{N} |u[n]|^{2}\\\\\n",
        "\\bar{P} = \\lim_{N \\to \\infty} \\frac{1}{2N+1} \\sum_{n=0}^{N} 1\\\\\n",
        "\\bar{P} = \\lim_{N \\to \\infty} \\frac{N+1}{2N+1}\\\\\n",
        "\\bar{P} = \\frac{1}{2}\n",
        "$$\n",
        "\n",
        "Debido a que la potencia media de la señal es finita, su energía total es infinita.\n",
        "\n",
        "$$\n",
        "E \\to \\infty\n",
        "$$"
      ]
    },
    {
      "cell_type": "markdown",
      "metadata": {
        "id": "s8xgHCqBgsDN"
      },
      "source": [
        "## Ejercicio 3\n",
        "\n",
        "Finalmente, clasifique la señal $x(t) = e^{-\\alpha t}~t$ como de energía o de potencia. *Compruebe el resultado solucionando la integral por partes.*\n",
        "\n",
        "Ayuda: declare la función en la variable **x** en el siguiente bloque de código como se muestra a continuación.\n",
        "\n",
        "```\n",
        "x = exp(-a*t)*t\n",
        "```\n",
        "\n",
        "\n"
      ]
    },
    {
      "cell_type": "code",
      "metadata": {
        "id": "AqrtK_1SgAQh"
      },
      "source": [
        "x =   #<--- Tu linea de código va aquí\n",
        "E = integrate(x**2, (t, -oo, oo))\n",
        "print('La energía total de la señal es:')\n",
        "E\n",
        "P = limit(integrate(x**2, (t, -T/2, T/2)) / T, T, oo)\n",
        "print('\\nLa potencia media de la señal es:')\n",
        "P"
      ],
      "execution_count": null,
      "outputs": []
    },
    {
      "cell_type": "markdown",
      "metadata": {
        "id": "447k85nvPGu1"
      },
      "source": [
        "##Ejercicio 4\n",
        "\n",
        "La distancia entre dos señales $x_1(t)$ y $x_2(t)$ se puede dar en términos de la potencia media de la diferencia entre ellas; es decir, la potencia media del error.\n",
        "\n",
        "$$\n",
        "d(x_1, x_2) = \\bar{P}_{x_1-x_2}=\\lim_{T \\to \\infty} \\frac{1}{T} \\int_T |x_1(t)-x_2(t)|^{2}~dt\n",
        "$$\n",
        "\n",
        "Sea $x_1(t)$ y $x_2(t$) dos señales periódicas de periodo fundamental $T_0$ como se muestra a continuación.\n",
        "\n",
        "$$\n",
        "x_1(t) = \\cos(w_0t), ~~~ w_0 = \\frac{2\\pi}{T_0}\\\\\n",
        "x_2(t)= \\left\\{ \\begin{array}{lcc}\n",
        "             ~~~1 &   si  & 0 \\leq t < \\frac{T}{4} \\\\\n",
        "             \\\\ -1 &  si &  \\frac{T}{4} \\leq t < \\frac{3T}{4} \\\\\n",
        "             \\\\ ~~~1 &  si  & \\frac{3T}{4} \\leq t < T\n",
        "             \\end{array}\n",
        "   \\right.\n",
        "$$\n",
        "\n",
        "Determine la distancia entre las dos señales."
      ]
    },
    {
      "cell_type": "markdown",
      "metadata": {
        "id": "aaIbx0zbPN8b"
      },
      "source": [
        "## Ejercicio 5\n",
        "\n",
        "Demostrar que la norma al cuadrado de una señal equivale a su energía."
      ]
    },
    {
      "cell_type": "markdown",
      "metadata": {
        "id": "a53zWPnfXslz"
      },
      "source": [
        "**Copyright**\n",
        "\n",
        "The notebook is provided as [Open Educational Resource](https://de.wikipedia.org/wiki/Open_Educational_Resources). Feel free to use the notebook for your own educational purposes. The text is licensed under [Creative Commons Attribution 4.0](https://creativecommons.org/licenses/by/4.0/), the code of the IPython examples under the [MIT license](https://opensource.org/licenses/MIT). Please attribute the work as follows: *Signals and Systems* by Sascha Spors."
      ]
    }
  ]
}