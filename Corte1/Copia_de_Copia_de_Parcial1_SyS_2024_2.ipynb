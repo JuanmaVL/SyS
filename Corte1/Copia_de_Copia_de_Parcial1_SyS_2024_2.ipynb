{
  "nbformat": 4,
  "nbformat_minor": 0,
  "metadata": {
    "colab": {
      "private_outputs": true,
      "provenance": [],
      "include_colab_link": true
    },
    "kernelspec": {
      "name": "python3",
      "display_name": "Python 3"
    },
    "language_info": {
      "name": "python"
    }
  },
  "cells": [
    {
      "cell_type": "markdown",
      "metadata": {
        "id": "view-in-github",
        "colab_type": "text"
      },
      "source": [
        "<a href=\"https://colab.research.google.com/github/JuanmaVL/SyS/blob/main/Corte1/Copia_de_Copia_de_Parcial1_SyS_2024_2.ipynb\" target=\"_parent\"><img src=\"https://colab.research.google.com/assets/colab-badge.svg\" alt=\"Open In Colab\"/></a>"
      ]
    },
    {
      "cell_type": "markdown",
      "source": [
        "# Parcial 1: Señales y Sistemas 2024-II\n",
        "\n",
        " ## Profesor: Andrés Marino Álvarez Meza, Ph.D.\n",
        "\n",
        "\n",
        "## Departamento de Ingeniería Eléctrica, Electrónica, y Computación\n",
        "## Universidad Nacional de Colombia - sede Manizales"
      ],
      "metadata": {
        "id": "1fWMHXCqNtQw"
      }
    },
    {
      "cell_type": "markdown",
      "source": [
        "# Instrucciones\n",
        "\n",
        "-- Para recibir el crédito total, sus respuestas deben estar justificadas de manera clara, detallada y concreta, mostrando los procedimientos y razonamientos paso a paso.\n",
        "\n",
        "-- Está permitido el uso de herramientas de inteligencia artificial (IA). Si las utiliza, por favor declare explícitamente cómo fueron empleadas en la resolución de cada pregunta. Incluya los prompts (consultas) y las iteraciones realizadas con las IA durante el desarrollo del parcial.\n",
        "\n",
        "-- La entrega del parcial debe realizarse antes de las 23:59 del 5 de diciembre de 2024 al correo electrónico amalvarezme@unal.edu.co mediante un enlace de GitHub.\n",
        "\n",
        "-- Los códigos deben estar debidamente comentados en las celdas correspondientes y explicados en celdas de texto (markdown). Los códigos que no incluyan comentarios ni discusiones no serán considerados en la evaluación final."
      ],
      "metadata": {
        "id": "15xl7tLEP6YA"
      }
    },
    {
      "cell_type": "markdown",
      "source": [
        "# Pregunta 1 (valor 2.5 puntos)\n",
        "\n",
        "Cuál es la señal obtenida en tiempo discreto al utilizar un conversor análogo digital de 5 bits con frecuencia de muestreo de $5kHz$, entrada análoga de -3.3 a 3.3 [v], aplicado a la señal continua $x(t) = 0.3 \\cos(1000\\pi t-\\pi/4) +\n",
        "0.6 \\sin(2000\\pi t) + 0.1 \\cos(11000\\pi t-\\pi)$?. Realizar la simulación del proceso de digitalización incluyendo al menos 3 ciclos de la señal $x(t)$.\n",
        "\n",
        "En caso de que la digitalización no sea apropiada, diseñe e implemente un conversor adecuado para la señal estudiada. El convesor debe permitir configurar la cantidad de bits, rango de la entrada análoga y la frecuencia de muestreo, indicándole al usuario si dicha frecuencia es apropiada o no, y graficar la señal continua, discreta y digital."
      ],
      "metadata": {
        "id": "jmI0zzVMRLNx"
      }
    },
    {
      "cell_type": "code",
      "source": [
        "import numpy as np #Arreglos\n",
        "import matplotlib.pyplot as plt #Libreria\n",
        "from scipy.spatial.distance import cdist #Función distancia"
      ],
      "metadata": {
        "id": "CeN6-zsk6NS9"
      },
      "execution_count": null,
      "outputs": []
    },
    {
      "cell_type": "code",
      "source": [
        "A1 = 0.3 #Amplitud 1\n",
        "A2 = 0.6 #Amplitud 2\n",
        "A3 = 0.1 #Amplitud 3\n",
        "PH1 = np.pi/4 #Fase 1\n",
        "PH3 = np.pi #Fase 3\n",
        "\n",
        "w1 = 1000*np.pi #velocidad angular 1\n",
        "w2 = 2000*np.pi #velocidad angular 2\n",
        "w3 = 11000*np.pi #velocidad angular 3\n",
        "\n",
        "T1 = 2*np.pi/w1 #Periodo 1\n",
        "T2 = 2*np.pi/w2 #Periodo 2\n",
        "T3 = 2*np.pi/w3 #Periodo 3\n",
        "\n",
        "F1 = w1/(2*np.pi) #Frecuencia 1\n",
        "F2 = w2/(2*np.pi) #Frecuencia 2\n",
        "F3 = w3/(2*np.pi) #Frecuencia 3\n",
        "\n",
        "FS = 3*max(F1,F2,F3) #Se define la frecuencia de muestreo nyquist\n",
        "T = 1/500 #Periodo fundamental\n",
        "Ts = 1/FS #Periodo de muestreo\n",
        "\n",
        "print(\"Las frecuencias son:\", F1,F2,F3)\n",
        "print(\"Los periodos son:\", T1,T2,T3)\n",
        "print(\"La frecuencia de muestreo es:\", FS)\n",
        "print(\"El periodo fundamental es:\", T)"
      ],
      "metadata": {
        "id": "wtvbgBaH6S__"
      },
      "execution_count": null,
      "outputs": []
    },
    {
      "cell_type": "code",
      "source": [
        "#Definir el vector tiempo\n",
        "ti = 0 #tiempo inicial\n",
        "tf = 3*T #tiempo final\n",
        "tv = np.arange(ti,tf,Ts)"
      ],
      "metadata": {
        "id": "i45a-9Bd9n9f"
      },
      "execution_count": null,
      "outputs": []
    },
    {
      "cell_type": "code",
      "source": [
        "#Se construye la señal\n",
        "X1 = A1*np.cos(w1*tv-PH1)\n",
        "X2 = A2*np.sin(w2*tv)\n",
        "X3 = A3*np.cos(w3*tv-PH3)\n",
        "X = X1 + X2 + X3\n",
        "plt.figure(figsize=(20, 10))\n",
        "plt.plot(tv,X,'r',label='$X(t) = 0.3\\cos(1000π*t-π/4)- 0.6 \\sin(2000πt)+ 0.1\\cos(11000πt-π)$')\n",
        "plt.plot(tv,X1,'b',label='$x_1(t) = 0.3\\cos(1000πt-π/4)$')\n",
        "plt.plot(tv,X2,'g',label='$x_2(t) = 0.6\\sin(2000πt)$')\n",
        "plt.plot(tv,X3,'y',label='$x_3(t) = 0.1\\cos(11000πt-π)$')\n",
        "plt.xlabel('Tiempo (s)')\n",
        "plt.ylabel('Amplitud')\n",
        "plt.grid(True)\n",
        "plt.legend()\n",
        "plt.show()"
      ],
      "metadata": {
        "id": "0oYKPPsm__5S"
      },
      "execution_count": null,
      "outputs": []
    },
    {
      "cell_type": "code",
      "source": [
        "#Digitalizar la señal usando el cero pendiente\n",
        "\n",
        "y_min = 0 # valor min después de cero y pendiente\n",
        "y_max = 10 # valor max después de cero y pendiente\n",
        "#crear funcion en python\n",
        "def my_ceropen(X,ymin,ymax): #en general se pueden definir valores por defecto\n",
        "  '''\n",
        "  Codigo base para simular proceso de cero y pendiente\n",
        "  Se ingresa arreglo de numpy y los valores min  y max despues de cero y pendiente\n",
        "  '''\n",
        "  xmax = max(X) # x.max()\n",
        "  xmin = min(X) # x.min()\n",
        "  m = (ymax - ymin)/(xmax - xmin)\n",
        "  c = ymin - m*xmin\n",
        "  yv = m*X + c\n",
        "  return yv"
      ],
      "metadata": {
        "id": "gbf5e0ZQCkWl"
      },
      "execution_count": null,
      "outputs": []
    },
    {
      "cell_type": "code",
      "source": [
        "ymin = -3.3\n",
        "ymax = 3.3\n",
        "xcp = my_ceropen(X,ymin,ymax)\n",
        "plt.plot(tv,xcp,c='r',label='cero_pendiente')\n",
        "plt.legend()\n",
        "plt.grid(True)\n",
        "plt.show()"
      ],
      "metadata": {
        "id": "gxxJ6ScOCy5x"
      },
      "execution_count": null,
      "outputs": []
    },
    {
      "cell_type": "code",
      "source": [
        "nbits = 5\n",
        "num_est = 2**nbits # número de estados de cuantificación\n",
        "vq = np.linspace(ymin,ymax,num_est) # vector de cauntizacion"
      ],
      "metadata": {
        "id": "4HtFxnkVC4Ls"
      },
      "execution_count": null,
      "outputs": []
    },
    {
      "cell_type": "code",
      "source": [
        "#función cuantización punto a punto\n",
        "\n",
        "def my_cuantizador(yn, vq) : #yn punto a #cuantizar, vq vector de estados\n",
        "\n",
        "  Ne = vq.shape[0] #tamaño vector de estados\n",
        "  dn = cdist(yn.reshape(-1,1),vq.reshape(-1,1))#distancia yn a vector estados, reshape(-1,1) asegura vectores columna para poder utilizar cdist\n",
        "  ind = np.argmin(dn) #posición distancia min\n",
        "  return vq[ind]"
      ],
      "metadata": {
        "id": "O_oPFntNI8zR"
      },
      "execution_count": null,
      "outputs": []
    },
    {
      "cell_type": "code",
      "source": [
        "#Recorrer el vector descretizado para cuantizar\n",
        "for i in range(xcp.shape[0]):\n",
        "   if i==0: #primera muestra\n",
        "     yq = my_cuantizador(xcp[i],vq)\n",
        "   else:\n",
        "     yq = np.append(yq,my_cuantizador(xcp[i],vq)) #apilar datos cuantizando si i>0"
      ],
      "metadata": {
        "id": "6wN8DUfJJAe8"
      },
      "execution_count": null,
      "outputs": []
    },
    {
      "cell_type": "code",
      "source": [
        "plt.plot(tv,xcp,c='r', label='xcp')#cs continua\n",
        "\n",
        "plt.stem(tv,xcp, label='xcp_dis')#cs discreta\n",
        "\n",
        "#estados de cuantización\n",
        "\n",
        "for v in vq:\n",
        "  plt.plot(tv,v*np.ones(len(tv)))\n",
        "\n",
        "# graficar señal Digital (discreta y cuantizada)\n",
        "\n",
        "plt.plot(tv,yq,c='y',marker='o',label='ydig', linewidth=2)\n",
        "\n",
        "plt.legend()\n",
        "plt.grid()\n",
        "plt.xlabel('t')\n",
        "plt.ylabel('Amplitud')\n",
        "plt.show()"
      ],
      "metadata": {
        "id": "kovcdlPMJDCP"
      },
      "execution_count": null,
      "outputs": []
    },
    {
      "cell_type": "markdown",
      "source": [
        "# Pregunta 2 (valor 2.5 puntos)\n",
        "\n",
        "Se dispone de un sistema modelado como una \"caja negra\" (ver celdas de código). Su tarea es analizar y comprobar mediante simulaciones si el sistema cumple con las propiedades de linealidad e invariancia en el tiempo. En caso de que el sistema sea lineal e invariante con el tiempo, determine su respuesta al impulso y utilice esta respuesta para calcular la salida del sistema ante la siguiente señal:\n",
        "\n",
        "$x[n] = \\sin[100 \\pi n ] + \\sin[600 \\pi n]$"
      ],
      "metadata": {
        "id": "5Za-WbLpSele"
      }
    },
    {
      "cell_type": "code",
      "source": [
        "# cargar sistema\n",
        "FILEID = \"1J9rhh0wWHZSBd8XmWGt1ZpCsMDuoUFmm\"\n",
        "!wget --load-cookies /tmp/cookies.txt \"https://docs.google.com/uc?export=download&confirm=$(wget --quiet --save-cookies /tmp/cookies.txt --keep-session-cookies --no-check-certificate 'https://docs.google.com/uc?export=download&id='$FILEID -O- | sed -rn 's/.*confirm=([0-9A-Za-z_]+).*/\\1\\n/p')&id=\"$FILEID -O P1_model.zip && rm -rf /tmp/cookies.txt\n",
        "!unzip -o P1_model.zip\n",
        "!dir"
      ],
      "metadata": {
        "id": "6yJMMFK6zo5K"
      },
      "execution_count": null,
      "outputs": []
    },
    {
      "cell_type": "code",
      "source": [
        "import numpy as np\n",
        "import matplotlib.pyplot as plt\n",
        "import joblib\n",
        "from P1_model import system_\n",
        "from scipy.signal import firwin, freqz, lfilter, filtfilt\n",
        "\n",
        "#sistema pregunta 2\n",
        "my_system = system_.My_System()\n",
        "my_system.create_()\n",
        "fs = my_system.fs #frecuencia de muestreo\n",
        "t = np.arange(-0.01, 0.02, 1/fs)  # Tiempo\n",
        "signal_u = np.heaviside(t,1) # función heaviside\n",
        "y_u = my_system.predict(signal_u)\n",
        "\n",
        "\n",
        "# Visualización de las señales\n",
        "fig, axs = plt.subplots(2,1)\n",
        "axs[0].stem(t, signal_u, label='Señal de entrada')\n",
        "axs[0].set_xlabel('Tiempo (s)')\n",
        "axs[0].set_ylabel('Amplitud')\n",
        "axs[0].legend()\n",
        "axs[0].grid()\n",
        "axs[1].stem(t,y_u, label='Señal salida')\n",
        "axs[1].set_xlabel('Tiempo (s)')\n",
        "axs[1].set_ylabel('Amplitud')\n",
        "axs[1].legend()\n",
        "axs[1].grid()\n",
        "plt.tight_layout()\n",
        "plt.show()"
      ],
      "metadata": {
        "id": "nUX7Vr1fTUYW"
      },
      "execution_count": null,
      "outputs": []
    },
    {
      "cell_type": "code",
      "source": [
        "#Se verifica la linealidad\n",
        "a = 2\n",
        "su_esca = a*signal_u\n",
        "\n",
        "y_esca = my_system.predict(su_esca)\n",
        "\n",
        "y_esca_2 = a*y_u\n",
        "\n",
        "plt.figure(figsize=(20, 10))\n",
        "plt.plot(t,y_u,label='y_u')\n",
        "plt.plot(t,y_esca,label='y_esca')\n",
        "plt.plot(t,y_esca_2,label='y_esca_2',linestyle=\"--\")\n",
        "plt.legend()\n",
        "plt.grid()"
      ],
      "metadata": {
        "id": "dPn4P2zzVe_L"
      },
      "execution_count": null,
      "outputs": []
    },
    {
      "cell_type": "code",
      "execution_count": null,
      "metadata": {
        "id": "DSfPWCpPNJa4"
      },
      "outputs": [],
      "source": [
        "#Se verifica si la señal es invariante en el tiempo\n",
        "\n",
        "# Desplazar la señal de entrada\n",
        "k= 0.05  # Número de muestras a desplazar\n",
        "x=np.heaviside(t-k,1) #Función heaviside\n",
        "\n",
        "# Obtener la salida del sistema para la señal desplazada\n",
        "y_u_shifted = my_system.predict(x)\n",
        "\n",
        "\n",
        "# Visualizar las señales\n",
        "plt.figure(figsize=(20, 10))\n",
        "plt.figure()\n",
        "plt.plot(t, signal_u, label='Señal original')\n",
        "plt.legend()\n",
        "plt.title('Señal de entrada')\n",
        "plt.grid()\n",
        "\n",
        "plt.figure(figsize=(20, 10))\n",
        "plt.figure()\n",
        "plt.plot(t, y_u, label='Salida original')\n",
        "plt.legend()\n",
        "plt.title('Salida del sistema')\n",
        "plt.grid()\n",
        "\n",
        "plt.show()"
      ]
    },
    {
      "cell_type": "code",
      "source": [
        "n = t*fs\n",
        "hu = y_u\n",
        "h = np.diff(hu).reshape(-1,1)\n",
        "x = np.sin(100*np.pi*n) + np.sin(600*np.pi*n)\n",
        "plt.figure()\n",
        "plt.stem(t, x, label='Señal de entrada')\n",
        "plt.xlabel('Tiempo (s)')\n",
        "plt.ylabel('Amplitud')\n",
        "plt.legend()\n",
        "plt.grid()"
      ],
      "metadata": {
        "id": "yFDqtWqqhq8L"
      },
      "execution_count": null,
      "outputs": []
    },
    {
      "cell_type": "code",
      "source": [
        "# Realizar la convolución\n",
        "# h fue redimensionado a un arreglo 2D, convolve espera arreglos 1D\n",
        "# aplanar h a un arreglo 1D\n",
        "y_salida = np.convolve(x, h.flatten(), mode='same')\n",
        "\n",
        "# Visualización de la salida\n",
        "plt.figure()\n",
        "plt.stem(t, y_salida[:len(t)], label='Salida del sistema')\n",
        "plt.xlabel('Tiempo (s)')\n",
        "plt.ylabel('Amplitud')\n",
        "plt.legend()\n",
        "plt.grid()\n",
        "plt.title('Salida del sistema y[n]')\n",
        "plt.show()"
      ],
      "metadata": {
        "id": "PvvMQP2ml64R"
      },
      "execution_count": null,
      "outputs": []
    },
    {
      "cell_type": "code",
      "source": [],
      "metadata": {
        "id": "SfQGZTi13WjY"
      },
      "execution_count": null,
      "outputs": []
    }
  ]
}