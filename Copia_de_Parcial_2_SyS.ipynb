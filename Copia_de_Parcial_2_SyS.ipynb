{
  "nbformat": 4,
  "nbformat_minor": 0,
  "metadata": {
    "colab": {
      "provenance": [],
      "include_colab_link": true
    },
    "kernelspec": {
      "name": "python3",
      "display_name": "Python 3"
    },
    "language_info": {
      "name": "python"
    }
  },
  "cells": [
    {
      "cell_type": "markdown",
      "metadata": {
        "id": "view-in-github",
        "colab_type": "text"
      },
      "source": [
        "<a href=\"https://colab.research.google.com/github/JuanmaVL/SyS/blob/main/Copia_de_Parcial_2_SyS.ipynb\" target=\"_parent\"><img src=\"https://colab.research.google.com/assets/colab-badge.svg\" alt=\"Open In Colab\"/></a>"
      ]
    },
    {
      "cell_type": "markdown",
      "source": [
        "El siguiente bloque de código instala varias bibliotecas necesarias para el proyecto:\n",
        "\n",
        "- **`streamlit`**: Framework para crear aplicaciones web interactivas en Python.\n",
        "- **`localtunnel`** (vía `npm`): Permite exponer un puerto local a la web.\n",
        "- **`yt-dlp`**: Herramienta avanzada para descargar videos de YouTube y otras plataformas.\n",
        "- **`pyngrok`**: Facilita la creación de túneles seguros con `ngrok`, útil para exponer servicios locales.\n",
        "- **`sympy`**: Biblioteca para cálculos simbólicos en matemáticas.\n",
        "- **`soundfile`**: Permite leer y escribir archivos de audio en distintos formatos.\n",
        "- **`pytube`**: Otra biblioteca para descargar videos de YouTube.\n",
        "- **`ffmpeg`**: Software para procesamiento y conversión de archivos de audio y video.\n",
        "- **`pandas, gspread, oauth2client`**: Facilitan la manipulación de datos y la conexión con Google Sheets.\n",
        "- **`numpy, matplotlib, scipy`**: Librerías científicas para análisis numérico y visualización.\n",
        "\n",
        "Se reinstala `yt-dlp` desde su repositorio de GitHub para asegurar la versión más reciente.\n",
        "Finalmente, se instalan todas las bibliotecas necesarias en una única línea para evitar posibles conflictos de dependencias."
      ],
      "metadata": {
        "id": "xKsA9pn3gwOg"
      }
    },
    {
      "cell_type": "code",
      "source": [
        "!pip install streamlit -q\n",
        "!npm install localtunnel\n",
        "!python3 -m pip install --force-reinstall https://github.com/yt-dlp/yt-dlp/archive/master.tar.gz\n",
        "!pip install pyngrok\n",
        "!pip install sympy --upgrade\n",
        "!pip install yt-dlp\n",
        "!pip install soundfile\n",
        "!pip install pytube\n",
        "!pip install --upgrade pytube\n",
        "!apt-get install ffmpeg\n",
        "!pip install pandas gspread oauth2client\n",
        "!pip install streamlit yt-dlp soundfile numpy matplotlib scipy pandas"
      ],
      "metadata": {
        "id": "zOX7Fp60g0Iq",
        "outputId": "800242a2-8f2f-4d6e-fb22-628c6413b9a8",
        "colab": {
          "base_uri": "https://localhost:8080/"
        }
      },
      "execution_count": 11,
      "outputs": [
        {
          "output_type": "stream",
          "name": "stdout",
          "text": [
            "\u001b[1G\u001b[0K⠙\u001b[1G\u001b[0K⠹\u001b[1G\u001b[0K⠸\u001b[1G\u001b[0K⠼\u001b[1G\u001b[0K\n",
            "up to date, audited 23 packages in 921ms\n",
            "\u001b[1G\u001b[0K⠼\u001b[1G\u001b[0K\n",
            "\u001b[1G\u001b[0K⠼\u001b[1G\u001b[0K3 packages are looking for funding\n",
            "\u001b[1G\u001b[0K⠼\u001b[1G\u001b[0K  run `npm fund` for details\n",
            "\u001b[1G\u001b[0K⠼\u001b[1G\u001b[0K\n",
            "2 \u001b[33m\u001b[1mmoderate\u001b[22m\u001b[39m severity vulnerabilities\n",
            "\n",
            "To address all issues (including breaking changes), run:\n",
            "  npm audit fix --force\n",
            "\n",
            "Run `npm audit` for details.\n",
            "\u001b[1G\u001b[0K⠴\u001b[1G\u001b[0KCollecting https://github.com/yt-dlp/yt-dlp/archive/master.tar.gz\n",
            "  Using cached https://github.com/yt-dlp/yt-dlp/archive/master.tar.gz (2.7 MB)\n",
            "  Installing build dependencies ... \u001b[?25l\u001b[?25hdone\n",
            "  Getting requirements to build wheel ... \u001b[?25l\u001b[?25hdone\n",
            "  Preparing metadata (pyproject.toml) ... \u001b[?25l\u001b[?25hdone\n",
            "Building wheels for collected packages: yt-dlp\n",
            "  Building wheel for yt-dlp (pyproject.toml) ... \u001b[?25l\u001b[?25hdone\n",
            "  Created wheel for yt-dlp: filename=yt_dlp-2025.2.19-py3-none-any.whl size=2942332 sha256=f500a5225037aa34be3dd25f330695fb74260215d20405386392964443b7e526\n",
            "  Stored in directory: /tmp/pip-ephem-wheel-cache-81mvaz7h/wheels/2d/79/97/7209650ef73114e0fe0603480da012ad3afacb9cae6b8acd9a\n",
            "Successfully built yt-dlp\n",
            "Installing collected packages: yt-dlp\n",
            "  Attempting uninstall: yt-dlp\n",
            "    Found existing installation: yt-dlp 2025.2.19\n",
            "    Uninstalling yt-dlp-2025.2.19:\n",
            "      Successfully uninstalled yt-dlp-2025.2.19\n",
            "Successfully installed yt-dlp-2025.2.19\n",
            "Requirement already satisfied: pyngrok in /usr/local/lib/python3.11/dist-packages (7.2.3)\n",
            "Requirement already satisfied: PyYAML>=5.1 in /usr/local/lib/python3.11/dist-packages (from pyngrok) (6.0.2)\n",
            "Requirement already satisfied: sympy in /usr/local/lib/python3.11/dist-packages (1.13.3)\n",
            "Requirement already satisfied: mpmath<1.4,>=1.1.0 in /usr/local/lib/python3.11/dist-packages (from sympy) (1.3.0)\n",
            "Requirement already satisfied: yt-dlp in /usr/local/lib/python3.11/dist-packages (2025.2.19)\n",
            "Requirement already satisfied: soundfile in /usr/local/lib/python3.11/dist-packages (0.13.1)\n",
            "Requirement already satisfied: cffi>=1.0 in /usr/local/lib/python3.11/dist-packages (from soundfile) (1.17.1)\n",
            "Requirement already satisfied: numpy in /usr/local/lib/python3.11/dist-packages (from soundfile) (1.26.4)\n",
            "Requirement already satisfied: pycparser in /usr/local/lib/python3.11/dist-packages (from cffi>=1.0->soundfile) (2.22)\n",
            "Requirement already satisfied: pytube in /usr/local/lib/python3.11/dist-packages (15.0.0)\n",
            "Requirement already satisfied: pytube in /usr/local/lib/python3.11/dist-packages (15.0.0)\n",
            "Reading package lists... Done\n",
            "Building dependency tree... Done\n",
            "Reading state information... Done\n",
            "ffmpeg is already the newest version (7:4.4.2-0ubuntu0.22.04.1).\n",
            "0 upgraded, 0 newly installed, 0 to remove and 29 not upgraded.\n",
            "Requirement already satisfied: pandas in /usr/local/lib/python3.11/dist-packages (2.2.2)\n",
            "Requirement already satisfied: gspread in /usr/local/lib/python3.11/dist-packages (6.1.4)\n",
            "Requirement already satisfied: oauth2client in /usr/local/lib/python3.11/dist-packages (4.1.3)\n",
            "Requirement already satisfied: numpy>=1.23.2 in /usr/local/lib/python3.11/dist-packages (from pandas) (1.26.4)\n",
            "Requirement already satisfied: python-dateutil>=2.8.2 in /usr/local/lib/python3.11/dist-packages (from pandas) (2.8.2)\n",
            "Requirement already satisfied: pytz>=2020.1 in /usr/local/lib/python3.11/dist-packages (from pandas) (2025.1)\n",
            "Requirement already satisfied: tzdata>=2022.7 in /usr/local/lib/python3.11/dist-packages (from pandas) (2025.1)\n",
            "Requirement already satisfied: google-auth>=1.12.0 in /usr/local/lib/python3.11/dist-packages (from gspread) (2.27.0)\n",
            "Requirement already satisfied: google-auth-oauthlib>=0.4.1 in /usr/local/lib/python3.11/dist-packages (from gspread) (1.2.1)\n",
            "Requirement already satisfied: httplib2>=0.9.1 in /usr/local/lib/python3.11/dist-packages (from oauth2client) (0.22.0)\n",
            "Requirement already satisfied: pyasn1>=0.1.7 in /usr/local/lib/python3.11/dist-packages (from oauth2client) (0.6.1)\n",
            "Requirement already satisfied: pyasn1-modules>=0.0.5 in /usr/local/lib/python3.11/dist-packages (from oauth2client) (0.4.1)\n",
            "Requirement already satisfied: rsa>=3.1.4 in /usr/local/lib/python3.11/dist-packages (from oauth2client) (4.9)\n",
            "Requirement already satisfied: six>=1.6.1 in /usr/local/lib/python3.11/dist-packages (from oauth2client) (1.17.0)\n",
            "Requirement already satisfied: cachetools<6.0,>=2.0.0 in /usr/local/lib/python3.11/dist-packages (from google-auth>=1.12.0->gspread) (5.5.2)\n",
            "Requirement already satisfied: requests-oauthlib>=0.7.0 in /usr/local/lib/python3.11/dist-packages (from google-auth-oauthlib>=0.4.1->gspread) (2.0.0)\n",
            "Requirement already satisfied: pyparsing!=3.0.0,!=3.0.1,!=3.0.2,!=3.0.3,<4,>=2.4.2 in /usr/local/lib/python3.11/dist-packages (from httplib2>=0.9.1->oauth2client) (3.2.1)\n",
            "Requirement already satisfied: oauthlib>=3.0.0 in /usr/local/lib/python3.11/dist-packages (from requests-oauthlib>=0.7.0->google-auth-oauthlib>=0.4.1->gspread) (3.2.2)\n",
            "Requirement already satisfied: requests>=2.0.0 in /usr/local/lib/python3.11/dist-packages (from requests-oauthlib>=0.7.0->google-auth-oauthlib>=0.4.1->gspread) (2.32.3)\n",
            "Requirement already satisfied: charset-normalizer<4,>=2 in /usr/local/lib/python3.11/dist-packages (from requests>=2.0.0->requests-oauthlib>=0.7.0->google-auth-oauthlib>=0.4.1->gspread) (3.4.1)\n",
            "Requirement already satisfied: idna<4,>=2.5 in /usr/local/lib/python3.11/dist-packages (from requests>=2.0.0->requests-oauthlib>=0.7.0->google-auth-oauthlib>=0.4.1->gspread) (3.10)\n",
            "Requirement already satisfied: urllib3<3,>=1.21.1 in /usr/local/lib/python3.11/dist-packages (from requests>=2.0.0->requests-oauthlib>=0.7.0->google-auth-oauthlib>=0.4.1->gspread) (2.3.0)\n",
            "Requirement already satisfied: certifi>=2017.4.17 in /usr/local/lib/python3.11/dist-packages (from requests>=2.0.0->requests-oauthlib>=0.7.0->google-auth-oauthlib>=0.4.1->gspread) (2025.1.31)\n",
            "Requirement already satisfied: streamlit in /usr/local/lib/python3.11/dist-packages (1.42.2)\n",
            "Requirement already satisfied: yt-dlp in /usr/local/lib/python3.11/dist-packages (2025.2.19)\n",
            "Requirement already satisfied: soundfile in /usr/local/lib/python3.11/dist-packages (0.13.1)\n",
            "Requirement already satisfied: numpy in /usr/local/lib/python3.11/dist-packages (1.26.4)\n",
            "Requirement already satisfied: matplotlib in /usr/local/lib/python3.11/dist-packages (3.10.0)\n",
            "Requirement already satisfied: scipy in /usr/local/lib/python3.11/dist-packages (1.13.1)\n",
            "Requirement already satisfied: pandas in /usr/local/lib/python3.11/dist-packages (2.2.2)\n",
            "Requirement already satisfied: altair<6,>=4.0 in /usr/local/lib/python3.11/dist-packages (from streamlit) (5.5.0)\n",
            "Requirement already satisfied: blinker<2,>=1.0.0 in /usr/local/lib/python3.11/dist-packages (from streamlit) (1.9.0)\n",
            "Requirement already satisfied: cachetools<6,>=4.0 in /usr/local/lib/python3.11/dist-packages (from streamlit) (5.5.2)\n",
            "Requirement already satisfied: click<9,>=7.0 in /usr/local/lib/python3.11/dist-packages (from streamlit) (8.1.8)\n",
            "Requirement already satisfied: packaging<25,>=20 in /usr/local/lib/python3.11/dist-packages (from streamlit) (24.2)\n",
            "Requirement already satisfied: pillow<12,>=7.1.0 in /usr/local/lib/python3.11/dist-packages (from streamlit) (11.1.0)\n",
            "Requirement already satisfied: protobuf<6,>=3.20 in /usr/local/lib/python3.11/dist-packages (from streamlit) (4.25.6)\n",
            "Requirement already satisfied: pyarrow>=7.0 in /usr/local/lib/python3.11/dist-packages (from streamlit) (18.1.0)\n",
            "Requirement already satisfied: requests<3,>=2.27 in /usr/local/lib/python3.11/dist-packages (from streamlit) (2.32.3)\n",
            "Requirement already satisfied: rich<14,>=10.14.0 in /usr/local/lib/python3.11/dist-packages (from streamlit) (13.9.4)\n",
            "Requirement already satisfied: tenacity<10,>=8.1.0 in /usr/local/lib/python3.11/dist-packages (from streamlit) (9.0.0)\n",
            "Requirement already satisfied: toml<2,>=0.10.1 in /usr/local/lib/python3.11/dist-packages (from streamlit) (0.10.2)\n",
            "Requirement already satisfied: typing-extensions<5,>=4.4.0 in /usr/local/lib/python3.11/dist-packages (from streamlit) (4.12.2)\n",
            "Requirement already satisfied: watchdog<7,>=2.1.5 in /usr/local/lib/python3.11/dist-packages (from streamlit) (6.0.0)\n",
            "Requirement already satisfied: gitpython!=3.1.19,<4,>=3.0.7 in /usr/local/lib/python3.11/dist-packages (from streamlit) (3.1.44)\n",
            "Requirement already satisfied: pydeck<1,>=0.8.0b4 in /usr/local/lib/python3.11/dist-packages (from streamlit) (0.9.1)\n",
            "Requirement already satisfied: tornado<7,>=6.0.3 in /usr/local/lib/python3.11/dist-packages (from streamlit) (6.4.2)\n",
            "Requirement already satisfied: cffi>=1.0 in /usr/local/lib/python3.11/dist-packages (from soundfile) (1.17.1)\n",
            "Requirement already satisfied: contourpy>=1.0.1 in /usr/local/lib/python3.11/dist-packages (from matplotlib) (1.3.1)\n",
            "Requirement already satisfied: cycler>=0.10 in /usr/local/lib/python3.11/dist-packages (from matplotlib) (0.12.1)\n",
            "Requirement already satisfied: fonttools>=4.22.0 in /usr/local/lib/python3.11/dist-packages (from matplotlib) (4.56.0)\n",
            "Requirement already satisfied: kiwisolver>=1.3.1 in /usr/local/lib/python3.11/dist-packages (from matplotlib) (1.4.8)\n",
            "Requirement already satisfied: pyparsing>=2.3.1 in /usr/local/lib/python3.11/dist-packages (from matplotlib) (3.2.1)\n",
            "Requirement already satisfied: python-dateutil>=2.7 in /usr/local/lib/python3.11/dist-packages (from matplotlib) (2.8.2)\n",
            "Requirement already satisfied: pytz>=2020.1 in /usr/local/lib/python3.11/dist-packages (from pandas) (2025.1)\n",
            "Requirement already satisfied: tzdata>=2022.7 in /usr/local/lib/python3.11/dist-packages (from pandas) (2025.1)\n",
            "Requirement already satisfied: jinja2 in /usr/local/lib/python3.11/dist-packages (from altair<6,>=4.0->streamlit) (3.1.5)\n",
            "Requirement already satisfied: jsonschema>=3.0 in /usr/local/lib/python3.11/dist-packages (from altair<6,>=4.0->streamlit) (4.23.0)\n",
            "Requirement already satisfied: narwhals>=1.14.2 in /usr/local/lib/python3.11/dist-packages (from altair<6,>=4.0->streamlit) (1.27.1)\n",
            "Requirement already satisfied: pycparser in /usr/local/lib/python3.11/dist-packages (from cffi>=1.0->soundfile) (2.22)\n",
            "Requirement already satisfied: gitdb<5,>=4.0.1 in /usr/local/lib/python3.11/dist-packages (from gitpython!=3.1.19,<4,>=3.0.7->streamlit) (4.0.12)\n",
            "Requirement already satisfied: six>=1.5 in /usr/local/lib/python3.11/dist-packages (from python-dateutil>=2.7->matplotlib) (1.17.0)\n",
            "Requirement already satisfied: charset-normalizer<4,>=2 in /usr/local/lib/python3.11/dist-packages (from requests<3,>=2.27->streamlit) (3.4.1)\n",
            "Requirement already satisfied: idna<4,>=2.5 in /usr/local/lib/python3.11/dist-packages (from requests<3,>=2.27->streamlit) (3.10)\n",
            "Requirement already satisfied: urllib3<3,>=1.21.1 in /usr/local/lib/python3.11/dist-packages (from requests<3,>=2.27->streamlit) (2.3.0)\n",
            "Requirement already satisfied: certifi>=2017.4.17 in /usr/local/lib/python3.11/dist-packages (from requests<3,>=2.27->streamlit) (2025.1.31)\n",
            "Requirement already satisfied: markdown-it-py>=2.2.0 in /usr/local/lib/python3.11/dist-packages (from rich<14,>=10.14.0->streamlit) (3.0.0)\n",
            "Requirement already satisfied: pygments<3.0.0,>=2.13.0 in /usr/local/lib/python3.11/dist-packages (from rich<14,>=10.14.0->streamlit) (2.18.0)\n",
            "Requirement already satisfied: smmap<6,>=3.0.1 in /usr/local/lib/python3.11/dist-packages (from gitdb<5,>=4.0.1->gitpython!=3.1.19,<4,>=3.0.7->streamlit) (5.0.2)\n",
            "Requirement already satisfied: MarkupSafe>=2.0 in /usr/local/lib/python3.11/dist-packages (from jinja2->altair<6,>=4.0->streamlit) (3.0.2)\n",
            "Requirement already satisfied: attrs>=22.2.0 in /usr/local/lib/python3.11/dist-packages (from jsonschema>=3.0->altair<6,>=4.0->streamlit) (25.1.0)\n",
            "Requirement already satisfied: jsonschema-specifications>=2023.03.6 in /usr/local/lib/python3.11/dist-packages (from jsonschema>=3.0->altair<6,>=4.0->streamlit) (2024.10.1)\n",
            "Requirement already satisfied: referencing>=0.28.4 in /usr/local/lib/python3.11/dist-packages (from jsonschema>=3.0->altair<6,>=4.0->streamlit) (0.36.2)\n",
            "Requirement already satisfied: rpds-py>=0.7.1 in /usr/local/lib/python3.11/dist-packages (from jsonschema>=3.0->altair<6,>=4.0->streamlit) (0.23.0)\n",
            "Requirement already satisfied: mdurl~=0.1 in /usr/local/lib/python3.11/dist-packages (from markdown-it-py>=2.2.0->rich<14,>=10.14.0->streamlit) (0.1.2)\n"
          ]
        }
      ]
    },
    {
      "cell_type": "code",
      "source": [
        "from pyngrok import ngrok\n",
        "\n",
        "# Detener todos los túneles activos\n",
        "ngrok.kill()\n"
      ],
      "metadata": {
        "id": "c8Ge2MM-kdML"
      },
      "execution_count": 12,
      "outputs": []
    },
    {
      "cell_type": "markdown",
      "source": [
        "Este código en Python, utilizando Streamlit, implementa una aplicación interactiva para el análisis y reconstrucción de señales mediante la Serie de Fourier. La aplicación permite al usuario ingresar dos parámetros: la amplitud $( A )$ y la frecuencia $\\ F_o $, que definen la señal de entrada dada por $\\ x(t) = |A \\cos(2\\pi F_o t)|^2 $. Se genera un vector de tiempo adecuado para la señal y se grafica su representación en función del tiempo. Luego, el usuario puede seleccionar el número de armónicos para la reconstrucción de la señal utilizando un control deslizante. Se calculan los coeficientes de Fourier $\\ c_n $, donde solo los términos de $\\ n = 0, \\pm 2 $ tienen valores distintos de cero, y se muestra el espectro en términos de magnitud y fase. Finalmente, se reconstruye la señal a partir de estos coeficientes y se compara con la señal original, mostrando el error de reconstrucción y permitiendo visualizar la mejora conforme aumenta el número de armónicos utilizados. El código genera tres gráficos interactivos: la señal original en función del tiempo, el espectro de Fourier (magnitud y fase) y la reconstrucción de la señal en comparación con la original. El usuario puede ajustar el número de armónicos en tiempo real para observar su impacto en la reconstrucción de la señal. Esta aplicación ha sido desarrollada con Python, Streamlit, NumPy y Matplotlib.\n"
      ],
      "metadata": {
        "id": "_bC65jeqFotP"
      }
    },
    {
      "cell_type": "markdown",
      "source": [
        "#Punto 1"
      ],
      "metadata": {
        "id": "QuUHBRX7gfI8"
      }
    },
    {
      "cell_type": "code",
      "source": [
        "%%writefile Punto1.py\n",
        "import streamlit as st\n",
        "import numpy as np\n",
        "import matplotlib.pyplot as plt\n",
        "\n",
        "# Configuración inicial\n",
        "st.title(\"Análisis y Reconstrucción de Señales con Serie de Fourier\")\n",
        "\n",
        "# Parámetros de entrada\n",
        "A = st.number_input(\"Ingrese un valor entero positivo para A:\", min_value=1, value=5, step=1)\n",
        "Fo = st.number_input(\"Ingrese un valor de frecuencia positiva para Fo:\", min_value=0.1, value=1.0, step=0.1)\n",
        "\n",
        "# Definir tiempos\n",
        "ti = -1 / (2 * Fo)  # tiempo inicial\n",
        "tf = 1 / (2 * Fo)   # tiempo final\n",
        "T = tf - ti         # periodo total\n",
        "wo = 2 * np.pi / T  # frecuencia angular\n",
        "Fs = 30 * Fo  # frecuencia de muestreo\n",
        "\n",
        "# Vector de tiempo\n",
        "tv = np.arange(ti, tf, 1 / Fs)\n",
        "Nm = len(tv)\n",
        "\n",
        "# Señal de entrada\n",
        "titulo_senal = \"Señal de entrada $x(t) = |A \\cos(2\\pi F_o t)|^2$\"\n",
        "xo = abs(A * np.cos(2 * np.pi * Fo * tv))**2\n",
        "\n",
        "# Gráfica de la señal de entrada\n",
        "fig, ax = plt.subplots()\n",
        "ax.plot(tv, xo, label='$x(t)$', color='b')\n",
        "ax.set_xlabel('Tiempo [s]')\n",
        "ax.set_ylabel('$x(t)$')\n",
        "ax.set_title(titulo_senal)\n",
        "ax.grid()\n",
        "ax.legend()\n",
        "st.pyplot(fig)\n",
        "\n",
        "# Definir las bases de Fourier\n",
        "N = st.slider(\"Seleccione el número de armónicos para la reconstrucción:\", min_value=1, max_value=50, value=10)\n",
        "phin = np.zeros((len(tv), 2 * N + 1), dtype=np.complex_)\n",
        "for n in range(-N, N + 1):\n",
        "    phin[:, n + N] = np.exp(1j * n * wo * tv)\n",
        "\n",
        "# Cálculo de coeficientes de Fourier\n",
        "cn = np.zeros(2 * N + 1, dtype=np.complex_)\n",
        "nv = np.arange(-N, N + 1)\n",
        "cn[N] = (A**2) / 2  # Coeficiente DC\n",
        "cn[N + 2] = (A**2) / 4  # Armónico positivo\n",
        "cn[N - 2] = (A**2) / 4  # Armónico negativo\n",
        "\n",
        "# Gráfica del espectro de Fourier\n",
        "fig, ax = plt.subplots(2, 1, figsize=(6, 6))\n",
        "ax[0].stem(nv, abs(cn), 'r', markerfmt='ro')\n",
        "ax[0].set_xlabel('n')\n",
        "ax[0].set_ylabel('|Cn|')\n",
        "ax[0].set_title(\"Espectro de Fourier - Magnitud\")\n",
        "ax[0].grid()\n",
        "\n",
        "ax[1].stem(nv, np.angle(cn), 'r', markerfmt='ro')\n",
        "ax[1].set_xlabel('n')\n",
        "ax[1].set_ylabel('Fase (radianes)')\n",
        "ax[1].set_title(\"Espectro de Fourier - Fase\")\n",
        "ax[1].grid()\n",
        "\n",
        "st.pyplot(fig)\n",
        "\n",
        "# Reconstrucción de la señal\n",
        "Px = ((3 / 8) * A**4)  # Potencia de la señal\n",
        "er = 1 - np.sum(abs(cn)**2) / Px  # Error de reconstrucción\n",
        "xe = phin @ cn  # Señal reconstruida\n",
        "\n",
        "# Gráfica de la reconstrucción\n",
        "fig, ax = plt.subplots()\n",
        "ax.plot(tv, xo, 'r', linewidth=2, label='$x(t)$ (Original)')\n",
        "ax.plot(tv, np.real(xe), 'b--', linewidth=2, label='$x_e(t)$ (Reconstruida)')\n",
        "ax.set_xlabel('Tiempo [s]')\n",
        "ax.set_ylabel('Amplitud')\n",
        "ax.set_title(f\"Reconstrucción con {N} armónicos (Error: {100*er:.2f}%)\")\n",
        "ax.legend()\n",
        "ax.grid()\n",
        "st.pyplot(fig)\n",
        "\n",
        "st.write(\"Ajuste el número de armónicos para ver cómo cambia la reconstrucción.\")\n"
      ],
      "metadata": {
        "id": "sEXE_2wBhJyU",
        "outputId": "17b172a1-e36d-427b-fdc9-923cb01355c4",
        "colab": {
          "base_uri": "https://localhost:8080/"
        }
      },
      "execution_count": 13,
      "outputs": [
        {
          "output_type": "stream",
          "name": "stdout",
          "text": [
            "Overwriting Punto1.py\n"
          ]
        }
      ]
    },
    {
      "cell_type": "code",
      "source": [
        "token=\"2tdroQQlWE22mpbWF56ZQwhCI6W_38v4DcENvFijbeGWZszYC\""
      ],
      "metadata": {
        "id": "IIgeuUzthUd_"
      },
      "execution_count": 14,
      "outputs": []
    },
    {
      "cell_type": "code",
      "source": [
        "from pyngrok import ngrok\n",
        "\n",
        "# # Set authentication token (unique per user)\n",
        "ngrok.set_auth_token(token)\n",
        "\n",
        "# # Start Streamlit server on a specific port\n",
        "!nohup streamlit run Punto1.py --server.port 5051 &\n",
        "\n",
        "# # Start ngrok tunnel to expose the Streamlit server\n",
        "ngrok_tunnel = ngrok.connect(addr='5051', proto='http', bind_tls=True)\n",
        "\n",
        "# # Print the URL of the ngrok tunnel\n",
        "print(' * Tunnel URL:', ngrok_tunnel.public_url)"
      ],
      "metadata": {
        "id": "4U7vUDaVhZa3",
        "outputId": "9b88912c-6ab7-43d8-cd56-4c267d6cd47b",
        "colab": {
          "base_uri": "https://localhost:8080/"
        }
      },
      "execution_count": 15,
      "outputs": [
        {
          "output_type": "stream",
          "name": "stdout",
          "text": [
            "nohup: appending output to 'nohup.out'\n",
            " * Tunnel URL: https://bdc7-34-139-73-35.ngrok-free.app\n"
          ]
        }
      ]
    },
    {
      "cell_type": "markdown",
      "source": [
        "#PUNTO 2"
      ],
      "metadata": {
        "id": "arJTqCqjKirM"
      }
    },
    {
      "cell_type": "markdown",
      "source": [
        "Este script en Python implementa una aplicación web interactiva utilizando Streamlit, que permite la descarga, análisis y modulación de señales de audio. Para ello, el código ofrece dos opciones: cargar un archivo de audio local en formato MP3 o WAV, o descargar audio desde YouTube utilizando la biblioteca `yt-dlp`. Una vez obtenido el audio, la señal se visualiza y analiza en el dominio del tiempo y la frecuencia, mostrando su forma de onda y su espectro mediante la transformada de Fourier.\n",
        "\n",
        "Posteriormente, se implementa un proceso de modulación de amplitud (AM), donde la señal original se multiplica por una portadora senoidal cuya frecuencia puede ajustarse mediante un control en la interfaz. Se permite la reproducción de la señal original, la señal modulada y la señal demodulada después de ser filtrada con un filtro paso bajo Butterworth, diseñado utilizando la biblioteca `scipy.signal`.\n",
        "\n",
        "El código también emplea `soundfile` para la lectura y escritura de archivos de audio, `numpy` y `matplotlib` para el procesamiento y la graficación de las señales, y Streamlit para la creación de una interfaz interactiva. Esta aplicación es útil para visualizar los efectos de la modulación en señales de audio y comprender mejor los procesos involucrados en las telecomunicaciones.\n"
      ],
      "metadata": {
        "id": "nE3gfc67MX4r"
      }
    },
    {
      "cell_type": "code",
      "source": [
        "%%writefile Punto2.py\n",
        "import yt_dlp\n",
        "import io\n",
        "import soundfile as sf\n",
        "import streamlit as st\n",
        "import numpy as np\n",
        "import matplotlib.pyplot as plt\n",
        "from scipy.signal import butter as bw, filtfilt\n",
        "\n",
        "# Función para descargar audio de YouTube\n",
        "def download_audio_from_youtube(url):\n",
        "    ydl_opts = {\n",
        "        'format': 'bestaudio/best',\n",
        "        'postprocessors': [{'key': 'FFmpegExtractAudio', 'preferredcodec': 'mp3', 'preferredquality': '192'}],\n",
        "        'outtmpl': 'downloaded_audio.%(ext)s',\n",
        "    }\n",
        "\n",
        "    try:\n",
        "        with yt_dlp.YoutubeDL(ydl_opts) as ydl:\n",
        "            ydl.download([url])\n",
        "        return 'downloaded_audio.mp3'\n",
        "    except Exception as e:\n",
        "        st.error(f\"Ocurrió un error al descargar el audio: {e}\")\n",
        "        return None\n",
        "\n",
        "# Título de la aplicación\n",
        "st.title(\"Análisis y Modulación de Audio\")\n",
        "\n",
        "# Elegir entre subir archivo o ingresar un link de YouTube\n",
        "option = st.radio(\"Elige una opción:\", ('Subir archivo', 'Ingresar link de YouTube'))\n",
        "\n",
        "audio_data, fs = None, None\n",
        "\n",
        "if option == 'Subir archivo':\n",
        "    uploaded_file = st.file_uploader(\"Cargar un archivo de audio (mp3 o wav)\", type=[\"mp3\", \"wav\"])\n",
        "    if uploaded_file is not None:\n",
        "        audio_data, fs = sf.read(uploaded_file)\n",
        "        st.audio(uploaded_file)\n",
        "\n",
        "elif option == 'Ingresar link de YouTube':\n",
        "    youtube_url = st.text_input(\"Introduce el enlace de YouTube\")\n",
        "    if youtube_url:\n",
        "        file_path = download_audio_from_youtube(youtube_url)\n",
        "        if file_path:\n",
        "            audio_data, fs = sf.read(file_path)\n",
        "            st.audio(file_path, format='audio/mp3')\n",
        "\n",
        "# Si ya hay audio cargado (desde archivo o YouTube)\n",
        "if audio_data is not None:\n",
        "    st.write(f'Frecuencia de muestreo: {fs:.2f} Hz')\n",
        "\n",
        "    # Selección del rango de tiempo\n",
        "    ti = st.slider(\"Tiempo de inicio (s)\", 0, int(len(audio_data) / fs) - 1, 5)\n",
        "    tf = st.slider(\"Tiempo de finalización (s)\", ti + 1, int(len(audio_data) / fs), 10)\n",
        "\n",
        "    # Extraer señal\n",
        "    m = audio_data[int(ti * fs):int(tf * fs)]\n",
        "    if m.ndim > 1:\n",
        "        m = m[:, 0]  # Convertir a mono si es estéreo\n",
        "\n",
        "    # Reproducir señal de mensaje\n",
        "    audio_buffer = io.BytesIO()\n",
        "    sf.write(audio_buffer, m, fs, format='WAV')\n",
        "    audio_buffer.seek(0)\n",
        "    st.audio(audio_buffer, format='audio/wav')\n",
        "\n",
        "    # Graficar señal en el tiempo\n",
        "    st.subheader(\"Señal en el Tiempo\")\n",
        "    tt = np.linspace(ti, tf, len(m))\n",
        "    plt.figure()\n",
        "    plt.plot(tt, m)\n",
        "    plt.xlabel('Tiempo [s]')\n",
        "    plt.ylabel('Amplitud')\n",
        "    st.pyplot(plt)\n",
        "\n",
        "    # Transformada de Fourier\n",
        "    Mw = np.fft.rfft(m)\n",
        "    vf = np.fft.rfftfreq(len(m), 1/fs)\n",
        "\n",
        "    # Graficar espectro\n",
        "    st.subheader(\"Espectro de Frecuencia\")\n",
        "    plt.figure()\n",
        "    plt.plot(vf, abs(Mw))\n",
        "    plt.xlabel('Frecuencia [Hz]')\n",
        "    plt.ylabel('Magnitud')\n",
        "    st.pyplot(plt)\n",
        "\n",
        "    # Modulación AM\n",
        "    Fo = st.number_input(\"Frecuencia de la portadora (Hz)\", value=15000)\n",
        "    A1 = st.number_input(\"Índice de modulación (A1)\", value=2.0)\n",
        "    c = np.cos(2 * np.pi * Fo * tt)\n",
        "    y = A1 * m * c\n",
        "\n",
        "    # Reproducir señal modulada\n",
        "    audio_buffer = io.BytesIO()\n",
        "    sf.write(audio_buffer, y, fs, format='WAV')\n",
        "    audio_buffer.seek(0)\n",
        "    st.audio(audio_buffer, format='audio/wav')\n",
        "\n",
        "    # Graficar señal modulada\n",
        "    st.subheader(\"Señal Modulada en el Tiempo\")\n",
        "    plt.figure()\n",
        "    plt.plot(tt, y)\n",
        "    plt.xlabel('Tiempo [s]')\n",
        "    plt.ylabel('Amplitud')\n",
        "    st.pyplot(plt)\n",
        "\n",
        "    # Demodulación AM con filtrado\n",
        "    d = y * c  # Multiplicación coherente\n",
        "    N, Wn = 10, 14950  # Orden y frecuencia de corte\n",
        "    num, den = bw(N, Wn, btype='low', fs=fs)\n",
        "    xf = filtfilt(num, den, d)\n",
        "    me = (2 / A1) * xf\n",
        "\n",
        "    # Reproducir señal recuperada\n",
        "    audio_buffer = io.BytesIO()\n",
        "    sf.write(audio_buffer, me, fs, format='WAV')\n",
        "    audio_buffer.seek(0)\n",
        "    st.audio(audio_buffer, format='audio/wav')\n",
        "\n",
        "    # Graficar señal recuperada\n",
        "    st.subheader(\"Señal Recuperada\")\n",
        "    plt.figure()\n",
        "    plt.plot(tt, me)\n",
        "    plt.xlabel('Tiempo [s]')\n",
        "    plt.ylabel('Amplitud')\n",
        "    st.pyplot(plt)\n",
        "\n",
        "    # Transformada de Fourier de la señal recuperada\n",
        "    Mew = np.fft.rfft(me)\n",
        "    st.subheader(\"Espectro de la Señal Recuperada\")\n",
        "    plt.figure()\n",
        "    plt.plot(vf, abs(Mew))\n",
        "    plt.xlabel('Frecuencia [Hz]')\n",
        "    plt.ylabel('Magnitud')\n",
        "    st.pyplot(plt)"
      ],
      "metadata": {
        "colab": {
          "base_uri": "https://localhost:8080/"
        },
        "id": "jkJ9QfqZKyes",
        "outputId": "b323852f-5c62-4e10-8f5b-7c41bbfe9b57"
      },
      "execution_count": 16,
      "outputs": [
        {
          "output_type": "stream",
          "name": "stdout",
          "text": [
            "Writing Punto2.py\n"
          ]
        }
      ]
    },
    {
      "cell_type": "markdown",
      "source": [
        "El código token=\"2mraVkMegLT3dtlJmEyHhXBq8cj_4nGk3GjYEZVfV5XAJR4be\" asigna un valor de cadena (string) a la variable token. Este token se utiliza para autenticar y autorizar la creación de la aplicación en Streamlit, permitiendo el acceso a servicios como ngrok."
      ],
      "metadata": {
        "id": "Nj5WDAdeMr30"
      }
    },
    {
      "cell_type": "code",
      "source": [
        "token=\"2tdroQQlWE22mpbWF56ZQwhCI6W_38v4DcENvFijbeGWZszYC\""
      ],
      "metadata": {
        "id": "f8X4j_g_K3sV"
      },
      "execution_count": 17,
      "outputs": []
    },
    {
      "cell_type": "markdown",
      "source": [
        "Este código permite ejecutar una aplicación de Streamlit y hacerla accesible desde Internet utilizando ngrok. Primero, se autentica con ngrok mediante un token de usuario, lo que permite gestionar túneles de forma segura. Luego, se ejecuta el archivo Punto2.py en un servidor local de Streamlit en el puerto 5029, usando nohup para que siga corriendo en segundo plano. Después, se establece un túnel con ngrok, permitiendo exponer el puerto de la aplicación a Internet mediante una URL pública. Finalmente, el código imprime el enlace generado por ngrok, que se puede utilizar para acceder a la aplicación desde cualquier navegador. Esta técnica es útil para compartir dashboards interactivos sin necesidad de abrir puertos manualmente o configurar servidores en la nube."
      ],
      "metadata": {
        "id": "eEGGTKC0M90s"
      }
    },
    {
      "cell_type": "code",
      "source": [
        "from pyngrok import ngrok\n",
        "\n",
        "# # Set authentication token (unique per user)\n",
        "ngrok.set_auth_token(token)\n",
        "\n",
        "# # Start Streamlit server on a specific port\n",
        "!nohup streamlit run Punto2.py --server.port 5029 &\n",
        "\n",
        "# # Start ngrok tunnel to expose the Streamlit server\n",
        "ngrok_tunnel = ngrok.connect(addr='5029', proto='http', bind_tls=True)\n",
        "\n",
        "# # Print the URL of the ngrok tunnel\n",
        "print(' * Tunnel URL:', ngrok_tunnel.public_url)"
      ],
      "metadata": {
        "colab": {
          "base_uri": "https://localhost:8080/"
        },
        "id": "PwgCuwXQK4_m",
        "outputId": "ecd49652-3731-410f-eec0-9cf57bc3cc81"
      },
      "execution_count": 18,
      "outputs": [
        {
          "output_type": "stream",
          "name": "stdout",
          "text": [
            "nohup: appending output to 'nohup.out'\n",
            " * Tunnel URL: https://63a7-34-139-73-35.ngrok-free.app\n"
          ]
        }
      ]
    },
    {
      "cell_type": "markdown",
      "source": [
        "# PUNTO 3"
      ],
      "metadata": {
        "id": "v9EWYJepNCDe"
      }
    },
    {
      "cell_type": "markdown",
      "source": [
        "Este fragmento de código instala las librerías necesarias para ejecutar una aplicación en Streamlit y facilitar su acceso remoto.\n",
        "\n",
        "- !pip install streamlit -q: Instala Streamlit, un framework en Python para crear aplicaciones web interactivas, con el argumento -q para que la instalación sea silenciosa.\n",
        "\n",
        "- !npm install localtunnel: Instala localtunnel, una herramienta que permite exponer servidores locales a Internet sin necesidad de configurar redes o abrir puertos.\n",
        "\n",
        "- !python3 -m pip install --force-reinstall https://github.com/yt-dlp/yt-dlp/archive/master.tar.gz: Descarga e instala yt-dlp directamente desde su repositorio de GitHub, asegurando una versión actualizada mediante --force-reinstall. Esta biblioteca permite descargar contenido multimedia de plataformas como YouTube.\n",
        "\n",
        "- !pip install pyngrok: Instala pyngrok, una interfaz en Python para ngrok, que\n",
        "permite crear túneles seguros para exponer servidores locales a Internet, facilitando el acceso remoto a la aplicación de Streamlit."
      ],
      "metadata": {
        "id": "VK-FFDB6N-07"
      }
    },
    {
      "cell_type": "code",
      "source": [
        "!pip install streamlit -q #instalación de librerías\n",
        "!npm install localtunnel\n",
        "!python3 -m pip install --force-reinstall https://github.com/yt-dlp/yt-dlp/archive/master.tar.gz\n",
        "!pip install pyngrok"
      ],
      "metadata": {
        "colab": {
          "base_uri": "https://localhost:8080/"
        },
        "id": "PI5txVPQNGjo",
        "outputId": "8e3adb2d-e460-4771-e073-eac7b47f17ac"
      },
      "execution_count": 19,
      "outputs": [
        {
          "output_type": "stream",
          "name": "stdout",
          "text": [
            "\u001b[1G\u001b[0K⠙\u001b[1G\u001b[0K⠹\u001b[1G\u001b[0K⠸\u001b[1G\u001b[0K⠼\u001b[1G\u001b[0K⠴\u001b[1G\u001b[0K⠦\u001b[1G\u001b[0K⠧\u001b[1G\u001b[0K\n",
            "up to date, audited 23 packages in 2s\n",
            "\u001b[1G\u001b[0K⠧\u001b[1G\u001b[0K\n",
            "\u001b[1G\u001b[0K⠧\u001b[1G\u001b[0K3 packages are looking for funding\n",
            "\u001b[1G\u001b[0K⠧\u001b[1G\u001b[0K  run `npm fund` for details\n",
            "\u001b[1G\u001b[0K⠧\u001b[1G\u001b[0K\n",
            "2 \u001b[33m\u001b[1mmoderate\u001b[22m\u001b[39m severity vulnerabilities\n",
            "\n",
            "To address all issues (including breaking changes), run:\n",
            "  npm audit fix --force\n",
            "\n",
            "Run `npm audit` for details.\n",
            "\u001b[1G\u001b[0K⠧\u001b[1G\u001b[0KCollecting https://github.com/yt-dlp/yt-dlp/archive/master.tar.gz\n",
            "  Using cached https://github.com/yt-dlp/yt-dlp/archive/master.tar.gz (2.7 MB)\n",
            "  Installing build dependencies ... \u001b[?25l\u001b[?25hdone\n",
            "  Getting requirements to build wheel ... \u001b[?25l\u001b[?25hdone\n",
            "  Preparing metadata (pyproject.toml) ... \u001b[?25l\u001b[?25hdone\n",
            "Building wheels for collected packages: yt-dlp\n",
            "  Building wheel for yt-dlp (pyproject.toml) ... \u001b[?25l\u001b[?25hdone\n",
            "  Created wheel for yt-dlp: filename=yt_dlp-2025.2.19-py3-none-any.whl size=2942332 sha256=f500a5225037aa34be3dd25f330695fb74260215d20405386392964443b7e526\n",
            "  Stored in directory: /tmp/pip-ephem-wheel-cache-_4k4b641/wheels/2d/79/97/7209650ef73114e0fe0603480da012ad3afacb9cae6b8acd9a\n",
            "Successfully built yt-dlp\n",
            "Installing collected packages: yt-dlp\n",
            "  Attempting uninstall: yt-dlp\n",
            "    Found existing installation: yt-dlp 2025.2.19\n",
            "    Uninstalling yt-dlp-2025.2.19:\n",
            "      Successfully uninstalled yt-dlp-2025.2.19\n",
            "Successfully installed yt-dlp-2025.2.19\n",
            "Requirement already satisfied: pyngrok in /usr/local/lib/python3.11/dist-packages (7.2.3)\n",
            "Requirement already satisfied: PyYAML>=5.1 in /usr/local/lib/python3.11/dist-packages (from pyngrok) (6.0.2)\n"
          ]
        }
      ]
    },
    {
      "cell_type": "markdown",
      "source": [
        "Este código implementa una aplicación interactiva en Streamlit para analizar el Total Harmonic Distortion (THD) en rectificadores de onda completa con cargas resistivas y RC. Para ello, genera una señal rectificada de onda completa y calcula su Transformada Rápida de Fourier (FFT) con el fin de analizar su contenido espectral. A partir de la FFT, se calcula el THD, que mide la distorsión armónica total de la señal considerando la relación entre los armónicos superiores y el primer armónico.\n",
        "\n",
        "La aplicación permite al usuario ajustar la frecuencia de entrada de la señal, así como los valores de la resistencia (R) y la capacitancia (C) de la carga mediante deslizadores interactivos. Posteriormente, se muestran gráficos de la señal en el dominio del tiempo, su espectro de frecuencia (FFT) y los valores de THD obtenidos para cada tipo de carga. Este análisis es especialmente útil en el estudio de circuitos eléctricos y electrónicos, permitiendo evaluar el impacto de diferentes cargas en la distorsión de la señal de salida en rectificadores."
      ],
      "metadata": {
        "id": "mjJVy1jvQewO"
      }
    },
    {
      "cell_type": "code",
      "source": [
        "%%writefile Punto3.py\n",
        "import streamlit as st\n",
        "import numpy as np\n",
        "import matplotlib.pyplot as plt\n",
        "from scipy.fftpack import fft, fftfreq\n",
        "\n",
        "# Título de la aplicación\n",
        "st.title('Análisis del Total Harmonic Distortion (THD) en Rectificadores de Onda Completa con Cargas Resistivas y RC')\n",
        "\n",
        "# Parámetros del sistema\n",
        "sampling_rate = 10000  # Frecuencia de muestreo\n",
        "T = 1.0 / sampling_rate  # Intervalo de tiempo\n",
        "t = np.linspace(0, 1.0, sampling_rate)\n",
        "\n",
        "# Función para generar la señal del rectificador de onda completa\n",
        "def rectificador_onda_completa(t, f, R, C=None):\n",
        "    signal = np.abs(np.sin(2 * np.pi * f * t))\n",
        "    if C is not None and C > 0:\n",
        "        tau = R * C\n",
        "        signal = signal * np.exp(-t / tau)\n",
        "    return signal\n",
        "\n",
        "# Función para calcular la FFT\n",
        "def calcular_fft(signal, sampling_rate):\n",
        "    N = len(signal)\n",
        "    yf = fft(signal)\n",
        "    xf = fftfreq(N, 1 / sampling_rate)[:N // 2]\n",
        "    return xf, np.abs(yf[:N // 2])\n",
        "\n",
        "# Función para calcular el THD\n",
        "def calcular_thd(yf):\n",
        "    if len(yf) < 2:\n",
        "        return 0\n",
        "    V1 = yf[1]  # Primer armónico\n",
        "    harmonics = np.sqrt(np.sum(yf[2:]**2))\n",
        "    thd = harmonics / V1 if V1 > 0 else 0\n",
        "    return thd\n",
        "\n",
        "# Interfaz gráfica\n",
        "st.subheader(\"Parámetros de la simulación\")\n",
        "f = st.slider(\"Frecuencia de la señal de entrada (Hz):\", min_value=10, max_value=100, value=60)\n",
        "R = st.slider(\"Ingrese el valor de la Resistencia R (ohmios):\", min_value=0.1, max_value=100.0, value=10.0, step=0.1)\n",
        "C = st.slider(\"Ingrese el valor de la Capacitancia C (faradios):\", min_value=0.0, max_value=10.0, value=1.0, step=0.1)\n",
        "\n",
        "# Simulación\n",
        "signal_resistiva = rectificador_onda_completa(t, f, R)\n",
        "signal_rc = rectificador_onda_completa(t, f, R, C)\n",
        "\n",
        "# FFT\n",
        "xf_res, yf_res = calcular_fft(signal_resistiva, sampling_rate)\n",
        "xf_rc, yf_rc = calcular_fft(signal_rc, sampling_rate)\n",
        "\n",
        "# Calcular THD\n",
        "thd_resistiva = calcular_thd(yf_res)\n",
        "thd_rc = calcular_thd(yf_rc)\n",
        "\n",
        "# Mostrar resultados de THD\n",
        "st.write(f\"THD para carga resistiva pura: {thd_resistiva:.4f}\")\n",
        "st.write(f\"THD para carga RC: {thd_rc:.4f}\")\n",
        "\n",
        "# Graficar señales y FFT\n",
        "fig, axs = plt.subplots(2, 2, figsize=(12, 8))\n",
        "\n",
        "axs[0, 0].plot(t[:500], signal_resistiva[:500])\n",
        "axs[0, 0].set_title(\"Señal con carga resistiva pura\")\n",
        "axs[0, 0].set_xlabel(\"Tiempo [s]\")\n",
        "axs[0, 0].set_ylabel(\"Amplitud\")\n",
        "\n",
        "axs[0, 1].plot(t[:500], signal_rc[:500])\n",
        "axs[0, 1].set_title(\"Señal con carga RC\")\n",
        "axs[0, 1].set_xlabel(\"Tiempo [s]\")\n",
        "axs[0, 1].set_ylabel(\"Amplitud\")\n",
        "\n",
        "axs[1, 0].plot(xf_res, yf_res)\n",
        "axs[1, 0].set_title(\"FFT - Carga resistiva pura\")\n",
        "axs[1, 0].set_xlabel(\"Frecuencia [Hz]\")\n",
        "axs[1, 0].set_ylabel(\"Amplitud\")\n",
        "\n",
        "axs[1, 1].plot(xf_rc, yf_rc)\n",
        "axs[1, 1].set_title(\"FFT - Carga RC\")\n",
        "axs[1, 1].set_xlabel(\"Frecuencia [Hz]\")\n",
        "axs[1, 1].set_ylabel(\"Amplitud\")\n",
        "\n",
        "plt.tight_layout()\n",
        "st.pyplot(fig)"
      ],
      "metadata": {
        "colab": {
          "base_uri": "https://localhost:8080/"
        },
        "id": "xDQDtEmaOoSv",
        "outputId": "fd84f9e5-3d6b-4514-b216-6defcc6113dc"
      },
      "execution_count": 20,
      "outputs": [
        {
          "output_type": "stream",
          "name": "stdout",
          "text": [
            "Writing Punto3.py\n"
          ]
        }
      ]
    },
    {
      "cell_type": "markdown",
      "source": [
        "El código token=\"2lmAC6DGxB9xF06bq6Js7K7IZQK_5T6aE4rBZBp6hDqefow8M\" asigna un valor de cadena (string) a la variable token. Este token se utiliza para autenticar y autorizar la creación de la aplicación en Streamlit, permitiendo el acceso a servicios como ngrok."
      ],
      "metadata": {
        "id": "widLZ5mjQi8A"
      }
    },
    {
      "cell_type": "code",
      "source": [
        "token=\"2tdroQQlWE22mpbWF56ZQwhCI6W_38v4DcENvFijbeGWZszYC\""
      ],
      "metadata": {
        "id": "79onfynnO8EA"
      },
      "execution_count": 21,
      "outputs": []
    },
    {
      "cell_type": "markdown",
      "source": [
        "Este código permite ejecutar una aplicación de Streamlit y hacerla accesible desde Internet utilizando ngrok. Primero, se autentica con ngrok mediante un token de usuario, lo que permite gestionar túneles de forma segura. Luego, se ejecuta el archivo Punto3.py en un servidor local de Streamlit en el puerto 5039, usando nohup para que siga corriendo en segundo plano. Después, se establece un túnel con ngrok, permitiendo exponer el puerto de la aplicación a Internet mediante una URL pública. Finalmente, el código imprime el enlace generado por ngrok, que se puede utilizar para acceder a la aplicación desde cualquier navegador. Esta técnica es útil para compartir dashboards interactivos sin necesidad de abrir puertos manualmente o configurar servidores en la nube."
      ],
      "metadata": {
        "id": "LDRzTX8RQkFp"
      }
    },
    {
      "cell_type": "code",
      "source": [
        "from pyngrok import ngrok\n",
        "\n",
        "# # Set authentication token (unique per user)\n",
        "ngrok.set_auth_token(token)\n",
        "\n",
        "# # Start Streamlit server on a specific port\n",
        "!nohup streamlit run Punto3.py --server.port 5039 &\n",
        "\n",
        "# # Start ngrok tunnel to expose the Streamlit server\n",
        "ngrok_tunnel = ngrok.connect(addr='5039', proto='http', bind_tls=True)\n",
        "\n",
        "# # Print the URL of the ngrok tunnel\n",
        "print(' * Tunnel URL:', ngrok_tunnel.public_url)"
      ],
      "metadata": {
        "colab": {
          "base_uri": "https://localhost:8080/"
        },
        "id": "e-FUoQskO-ZB",
        "outputId": "0f3f239a-6fe1-49f8-8e31-58eaf192733a"
      },
      "execution_count": 22,
      "outputs": [
        {
          "output_type": "stream",
          "name": "stdout",
          "text": [
            "nohup: appending output to 'nohup.out'\n",
            " * Tunnel URL: https://46f4-34-139-73-35.ngrok-free.app\n"
          ]
        }
      ]
    }
  ]
}