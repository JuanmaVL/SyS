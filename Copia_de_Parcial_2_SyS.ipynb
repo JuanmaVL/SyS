{
  "nbformat": 4,
  "nbformat_minor": 0,
  "metadata": {
    "colab": {
      "provenance": [],
      "include_colab_link": true
    },
    "kernelspec": {
      "name": "python3",
      "display_name": "Python 3"
    },
    "language_info": {
      "name": "python"
    }
  },
  "cells": [
    {
      "cell_type": "markdown",
      "metadata": {
        "id": "view-in-github",
        "colab_type": "text"
      },
      "source": [
        "<a href=\"https://colab.research.google.com/github/JuanmaVL/SyS/blob/main/Copia_de_Parcial_2_SyS.ipynb\" target=\"_parent\"><img src=\"https://colab.research.google.com/assets/colab-badge.svg\" alt=\"Open In Colab\"/></a>"
      ]
    },
    {
      "cell_type": "markdown",
      "source": [
        "El siguiente bloque de código instala varias bibliotecas necesarias para el proyecto:\n",
        "\n",
        "- **`streamlit`**: Framework para crear aplicaciones web interactivas en Python.\n",
        "- **`localtunnel`** (vía `npm`): Permite exponer un puerto local a la web.\n",
        "- **`yt-dlp`**: Herramienta avanzada para descargar videos de YouTube y otras plataformas.\n",
        "- **`pyngrok`**: Facilita la creación de túneles seguros con `ngrok`, útil para exponer servicios locales.\n",
        "- **`sympy`**: Biblioteca para cálculos simbólicos en matemáticas.\n",
        "- **`soundfile`**: Permite leer y escribir archivos de audio en distintos formatos.\n",
        "- **`pytube`**: Otra biblioteca para descargar videos de YouTube.\n",
        "- **`ffmpeg`**: Software para procesamiento y conversión de archivos de audio y video.\n",
        "- **`pandas, gspread, oauth2client`**: Facilitan la manipulación de datos y la conexión con Google Sheets.\n",
        "- **`numpy, matplotlib, scipy`**: Librerías científicas para análisis numérico y visualización.\n",
        "\n",
        "Se reinstala `yt-dlp` desde su repositorio de GitHub para asegurar la versión más reciente.\n",
        "Finalmente, se instalan todas las bibliotecas necesarias en una única línea para evitar posibles conflictos de dependencias."
      ],
      "metadata": {
        "id": "xKsA9pn3gwOg"
      }
    },
    {
      "cell_type": "code",
      "source": [
        "!pip install streamlit -q\n",
        "!npm install localtunnel\n",
        "!python3 -m pip install --force-reinstall https://github.com/yt-dlp/yt-dlp/archive/master.tar.gz\n",
        "!pip install pyngrok\n",
        "!pip install sympy --upgrade\n",
        "!pip install yt-dlp\n",
        "!pip install soundfile\n",
        "!pip install pytube\n",
        "!pip install --upgrade pytube\n",
        "!apt-get install ffmpeg\n",
        "!pip install pandas gspread oauth2client\n",
        "!pip install streamlit yt-dlp soundfile numpy matplotlib scipy pandas"
      ],
      "metadata": {
        "id": "zOX7Fp60g0Iq",
        "outputId": "761284f8-753c-4c64-f4bf-92eab86d4ee9",
        "colab": {
          "base_uri": "https://localhost:8080/"
        }
      },
      "execution_count": 1,
      "outputs": [
        {
          "output_type": "stream",
          "name": "stdout",
          "text": [
            "\u001b[2K     \u001b[90m━━━━━━━━━━━━━━━━━━━━━━━━━━━━━━━━━━━━━━━━\u001b[0m \u001b[32m44.3/44.3 kB\u001b[0m \u001b[31m1.4 MB/s\u001b[0m eta \u001b[36m0:00:00\u001b[0m\n",
            "\u001b[2K   \u001b[90m━━━━━━━━━━━━━━━━━━━━━━━━━━━━━━━━━━━━━━━━\u001b[0m \u001b[32m9.7/9.7 MB\u001b[0m \u001b[31m17.3 MB/s\u001b[0m eta \u001b[36m0:00:00\u001b[0m\n",
            "\u001b[2K   \u001b[90m━━━━━━━━━━━━━━━━━━━━━━━━━━━━━━━━━━━━━━━━\u001b[0m \u001b[32m6.9/6.9 MB\u001b[0m \u001b[31m45.0 MB/s\u001b[0m eta \u001b[36m0:00:00\u001b[0m\n",
            "\u001b[2K   \u001b[90m━━━━━━━━━━━━━━━━━━━━━━━━━━━━━━━━━━━━━━━━\u001b[0m \u001b[32m79.1/79.1 kB\u001b[0m \u001b[31m3.5 MB/s\u001b[0m eta \u001b[36m0:00:00\u001b[0m\n",
            "\u001b[?25h\u001b[1G\u001b[0K⠙\u001b[1G\u001b[0K⠹\u001b[1G\u001b[0K⠸\u001b[1G\u001b[0K⠼\u001b[1G\u001b[0K⠴\u001b[1G\u001b[0K⠦\u001b[1G\u001b[0K⠧\u001b[1G\u001b[0K⠇\u001b[1G\u001b[0K⠏\u001b[1G\u001b[0K⠋\u001b[1G\u001b[0K⠙\u001b[1G\u001b[0K⠹\u001b[1G\u001b[0K⠸\u001b[1G\u001b[0K⠼\u001b[1G\u001b[0K⠴\u001b[1G\u001b[0K⠦\u001b[1G\u001b[0K⠧\u001b[1G\u001b[0K⠇\u001b[1G\u001b[0K⠏\u001b[1G\u001b[0K⠋\u001b[1G\u001b[0K⠙\u001b[1G\u001b[0K⠹\u001b[1G\u001b[0K⠸\u001b[1G\u001b[0K⠼\u001b[1G\u001b[0K⠴\u001b[1G\u001b[0K⠦\u001b[1G\u001b[0K⠧\u001b[1G\u001b[0K⠇\u001b[1G\u001b[0K⠏\u001b[1G\u001b[0K⠋\u001b[1G\u001b[0K⠙\u001b[1G\u001b[0K⠹\u001b[1G\u001b[0K⠸\u001b[1G\u001b[0K⠼\u001b[1G\u001b[0K⠴\u001b[1G\u001b[0K⠦\u001b[1G\u001b[0K⠧\u001b[1G\u001b[0K⠇\u001b[1G\u001b[0K⠏\u001b[1G\u001b[0K⠋\u001b[1G\u001b[0K⠙\u001b[1G\u001b[0K\n",
            "added 22 packages in 6s\n",
            "\u001b[1G\u001b[0K⠙\u001b[1G\u001b[0K\n",
            "\u001b[1G\u001b[0K⠙\u001b[1G\u001b[0K3 packages are looking for funding\n",
            "\u001b[1G\u001b[0K⠙\u001b[1G\u001b[0K  run `npm fund` for details\n",
            "\u001b[1G\u001b[0K⠙\u001b[1G\u001b[0KCollecting https://github.com/yt-dlp/yt-dlp/archive/master.tar.gz\n",
            "  Downloading https://github.com/yt-dlp/yt-dlp/archive/master.tar.gz\n",
            "\u001b[2K     \u001b[32m-\u001b[0m \u001b[32m2.7 MB\u001b[0m \u001b[31m10.0 MB/s\u001b[0m \u001b[33m0:00:00\u001b[0m\n",
            "\u001b[?25h  Installing build dependencies ... \u001b[?25l\u001b[?25hdone\n",
            "  Getting requirements to build wheel ... \u001b[?25l\u001b[?25hdone\n",
            "  Preparing metadata (pyproject.toml) ... \u001b[?25l\u001b[?25hdone\n",
            "Building wheels for collected packages: yt-dlp\n",
            "  Building wheel for yt-dlp (pyproject.toml) ... \u001b[?25l\u001b[?25hdone\n",
            "  Created wheel for yt-dlp: filename=yt_dlp-2025.2.19-py3-none-any.whl size=2947620 sha256=21446df3d980dcce64c19dbf0a41b63aa7b94369033601140de42a8434e92475\n",
            "  Stored in directory: /tmp/pip-ephem-wheel-cache-n39dvxhu/wheels/2d/79/97/7209650ef73114e0fe0603480da012ad3afacb9cae6b8acd9a\n",
            "Successfully built yt-dlp\n",
            "Installing collected packages: yt-dlp\n",
            "Successfully installed yt-dlp-2025.2.19\n",
            "Collecting pyngrok\n",
            "  Downloading pyngrok-7.2.3-py3-none-any.whl.metadata (8.7 kB)\n",
            "Requirement already satisfied: PyYAML>=5.1 in /usr/local/lib/python3.11/dist-packages (from pyngrok) (6.0.2)\n",
            "Downloading pyngrok-7.2.3-py3-none-any.whl (23 kB)\n",
            "Installing collected packages: pyngrok\n",
            "Successfully installed pyngrok-7.2.3\n",
            "Requirement already satisfied: sympy in /usr/local/lib/python3.11/dist-packages (1.13.1)\n",
            "Collecting sympy\n",
            "  Downloading sympy-1.13.3-py3-none-any.whl.metadata (12 kB)\n",
            "Requirement already satisfied: mpmath<1.4,>=1.1.0 in /usr/local/lib/python3.11/dist-packages (from sympy) (1.3.0)\n",
            "Downloading sympy-1.13.3-py3-none-any.whl (6.2 MB)\n",
            "\u001b[2K   \u001b[90m━━━━━━━━━━━━━━━━━━━━━━━━━━━━━━━━━━━━━━━━\u001b[0m \u001b[32m6.2/6.2 MB\u001b[0m \u001b[31m56.4 MB/s\u001b[0m eta \u001b[36m0:00:00\u001b[0m\n",
            "\u001b[?25hInstalling collected packages: sympy\n",
            "  Attempting uninstall: sympy\n",
            "    Found existing installation: sympy 1.13.1\n",
            "    Uninstalling sympy-1.13.1:\n",
            "      Successfully uninstalled sympy-1.13.1\n",
            "\u001b[31mERROR: pip's dependency resolver does not currently take into account all the packages that are installed. This behaviour is the source of the following dependency conflicts.\n",
            "torch 2.5.1+cu124 requires nvidia-cublas-cu12==12.4.5.8; platform_system == \"Linux\" and platform_machine == \"x86_64\", but you have nvidia-cublas-cu12 12.5.3.2 which is incompatible.\n",
            "torch 2.5.1+cu124 requires nvidia-cuda-cupti-cu12==12.4.127; platform_system == \"Linux\" and platform_machine == \"x86_64\", but you have nvidia-cuda-cupti-cu12 12.5.82 which is incompatible.\n",
            "torch 2.5.1+cu124 requires nvidia-cuda-nvrtc-cu12==12.4.127; platform_system == \"Linux\" and platform_machine == \"x86_64\", but you have nvidia-cuda-nvrtc-cu12 12.5.82 which is incompatible.\n",
            "torch 2.5.1+cu124 requires nvidia-cuda-runtime-cu12==12.4.127; platform_system == \"Linux\" and platform_machine == \"x86_64\", but you have nvidia-cuda-runtime-cu12 12.5.82 which is incompatible.\n",
            "torch 2.5.1+cu124 requires nvidia-cudnn-cu12==9.1.0.70; platform_system == \"Linux\" and platform_machine == \"x86_64\", but you have nvidia-cudnn-cu12 9.3.0.75 which is incompatible.\n",
            "torch 2.5.1+cu124 requires nvidia-cufft-cu12==11.2.1.3; platform_system == \"Linux\" and platform_machine == \"x86_64\", but you have nvidia-cufft-cu12 11.2.3.61 which is incompatible.\n",
            "torch 2.5.1+cu124 requires nvidia-curand-cu12==10.3.5.147; platform_system == \"Linux\" and platform_machine == \"x86_64\", but you have nvidia-curand-cu12 10.3.6.82 which is incompatible.\n",
            "torch 2.5.1+cu124 requires nvidia-cusolver-cu12==11.6.1.9; platform_system == \"Linux\" and platform_machine == \"x86_64\", but you have nvidia-cusolver-cu12 11.6.3.83 which is incompatible.\n",
            "torch 2.5.1+cu124 requires nvidia-cusparse-cu12==12.3.1.170; platform_system == \"Linux\" and platform_machine == \"x86_64\", but you have nvidia-cusparse-cu12 12.5.1.3 which is incompatible.\n",
            "torch 2.5.1+cu124 requires nvidia-nvjitlink-cu12==12.4.127; platform_system == \"Linux\" and platform_machine == \"x86_64\", but you have nvidia-nvjitlink-cu12 12.5.82 which is incompatible.\n",
            "torch 2.5.1+cu124 requires sympy==1.13.1; python_version >= \"3.9\", but you have sympy 1.13.3 which is incompatible.\u001b[0m\u001b[31m\n",
            "\u001b[0mSuccessfully installed sympy-1.13.3\n",
            "Requirement already satisfied: yt-dlp in /usr/local/lib/python3.11/dist-packages (2025.2.19)\n",
            "Requirement already satisfied: soundfile in /usr/local/lib/python3.11/dist-packages (0.13.1)\n",
            "Requirement already satisfied: cffi>=1.0 in /usr/local/lib/python3.11/dist-packages (from soundfile) (1.17.1)\n",
            "Requirement already satisfied: numpy in /usr/local/lib/python3.11/dist-packages (from soundfile) (1.26.4)\n",
            "Requirement already satisfied: pycparser in /usr/local/lib/python3.11/dist-packages (from cffi>=1.0->soundfile) (2.22)\n",
            "Collecting pytube\n",
            "  Downloading pytube-15.0.0-py3-none-any.whl.metadata (5.0 kB)\n",
            "Downloading pytube-15.0.0-py3-none-any.whl (57 kB)\n",
            "\u001b[2K   \u001b[90m━━━━━━━━━━━━━━━━━━━━━━━━━━━━━━━━━━━━━━━━\u001b[0m \u001b[32m57.6/57.6 kB\u001b[0m \u001b[31m4.1 MB/s\u001b[0m eta \u001b[36m0:00:00\u001b[0m\n",
            "\u001b[?25hInstalling collected packages: pytube\n",
            "Successfully installed pytube-15.0.0\n",
            "Requirement already satisfied: pytube in /usr/local/lib/python3.11/dist-packages (15.0.0)\n",
            "Reading package lists... Done\n",
            "Building dependency tree... Done\n",
            "Reading state information... Done\n",
            "ffmpeg is already the newest version (7:4.4.2-0ubuntu0.22.04.1).\n",
            "0 upgraded, 0 newly installed, 0 to remove and 29 not upgraded.\n",
            "Requirement already satisfied: pandas in /usr/local/lib/python3.11/dist-packages (2.2.2)\n",
            "Requirement already satisfied: gspread in /usr/local/lib/python3.11/dist-packages (6.1.4)\n",
            "Requirement already satisfied: oauth2client in /usr/local/lib/python3.11/dist-packages (4.1.3)\n",
            "Requirement already satisfied: numpy>=1.23.2 in /usr/local/lib/python3.11/dist-packages (from pandas) (1.26.4)\n",
            "Requirement already satisfied: python-dateutil>=2.8.2 in /usr/local/lib/python3.11/dist-packages (from pandas) (2.8.2)\n",
            "Requirement already satisfied: pytz>=2020.1 in /usr/local/lib/python3.11/dist-packages (from pandas) (2025.1)\n",
            "Requirement already satisfied: tzdata>=2022.7 in /usr/local/lib/python3.11/dist-packages (from pandas) (2025.1)\n",
            "Requirement already satisfied: google-auth>=1.12.0 in /usr/local/lib/python3.11/dist-packages (from gspread) (2.38.0)\n",
            "Requirement already satisfied: google-auth-oauthlib>=0.4.1 in /usr/local/lib/python3.11/dist-packages (from gspread) (1.2.1)\n",
            "Requirement already satisfied: httplib2>=0.9.1 in /usr/local/lib/python3.11/dist-packages (from oauth2client) (0.22.0)\n",
            "Requirement already satisfied: pyasn1>=0.1.7 in /usr/local/lib/python3.11/dist-packages (from oauth2client) (0.6.1)\n",
            "Requirement already satisfied: pyasn1-modules>=0.0.5 in /usr/local/lib/python3.11/dist-packages (from oauth2client) (0.4.1)\n",
            "Requirement already satisfied: rsa>=3.1.4 in /usr/local/lib/python3.11/dist-packages (from oauth2client) (4.9)\n",
            "Requirement already satisfied: six>=1.6.1 in /usr/local/lib/python3.11/dist-packages (from oauth2client) (1.17.0)\n",
            "Requirement already satisfied: cachetools<6.0,>=2.0.0 in /usr/local/lib/python3.11/dist-packages (from google-auth>=1.12.0->gspread) (5.5.2)\n",
            "Requirement already satisfied: requests-oauthlib>=0.7.0 in /usr/local/lib/python3.11/dist-packages (from google-auth-oauthlib>=0.4.1->gspread) (2.0.0)\n",
            "Requirement already satisfied: pyparsing!=3.0.0,!=3.0.1,!=3.0.2,!=3.0.3,<4,>=2.4.2 in /usr/local/lib/python3.11/dist-packages (from httplib2>=0.9.1->oauth2client) (3.2.1)\n",
            "Requirement already satisfied: oauthlib>=3.0.0 in /usr/local/lib/python3.11/dist-packages (from requests-oauthlib>=0.7.0->google-auth-oauthlib>=0.4.1->gspread) (3.2.2)\n",
            "Requirement already satisfied: requests>=2.0.0 in /usr/local/lib/python3.11/dist-packages (from requests-oauthlib>=0.7.0->google-auth-oauthlib>=0.4.1->gspread) (2.32.3)\n",
            "Requirement already satisfied: charset-normalizer<4,>=2 in /usr/local/lib/python3.11/dist-packages (from requests>=2.0.0->requests-oauthlib>=0.7.0->google-auth-oauthlib>=0.4.1->gspread) (3.4.1)\n",
            "Requirement already satisfied: idna<4,>=2.5 in /usr/local/lib/python3.11/dist-packages (from requests>=2.0.0->requests-oauthlib>=0.7.0->google-auth-oauthlib>=0.4.1->gspread) (3.10)\n",
            "Requirement already satisfied: urllib3<3,>=1.21.1 in /usr/local/lib/python3.11/dist-packages (from requests>=2.0.0->requests-oauthlib>=0.7.0->google-auth-oauthlib>=0.4.1->gspread) (2.3.0)\n",
            "Requirement already satisfied: certifi>=2017.4.17 in /usr/local/lib/python3.11/dist-packages (from requests>=2.0.0->requests-oauthlib>=0.7.0->google-auth-oauthlib>=0.4.1->gspread) (2025.1.31)\n",
            "Requirement already satisfied: streamlit in /usr/local/lib/python3.11/dist-packages (1.43.0)\n",
            "Requirement already satisfied: yt-dlp in /usr/local/lib/python3.11/dist-packages (2025.2.19)\n",
            "Requirement already satisfied: soundfile in /usr/local/lib/python3.11/dist-packages (0.13.1)\n",
            "Requirement already satisfied: numpy in /usr/local/lib/python3.11/dist-packages (1.26.4)\n",
            "Requirement already satisfied: matplotlib in /usr/local/lib/python3.11/dist-packages (3.10.0)\n",
            "Requirement already satisfied: scipy in /usr/local/lib/python3.11/dist-packages (1.13.1)\n",
            "Requirement already satisfied: pandas in /usr/local/lib/python3.11/dist-packages (2.2.2)\n",
            "Requirement already satisfied: altair<6,>=4.0 in /usr/local/lib/python3.11/dist-packages (from streamlit) (5.5.0)\n",
            "Requirement already satisfied: blinker<2,>=1.0.0 in /usr/local/lib/python3.11/dist-packages (from streamlit) (1.9.0)\n",
            "Requirement already satisfied: cachetools<6,>=4.0 in /usr/local/lib/python3.11/dist-packages (from streamlit) (5.5.2)\n",
            "Requirement already satisfied: click<9,>=7.0 in /usr/local/lib/python3.11/dist-packages (from streamlit) (8.1.8)\n",
            "Requirement already satisfied: packaging<25,>=20 in /usr/local/lib/python3.11/dist-packages (from streamlit) (24.2)\n",
            "Requirement already satisfied: pillow<12,>=7.1.0 in /usr/local/lib/python3.11/dist-packages (from streamlit) (11.1.0)\n",
            "Requirement already satisfied: protobuf<6,>=3.20 in /usr/local/lib/python3.11/dist-packages (from streamlit) (4.25.6)\n",
            "Requirement already satisfied: pyarrow>=7.0 in /usr/local/lib/python3.11/dist-packages (from streamlit) (18.1.0)\n",
            "Requirement already satisfied: requests<3,>=2.27 in /usr/local/lib/python3.11/dist-packages (from streamlit) (2.32.3)\n",
            "Requirement already satisfied: tenacity<10,>=8.1.0 in /usr/local/lib/python3.11/dist-packages (from streamlit) (9.0.0)\n",
            "Requirement already satisfied: toml<2,>=0.10.1 in /usr/local/lib/python3.11/dist-packages (from streamlit) (0.10.2)\n",
            "Requirement already satisfied: typing-extensions<5,>=4.4.0 in /usr/local/lib/python3.11/dist-packages (from streamlit) (4.12.2)\n",
            "Requirement already satisfied: watchdog<7,>=2.1.5 in /usr/local/lib/python3.11/dist-packages (from streamlit) (6.0.0)\n",
            "Requirement already satisfied: gitpython!=3.1.19,<4,>=3.0.7 in /usr/local/lib/python3.11/dist-packages (from streamlit) (3.1.44)\n",
            "Requirement already satisfied: pydeck<1,>=0.8.0b4 in /usr/local/lib/python3.11/dist-packages (from streamlit) (0.9.1)\n",
            "Requirement already satisfied: tornado<7,>=6.0.3 in /usr/local/lib/python3.11/dist-packages (from streamlit) (6.4.2)\n",
            "Requirement already satisfied: cffi>=1.0 in /usr/local/lib/python3.11/dist-packages (from soundfile) (1.17.1)\n",
            "Requirement already satisfied: contourpy>=1.0.1 in /usr/local/lib/python3.11/dist-packages (from matplotlib) (1.3.1)\n",
            "Requirement already satisfied: cycler>=0.10 in /usr/local/lib/python3.11/dist-packages (from matplotlib) (0.12.1)\n",
            "Requirement already satisfied: fonttools>=4.22.0 in /usr/local/lib/python3.11/dist-packages (from matplotlib) (4.56.0)\n",
            "Requirement already satisfied: kiwisolver>=1.3.1 in /usr/local/lib/python3.11/dist-packages (from matplotlib) (1.4.8)\n",
            "Requirement already satisfied: pyparsing>=2.3.1 in /usr/local/lib/python3.11/dist-packages (from matplotlib) (3.2.1)\n",
            "Requirement already satisfied: python-dateutil>=2.7 in /usr/local/lib/python3.11/dist-packages (from matplotlib) (2.8.2)\n",
            "Requirement already satisfied: pytz>=2020.1 in /usr/local/lib/python3.11/dist-packages (from pandas) (2025.1)\n",
            "Requirement already satisfied: tzdata>=2022.7 in /usr/local/lib/python3.11/dist-packages (from pandas) (2025.1)\n",
            "Requirement already satisfied: jinja2 in /usr/local/lib/python3.11/dist-packages (from altair<6,>=4.0->streamlit) (3.1.5)\n",
            "Requirement already satisfied: jsonschema>=3.0 in /usr/local/lib/python3.11/dist-packages (from altair<6,>=4.0->streamlit) (4.23.0)\n",
            "Requirement already satisfied: narwhals>=1.14.2 in /usr/local/lib/python3.11/dist-packages (from altair<6,>=4.0->streamlit) (1.28.0)\n",
            "Requirement already satisfied: pycparser in /usr/local/lib/python3.11/dist-packages (from cffi>=1.0->soundfile) (2.22)\n",
            "Requirement already satisfied: gitdb<5,>=4.0.1 in /usr/local/lib/python3.11/dist-packages (from gitpython!=3.1.19,<4,>=3.0.7->streamlit) (4.0.12)\n",
            "Requirement already satisfied: six>=1.5 in /usr/local/lib/python3.11/dist-packages (from python-dateutil>=2.7->matplotlib) (1.17.0)\n",
            "Requirement already satisfied: charset-normalizer<4,>=2 in /usr/local/lib/python3.11/dist-packages (from requests<3,>=2.27->streamlit) (3.4.1)\n",
            "Requirement already satisfied: idna<4,>=2.5 in /usr/local/lib/python3.11/dist-packages (from requests<3,>=2.27->streamlit) (3.10)\n",
            "Requirement already satisfied: urllib3<3,>=1.21.1 in /usr/local/lib/python3.11/dist-packages (from requests<3,>=2.27->streamlit) (2.3.0)\n",
            "Requirement already satisfied: certifi>=2017.4.17 in /usr/local/lib/python3.11/dist-packages (from requests<3,>=2.27->streamlit) (2025.1.31)\n",
            "Requirement already satisfied: smmap<6,>=3.0.1 in /usr/local/lib/python3.11/dist-packages (from gitdb<5,>=4.0.1->gitpython!=3.1.19,<4,>=3.0.7->streamlit) (5.0.2)\n",
            "Requirement already satisfied: MarkupSafe>=2.0 in /usr/local/lib/python3.11/dist-packages (from jinja2->altair<6,>=4.0->streamlit) (3.0.2)\n",
            "Requirement already satisfied: attrs>=22.2.0 in /usr/local/lib/python3.11/dist-packages (from jsonschema>=3.0->altair<6,>=4.0->streamlit) (25.1.0)\n",
            "Requirement already satisfied: jsonschema-specifications>=2023.03.6 in /usr/local/lib/python3.11/dist-packages (from jsonschema>=3.0->altair<6,>=4.0->streamlit) (2024.10.1)\n",
            "Requirement already satisfied: referencing>=0.28.4 in /usr/local/lib/python3.11/dist-packages (from jsonschema>=3.0->altair<6,>=4.0->streamlit) (0.36.2)\n",
            "Requirement already satisfied: rpds-py>=0.7.1 in /usr/local/lib/python3.11/dist-packages (from jsonschema>=3.0->altair<6,>=4.0->streamlit) (0.23.1)\n"
          ]
        }
      ]
    },
    {
      "cell_type": "code",
      "source": [
        "from pyngrok import ngrok\n",
        "\n",
        "# Detener todos los túneles activos\n",
        "ngrok.kill()"
      ],
      "metadata": {
        "id": "c8Ge2MM-kdML"
      },
      "execution_count": 2,
      "outputs": []
    },
    {
      "cell_type": "markdown",
      "source": [
        "Este código en Python, utilizando Streamlit, implementa una aplicación interactiva para el análisis y reconstrucción de señales mediante la Serie de Fourier. La aplicación permite al usuario ingresar dos parámetros: la amplitud $( A )$ y la frecuencia $\\ F_o $, que definen la señal de entrada dada por $\\ x(t) = |A \\cos(2\\pi F_o t)|^2 $. Se genera un vector de tiempo adecuado para la señal y se grafica su representación en función del tiempo. Luego, el usuario puede seleccionar el número de armónicos para la reconstrucción de la señal utilizando un control deslizante. Se calculan los coeficientes de Fourier $\\ c_n $, donde solo los términos de $\\ n = 0, \\pm 2 $ tienen valores distintos de cero, y se muestra el espectro en términos de magnitud y fase. Finalmente, se reconstruye la señal a partir de estos coeficientes y se compara con la señal original, mostrando el error de reconstrucción y permitiendo visualizar la mejora conforme aumenta el número de armónicos utilizados. El código genera tres gráficos interactivos: la señal original en función del tiempo, el espectro de Fourier (magnitud y fase) y la reconstrucción de la señal en comparación con la original. El usuario puede ajustar el número de armónicos en tiempo real para observar su impacto en la reconstrucción de la señal. Esta aplicación ha sido desarrollada con Python, Streamlit, NumPy y Matplotlib.\n"
      ],
      "metadata": {
        "id": "_bC65jeqFotP"
      }
    },
    {
      "cell_type": "markdown",
      "source": [
        "#Punto 1"
      ],
      "metadata": {
        "id": "QuUHBRX7gfI8"
      }
    },
    {
      "cell_type": "code",
      "source": [
        "%%writefile Punto1.py\n",
        "import streamlit as st\n",
        "import numpy as np\n",
        "import matplotlib.pyplot as plt\n",
        "\n",
        "# Configuración inicial\n",
        "st.title(\"Análisis y Reconstrucción de Señales con Serie de Fourier\")\n",
        "\n",
        "# Parámetros de entrada\n",
        "A = st.number_input(\"Ingrese un valor entero positivo para A:\", min_value=1, value=5, step=1)\n",
        "Fo = st.number_input(\"Ingrese un valor de frecuencia positiva para Fo:\", min_value=0.1, value=1.0, step=0.1)\n",
        "\n",
        "# Definir tiempos\n",
        "ti = -1 / (2 * Fo)  # tiempo inicial\n",
        "tf = 1 / (2 * Fo)   # tiempo final\n",
        "T = tf - ti         # periodo total\n",
        "wo = 2 * np.pi / T  # frecuencia angular\n",
        "Fs = 30 * Fo  # frecuencia de muestreo\n",
        "\n",
        "# Vector de tiempo\n",
        "tv = np.arange(ti, tf, 1 / Fs)\n",
        "Nm = len(tv)\n",
        "\n",
        "# Señal de entrada\n",
        "titulo_senal = \"Señal de entrada $x(t) = |A \\cos(2\\pi F_o t)|^2$\"\n",
        "xo = abs(A * np.cos(2 * np.pi * Fo * tv))**2\n",
        "\n",
        "# Gráfica de la señal de entrada\n",
        "fig, ax = plt.subplots()\n",
        "ax.plot(tv, xo, label='$x(t)$', color='b')\n",
        "ax.set_xlabel('Tiempo [s]')\n",
        "ax.set_ylabel('$x(t)$')\n",
        "ax.set_title(titulo_senal)\n",
        "ax.grid()\n",
        "ax.legend()\n",
        "st.pyplot(fig)\n",
        "\n",
        "# Definir las bases de Fourier\n",
        "N = st.slider(\"Seleccione el número de armónicos para la reconstrucción:\", min_value=1, max_value=50, value=10)\n",
        "phin = np.zeros((len(tv), 2 * N + 1), dtype=np.complex_)\n",
        "for n in range(-N, N + 1):\n",
        "    phin[:, n + N] = np.exp(1j * n * wo * tv)\n",
        "\n",
        "# Cálculo de coeficientes de Fourier\n",
        "cn = np.zeros(2 * N + 1, dtype=np.complex_)\n",
        "nv = np.arange(-N, N + 1)\n",
        "cn[N] = (A**2) / 2  # Coeficiente DC\n",
        "cn[N + 2] = (A**2) / 4  # Armónico positivo\n",
        "cn[N - 2] = (A**2) / 4  # Armónico negativo\n",
        "\n",
        "# Gráfica del espectro de Fourier\n",
        "fig, ax = plt.subplots(2, 1, figsize=(6, 6))\n",
        "ax[0].stem(nv, abs(cn), 'r', markerfmt='ro')\n",
        "ax[0].set_xlabel('n')\n",
        "ax[0].set_ylabel('|Cn|')\n",
        "ax[0].set_title(\"Espectro de Fourier - Magnitud\")\n",
        "ax[0].grid()\n",
        "\n",
        "ax[1].stem(nv, np.angle(cn), 'r', markerfmt='ro')\n",
        "ax[1].set_xlabel('n')\n",
        "ax[1].set_ylabel('Fase (radianes)')\n",
        "ax[1].set_title(\"Espectro de Fourier - Fase\")\n",
        "ax[1].grid()\n",
        "\n",
        "st.pyplot(fig)\n",
        "\n",
        "# Reconstrucción de la señal\n",
        "Px = ((3 / 8) * A**4)  # Potencia de la señal\n",
        "er = 1 - np.sum(abs(cn)**2) / Px  # Error de reconstrucción\n",
        "xe = phin @ cn  # Señal reconstruida\n",
        "\n",
        "# Gráfica de la reconstrucción\n",
        "fig, ax = plt.subplots()\n",
        "ax.plot(tv, xo, 'r', linewidth=2, label='$x(t)$ (Original)')\n",
        "ax.plot(tv, np.real(xe), 'b--', linewidth=2, label='$x_e(t)$ (Reconstruida)')\n",
        "ax.set_xlabel('Tiempo [s]')\n",
        "ax.set_ylabel('Amplitud')\n",
        "ax.set_title(f\"Reconstrucción con {N} armónicos (Error: {100*er:.2f}%)\")\n",
        "ax.legend()\n",
        "ax.grid()\n",
        "st.pyplot(fig)\n",
        "\n",
        "st.write(\"Ajuste el número de armónicos para ver cómo cambia la reconstrucción.\")\n"
      ],
      "metadata": {
        "id": "sEXE_2wBhJyU",
        "outputId": "37fa1f41-9828-4fc2-acd9-bb91a834725f",
        "colab": {
          "base_uri": "https://localhost:8080/"
        }
      },
      "execution_count": 3,
      "outputs": [
        {
          "output_type": "stream",
          "name": "stdout",
          "text": [
            "Writing Punto1.py\n"
          ]
        }
      ]
    },
    {
      "cell_type": "code",
      "source": [
        "token=\"2tdroQQlWE22mpbWF56ZQwhCI6W_38v4DcENvFijbeGWZszYC\""
      ],
      "metadata": {
        "id": "IIgeuUzthUd_"
      },
      "execution_count": 4,
      "outputs": []
    },
    {
      "cell_type": "code",
      "source": [
        "from pyngrok import ngrok\n",
        "\n",
        "# # Set authentication token (unique per user)\n",
        "ngrok.set_auth_token(token)\n",
        "\n",
        "# # Start Streamlit server on a specific port\n",
        "!nohup streamlit run Punto1.py --server.port 5000 &\n",
        "\n",
        "# # Start ngrok tunnel to expose the Streamlit server\n",
        "ngrok_tunnel = ngrok.connect(addr='5000', proto='http', bind_tls=True)\n",
        "\n",
        "# # Print the URL of the ngrok tunnel\n",
        "print(' * Tunnel URL:', ngrok_tunnel.public_url)"
      ],
      "metadata": {
        "id": "4U7vUDaVhZa3",
        "outputId": "9f00a93e-4f91-4fb8-a804-a5fcdeabe15e",
        "colab": {
          "base_uri": "https://localhost:8080/"
        }
      },
      "execution_count": 5,
      "outputs": [
        {
          "output_type": "stream",
          "name": "stdout",
          "text": [
            "nohup: appending output to 'nohup.out'\n",
            " * Tunnel URL: https://cc7c-34-169-137-250.ngrok-free.app\n"
          ]
        }
      ]
    },
    {
      "cell_type": "markdown",
      "source": [
        "#PUNTO 2"
      ],
      "metadata": {
        "id": "arJTqCqjKirM"
      }
    },
    {
      "cell_type": "markdown",
      "source": [
        "Este script en Python implementa una aplicación web interactiva utilizando Streamlit, que permite la descarga, análisis y modulación de señales de audio. Para ello, el código ofrece dos opciones: cargar un archivo de audio local en formato MP3 o WAV, o descargar audio desde YouTube utilizando la biblioteca `yt-dlp`. Una vez obtenido el audio, la señal se visualiza y analiza en el dominio del tiempo y la frecuencia, mostrando su forma de onda y su espectro mediante la transformada de Fourier.\n",
        "\n",
        "Posteriormente, se implementa un proceso de modulación de amplitud (AM), donde la señal original se multiplica por una portadora senoidal cuya frecuencia puede ajustarse mediante un control en la interfaz. Se permite la reproducción de la señal original, la señal modulada y la señal demodulada después de ser filtrada con un filtro paso bajo Butterworth, diseñado utilizando la biblioteca `scipy.signal`.\n",
        "\n",
        "El código también emplea `soundfile` para la lectura y escritura de archivos de audio, `numpy` y `matplotlib` para el procesamiento y la graficación de las señales, y Streamlit para la creación de una interfaz interactiva. Esta aplicación es útil para visualizar los efectos de la modulación en señales de audio y comprender mejor los procesos involucrados en las telecomunicaciones.\n"
      ],
      "metadata": {
        "id": "nE3gfc67MX4r"
      }
    },
    {
      "cell_type": "code",
      "source": [
        "%%writefile Punto2.py\n",
        "import yt_dlp\n",
        "import io\n",
        "import soundfile as sf\n",
        "import streamlit as st\n",
        "import numpy as np\n",
        "import matplotlib.pyplot as plt\n",
        "from scipy.signal import butter as bw, filtfilt\n",
        "\n",
        "# Función para descargar audio de YouTube\n",
        "def download_audio_from_youtube(url):\n",
        "    ydl_opts = {\n",
        "        'format': 'bestaudio/best',\n",
        "        'postprocessors': [{'key': 'FFmpegExtractAudio', 'preferredcodec': 'mp3', 'preferredquality': '192'}],\n",
        "        'outtmpl': 'downloaded_audio.%(ext)s',\n",
        "    }\n",
        "\n",
        "    try:\n",
        "        with yt_dlp.YoutubeDL(ydl_opts) as ydl:\n",
        "            ydl.download([url])\n",
        "        return 'downloaded_audio.mp3'\n",
        "    except Exception as e:\n",
        "        st.error(f\"Ocurrió un error al descargar el audio: {e}\")\n",
        "        return None\n",
        "\n",
        "# Título de la aplicación\n",
        "st.title(\"Análisis y Modulación de Audio\")\n",
        "\n",
        "# Elegir entre subir archivo o ingresar un link de YouTube\n",
        "option = st.radio(\"Elige una opción:\", ('Subir archivo', 'Ingresar link de YouTube'))\n",
        "\n",
        "audio_data, fs = None, None\n",
        "\n",
        "if option == 'Subir archivo':\n",
        "    uploaded_file = st.file_uploader(\"Cargar un archivo de audio (mp3 o wav)\", type=[\"mp3\", \"wav\"])\n",
        "    if uploaded_file is not None:\n",
        "        audio_data, fs = sf.read(uploaded_file)\n",
        "        st.audio(uploaded_file)\n",
        "\n",
        "elif option == 'Ingresar link de YouTube':\n",
        "    youtube_url = st.text_input(\"Introduce el enlace de YouTube\")\n",
        "    if youtube_url:\n",
        "        file_path = download_audio_from_youtube(youtube_url)\n",
        "        if file_path:\n",
        "            audio_data, fs = sf.read(file_path)\n",
        "            st.audio(file_path, format='audio/mp3')\n",
        "\n",
        "# Si ya hay audio cargado (desde archivo o YouTube)\n",
        "if audio_data is not None:\n",
        "    st.write(f'Frecuencia de muestreo: {fs:.2f} Hz')\n",
        "\n",
        "    # Selección del rango de tiempo\n",
        "    ti = st.slider(\"Tiempo de inicio (s)\", 0, int(len(audio_data) / fs) - 1, 5)\n",
        "    tf = st.slider(\"Tiempo de finalización (s)\", ti + 1, int(len(audio_data) / fs), 10)\n",
        "\n",
        "    # Extraer señal\n",
        "    m = audio_data[int(ti * fs):int(tf * fs)]\n",
        "    if m.ndim > 1:\n",
        "        m = m[:, 0]  # Convertir a mono si es estéreo\n",
        "\n",
        "    # Reproducir señal de mensaje\n",
        "    audio_buffer = io.BytesIO()\n",
        "    sf.write(audio_buffer, m, fs, format='WAV')\n",
        "    audio_buffer.seek(0)\n",
        "    st.audio(audio_buffer, format='audio/wav')\n",
        "\n",
        "    # Graficar señal en el tiempo\n",
        "    st.subheader(\"Señal en el Tiempo\")\n",
        "    tt = np.linspace(ti, tf, len(m))\n",
        "    plt.figure()\n",
        "    plt.plot(tt, m)\n",
        "    plt.xlabel('Tiempo [s]')\n",
        "    plt.ylabel('Amplitud')\n",
        "    st.pyplot(plt)\n",
        "\n",
        "    # Transformada de Fourier\n",
        "    Mw = np.fft.rfft(m)\n",
        "    vf = np.fft.rfftfreq(len(m), 1/fs)\n",
        "\n",
        "    # Graficar espectro\n",
        "    st.subheader(\"Espectro de Frecuencia\")\n",
        "    plt.figure()\n",
        "    plt.plot(vf, abs(Mw))\n",
        "    plt.xlabel('Frecuencia [Hz]')\n",
        "    plt.ylabel('Magnitud')\n",
        "    st.pyplot(plt)\n",
        "\n",
        "    # Modulación AM\n",
        "    Fo = st.number_input(\"Frecuencia de la portadora (Hz)\", value=15000)\n",
        "    A1 = st.number_input(\"Índice de modulación (A1)\", value=2.0)\n",
        "    c = np.cos(2 * np.pi * Fo * tt)\n",
        "    y = A1 * m * c\n",
        "\n",
        "    # Reproducir señal modulada\n",
        "    audio_buffer = io.BytesIO()\n",
        "    sf.write(audio_buffer, y, fs, format='WAV')\n",
        "    audio_buffer.seek(0)\n",
        "    st.audio(audio_buffer, format='audio/wav')\n",
        "\n",
        "    # Graficar señal modulada\n",
        "    st.subheader(\"Señal Modulada en el Tiempo\")\n",
        "    plt.figure()\n",
        "    plt.plot(tt, y)\n",
        "    plt.xlabel('Tiempo [s]')\n",
        "    plt.ylabel('Amplitud')\n",
        "    st.pyplot(plt)\n",
        "\n",
        "    # Demodulación AM con filtrado\n",
        "    d = y * c  # Multiplicación coherente\n",
        "    N, Wn = 10, 14950  # Orden y frecuencia de corte\n",
        "    num, den = bw(N, Wn, btype='low', fs=fs)\n",
        "    xf = filtfilt(num, den, d)\n",
        "    me = (2 / A1) * xf\n",
        "\n",
        "    # Reproducir señal recuperada\n",
        "    audio_buffer = io.BytesIO()\n",
        "    sf.write(audio_buffer, me, fs, format='WAV')\n",
        "    audio_buffer.seek(0)\n",
        "    st.audio(audio_buffer, format='audio/wav')\n",
        "\n",
        "    # Graficar señal recuperada\n",
        "    st.subheader(\"Señal Recuperada\")\n",
        "    plt.figure()\n",
        "    plt.plot(tt, me)\n",
        "    plt.xlabel('Tiempo [s]')\n",
        "    plt.ylabel('Amplitud')\n",
        "    st.pyplot(plt)\n",
        "\n",
        "    # Transformada de Fourier de la señal recuperada\n",
        "    Mew = np.fft.rfft(me)\n",
        "    st.subheader(\"Espectro de la Señal Recuperada\")\n",
        "    plt.figure()\n",
        "    plt.plot(vf, abs(Mew))\n",
        "    plt.xlabel('Frecuencia [Hz]')\n",
        "    plt.ylabel('Magnitud')\n",
        "    st.pyplot(plt)"
      ],
      "metadata": {
        "colab": {
          "base_uri": "https://localhost:8080/"
        },
        "id": "jkJ9QfqZKyes",
        "outputId": "b477cbba-d832-470e-a6e4-cb50038d9680"
      },
      "execution_count": 6,
      "outputs": [
        {
          "output_type": "stream",
          "name": "stdout",
          "text": [
            "Writing Punto2.py\n"
          ]
        }
      ]
    },
    {
      "cell_type": "markdown",
      "source": [
        "El código token=\"2mraVkMegLT3dtlJmEyHhXBq8cj_4nGk3GjYEZVfV5XAJR4be\" asigna un valor de cadena (string) a la variable token. Este token se utiliza para autenticar y autorizar la creación de la aplicación en Streamlit, permitiendo el acceso a servicios como ngrok."
      ],
      "metadata": {
        "id": "Nj5WDAdeMr30"
      }
    },
    {
      "cell_type": "code",
      "source": [
        "token=\"2tdroQQlWE22mpbWF56ZQwhCI6W_38v4DcENvFijbeGWZszYC\""
      ],
      "metadata": {
        "id": "f8X4j_g_K3sV"
      },
      "execution_count": 7,
      "outputs": []
    },
    {
      "cell_type": "markdown",
      "source": [
        "Este código permite ejecutar una aplicación de Streamlit y hacerla accesible desde Internet utilizando ngrok. Primero, se autentica con ngrok mediante un token de usuario, lo que permite gestionar túneles de forma segura. Luego, se ejecuta el archivo Punto2.py en un servidor local de Streamlit en el puerto 5029, usando nohup para que siga corriendo en segundo plano. Después, se establece un túnel con ngrok, permitiendo exponer el puerto de la aplicación a Internet mediante una URL pública. Finalmente, el código imprime el enlace generado por ngrok, que se puede utilizar para acceder a la aplicación desde cualquier navegador. Esta técnica es útil para compartir dashboards interactivos sin necesidad de abrir puertos manualmente o configurar servidores en la nube."
      ],
      "metadata": {
        "id": "eEGGTKC0M90s"
      }
    },
    {
      "cell_type": "code",
      "source": [
        "from pyngrok import ngrok\n",
        "\n",
        "# # Set authentication token (unique per user)\n",
        "ngrok.set_auth_token(token)\n",
        "\n",
        "# # Start Streamlit server on a specific port\n",
        "!nohup streamlit run Punto2.py --server.port 5029 &\n",
        "\n",
        "# # Start ngrok tunnel to expose the Streamlit server\n",
        "ngrok_tunnel = ngrok.connect(addr='5029', proto='http', bind_tls=True)\n",
        "\n",
        "# # Print the URL of the ngrok tunnel\n",
        "print(' * Tunnel URL:', ngrok_tunnel.public_url)"
      ],
      "metadata": {
        "colab": {
          "base_uri": "https://localhost:8080/"
        },
        "id": "PwgCuwXQK4_m",
        "outputId": "0be35d96-86d9-427a-ab52-f4342d8e6314"
      },
      "execution_count": 8,
      "outputs": [
        {
          "output_type": "stream",
          "name": "stdout",
          "text": [
            "nohup: appending output to 'nohup.out'\n",
            " * Tunnel URL: https://b4c0-34-169-137-250.ngrok-free.app\n"
          ]
        }
      ]
    },
    {
      "cell_type": "markdown",
      "source": [
        "# PUNTO 3"
      ],
      "metadata": {
        "id": "v9EWYJepNCDe"
      }
    },
    {
      "cell_type": "markdown",
      "source": [
        "Este fragmento de código instala las librerías necesarias para ejecutar una aplicación en Streamlit y facilitar su acceso remoto.\n",
        "\n",
        "- !pip install streamlit -q: Instala Streamlit, un framework en Python para crear aplicaciones web interactivas, con el argumento -q para que la instalación sea silenciosa.\n",
        "\n",
        "- !npm install localtunnel: Instala localtunnel, una herramienta que permite exponer servidores locales a Internet sin necesidad de configurar redes o abrir puertos.\n",
        "\n",
        "- !python3 -m pip install --force-reinstall https://github.com/yt-dlp/yt-dlp/archive/master.tar.gz: Descarga e instala yt-dlp directamente desde su repositorio de GitHub, asegurando una versión actualizada mediante --force-reinstall. Esta biblioteca permite descargar contenido multimedia de plataformas como YouTube.\n",
        "\n",
        "- !pip install pyngrok: Instala pyngrok, una interfaz en Python para ngrok, que\n",
        "permite crear túneles seguros para exponer servidores locales a Internet, facilitando el acceso remoto a la aplicación de Streamlit."
      ],
      "metadata": {
        "id": "VK-FFDB6N-07"
      }
    },
    {
      "cell_type": "code",
      "source": [
        "!pip install streamlit -q #instalación de librerías\n",
        "!npm install localtunnel\n",
        "!python3 -m pip install --force-reinstall https://github.com/yt-dlp/yt-dlp/archive/master.tar.gz\n",
        "!pip install pyngrok"
      ],
      "metadata": {
        "colab": {
          "base_uri": "https://localhost:8080/"
        },
        "id": "PI5txVPQNGjo",
        "outputId": "817d3d35-57ee-4c4d-df29-75ff4828b42d"
      },
      "execution_count": 9,
      "outputs": [
        {
          "output_type": "stream",
          "name": "stdout",
          "text": [
            "\u001b[1G\u001b[0K⠙\u001b[1G\u001b[0K⠹\u001b[1G\u001b[0K⠸\u001b[1G\u001b[0K⠼\u001b[1G\u001b[0K⠴\u001b[1G\u001b[0K⠦\u001b[1G\u001b[0K⠧\u001b[1G\u001b[0K\n",
            "up to date, audited 23 packages in 2s\n",
            "\u001b[1G\u001b[0K⠧\u001b[1G\u001b[0K\n",
            "\u001b[1G\u001b[0K⠧\u001b[1G\u001b[0K3 packages are looking for funding\n",
            "\u001b[1G\u001b[0K⠧\u001b[1G\u001b[0K  run `npm fund` for details\n",
            "\u001b[1G\u001b[0K⠧\u001b[1G\u001b[0K\n",
            "2 \u001b[33m\u001b[1mmoderate\u001b[22m\u001b[39m severity vulnerabilities\n",
            "\n",
            "To address all issues (including breaking changes), run:\n",
            "  npm audit fix --force\n",
            "\n",
            "Run `npm audit` for details.\n",
            "\u001b[1G\u001b[0K⠧\u001b[1G\u001b[0KCollecting https://github.com/yt-dlp/yt-dlp/archive/master.tar.gz\n",
            "  Using cached https://github.com/yt-dlp/yt-dlp/archive/master.tar.gz\n",
            "  Installing build dependencies ... \u001b[?25l\u001b[?25hdone\n",
            "  Getting requirements to build wheel ... \u001b[?25l\u001b[?25hdone\n",
            "  Preparing metadata (pyproject.toml) ... \u001b[?25l\u001b[?25hdone\n",
            "Building wheels for collected packages: yt-dlp\n",
            "  Building wheel for yt-dlp (pyproject.toml) ... \u001b[?25l\u001b[?25hdone\n",
            "  Created wheel for yt-dlp: filename=yt_dlp-2025.2.19-py3-none-any.whl size=2947620 sha256=21446df3d980dcce64c19dbf0a41b63aa7b94369033601140de42a8434e92475\n",
            "  Stored in directory: /tmp/pip-ephem-wheel-cache-0i9av018/wheels/2d/79/97/7209650ef73114e0fe0603480da012ad3afacb9cae6b8acd9a\n",
            "Successfully built yt-dlp\n",
            "Installing collected packages: yt-dlp\n",
            "  Attempting uninstall: yt-dlp\n",
            "    Found existing installation: yt-dlp 2025.2.19\n",
            "    Uninstalling yt-dlp-2025.2.19:\n",
            "      Successfully uninstalled yt-dlp-2025.2.19\n",
            "Successfully installed yt-dlp-2025.2.19\n",
            "Requirement already satisfied: pyngrok in /usr/local/lib/python3.11/dist-packages (7.2.3)\n",
            "Requirement already satisfied: PyYAML>=5.1 in /usr/local/lib/python3.11/dist-packages (from pyngrok) (6.0.2)\n"
          ]
        }
      ]
    },
    {
      "cell_type": "markdown",
      "source": [
        "Este código implementa una aplicación interactiva en Streamlit para analizar el Total Harmonic Distortion (THD) en rectificadores de onda completa con cargas resistivas y RC. Para ello, genera una señal rectificada de onda completa y calcula su Transformada Rápida de Fourier (FFT) con el fin de analizar su contenido espectral. A partir de la FFT, se calcula el THD, que mide la distorsión armónica total de la señal considerando la relación entre los armónicos superiores y el primer armónico.\n",
        "\n",
        "La aplicación permite al usuario ajustar la frecuencia de entrada de la señal, así como los valores de la resistencia (R) y la capacitancia (C) de la carga mediante deslizadores interactivos. Posteriormente, se muestran gráficos de la señal en el dominio del tiempo, su espectro de frecuencia (FFT) y los valores de THD obtenidos para cada tipo de carga. Este análisis es especialmente útil en el estudio de circuitos eléctricos y electrónicos, permitiendo evaluar el impacto de diferentes cargas en la distorsión de la señal de salida en rectificadores."
      ],
      "metadata": {
        "id": "mjJVy1jvQewO"
      }
    },
    {
      "cell_type": "code",
      "source": [
        "%%writefile Punto3.py\n",
        "import streamlit as st\n",
        "from pyngrok import ngrok\n",
        "import numpy as np\n",
        "import matplotlib.pyplot as plt\n",
        "import scipy.signal as sig\n",
        "# Título y descripción general\n",
        "st.title('Cálculo del THD en Circuitos RC y Resistivos Puros')\n",
        "st.write(\"\"\"\n",
        "En este dashboard se muestra el cálculo de la **Distorsión Armónica Total (THD)** en circuitos RC y resistivos puros.\n",
        "\"\"\")\n",
        "\n",
        "st.write(\"\"\"\n",
        "### ¿Qué es el THD?\n",
        "La **Distorsión Armónica Total (THD)** es una medida de la cantidad de distorsión armónica presente en una señal.\n",
        "Se calcula comparando la magnitud de los armónicos superiores con la magnitud de la frecuencia fundamental.\n",
        "\n",
        "El **THD** se define como:\n",
        "\"\"\")\n",
        "\n",
        "st.latex(\"THD = \\\\frac{\\\\sqrt{V_2^2 + V_3^2 + V_4^2 + ...}}{V_1}\")\n",
        "\n",
        "st.write(\"\"\"\n",
        "Donde: \"\"\")\n",
        "st.latex(\"V_1\")\n",
        "st.write(\"\"\"es la magnitud de la frecuencia fundamental y: \"\"\")\n",
        "st.latex(\"V_2, V_3, V_4,...\")\n",
        "st.write(\"\"\"son las magnitudes de los armónicos superiores.\n",
        "\"\"\")\n",
        "\n",
        "# Explicación del proceso de cálculo del THD usando FFT\n",
        "st.write(\"\"\"\n",
        "### Cálculo del THD a partir de la FFT\n",
        "Para calcular el THD, se uasa la **Transformada Rápida de Fourier (FFT)**, que permite transformar una señal del dominio del tiempo al dominio de la frecuencia.\n",
        "\n",
        "Primero, se obtiene la **frecuencia fundamental** de la señal, que es el componente de mayor magnitud en el espectro de frecuencias. Luego, se calcula la contribución de los armónicos (frecuencias superiores) y con la fórmula anterior se obtiene el THD.\n",
        "\"\"\")\n",
        "\n",
        "# Parámetros de la señal de entrada\n",
        "Fo = 60  # Frecuencia de la señal (Hz)\n",
        "Fs = 30 * Fo  # Frecuencia de muestreo (Hz)\n",
        "To = 1 / Fo  # Periodo fundamental\n",
        "Ts = 1 / Fs  # Periodo de muestreo\n",
        "t = np.arange(0, 5 * To, Ts)  # Simulamos 5 periodos de la señal\n",
        "A = 120  # Amplitud de la señal de entrada\n",
        "\n",
        "# Generación de la señal de entrada y su rectificación\n",
        "st.subheader(\"Señal de Entrada y Rectificación\")\n",
        "st.write(\"\"\"\n",
        "Se genera una señal senoidal de 60 Hz, que es típica en sistemas de alimentación eléctrica.\n",
        "Luego, se rectifica para simular la señal que pasa por un circuito de rectificación.\n",
        "\"\"\")\n",
        "in_o = A * np.sin(2 * np.pi * Fo * t)\n",
        "rec_c = sig.square(2 * np.pi * Fo * t)  # Tren de pulsos para la señal rectificada completa\n",
        "in_ = in_o * rec_c  # Entrada rectificada completa\n",
        "\n",
        "# Mostrar las gráficas de la señal de entrada y rectificada\n",
        "st.write(\"### Señal de Alimentación Original (Senoidal)\")\n",
        "plt.figure()\n",
        "plt.plot(t, in_o, label='Alimentación')\n",
        "plt.xlabel('Tiempo [s]')\n",
        "plt.ylabel('Amplitud')\n",
        "plt.legend()\n",
        "st.pyplot(plt)\n",
        "\n",
        "st.write(\"### Señal Rectificada Completa\")\n",
        "plt.figure()\n",
        "plt.plot(t, in_, label='Señal Rectificada')\n",
        "plt.xlabel('Tiempo [s]')\n",
        "plt.ylabel('Amplitud')\n",
        "plt.legend()\n",
        "st.pyplot(plt)\n",
        "\n",
        "# Slider para ajustar R y C\n",
        "st.subheader(\"Parámetros del Circuito RC\")\n",
        "st.write(\"\"\"\n",
        "Ahora se pueden modificar los valores de la resistencia (R) y la capacitancia (C) para observar cómo afecta el circuito RC a la señal rectificada.\n",
        "\"\"\")\n",
        "R_v = st.slider('Resistencia R (Ohmios)', min_value=100, max_value=2000, value=1000, step=100)\n",
        "C_v = st.slider('Capacitancia C (μF)', min_value=1, max_value=50, value=10, step=1) * 1e-6\n",
        "\n",
        "# Función de transferencia del circuito RC en serie\n",
        "st.write(\"\"\"\n",
        "### Función de Transferencia del Circuito RC en Serie\n",
        "Para el circuito RC en serie, la función de transferencia se define como:\n",
        "\"\"\")\n",
        "st.latex(\"H(s) = \\\\frac{1}{RCs + 1}\")\n",
        "\n",
        "\n",
        "st.write(\"\"\"\n",
        "Esta función de transferencia permite modelar el comportamiento del circuito en el dominio de la frecuencia.\n",
        "\"\"\")\n",
        "# Definición de la función de transferencia del circuito RC\n",
        "num = np.array([1])  # Coeficiente del numerador\n",
        "den = np.array([R_v * C_v, 1])  # Coeficientes del denominador\n",
        "G_n = sig.TransferFunction(num, den)  # Definición de la función de transferencia\n",
        "\n",
        "# Evaluar la salida del circuito RC\n",
        "_, out_rc, _ = sig.lsim(G_n, U=in_, T=t)\n",
        "\n",
        "# Gráfica de la salida del circuito RC\n",
        "st.subheader(\"Salida del Circuito RC\")\n",
        "st.write(\"\"\"\n",
        "La siguiente gráfica muestra cómo la señal rectificada cambia al pasar por el circuito RC en serie.\n",
        "\"\"\")\n",
        "plt.figure()\n",
        "plt.plot(t, out_rc, label='Salida del Circuito RC')\n",
        "plt.xlabel('Tiempo [s]')\n",
        "plt.ylabel('Amplitud')\n",
        "plt.legend()\n",
        "st.pyplot(plt)\n",
        "#plt.plot(t, in_,label='In(t)')#entrada rectificada\n",
        "st.subheader(\"Salida del Circuito resistivo\")\n",
        "st.write(\"\"\"\n",
        "La siguiente gráfica muestra cómo la señal rectificada de salida del circuito resistivo.\n",
        "\"\"\")\n",
        "plt.figure()\n",
        "plt.plot(t, in_,c=\"r\",label='Out(t)')#salida del circuito\n",
        "plt.xlabel('t [s]')\n",
        "plt.ylabel('out(t)')\n",
        "st.pyplot(plt)\n",
        "# Cálculo del THD simplificado basado en la FFT\n",
        "def calcular_thd(signal, Fs):\n",
        "    Xf = np.fft.rfft(signal)  # FFT de la señal\n",
        "    magnitudes = np.abs(Xf)\n",
        "    freqs = np.fft.rfftfreq(len(signal), 1 / Fs)\n",
        "\n",
        "    # Identificar la frecuencia fundamental\n",
        "    fundamental_idx = np.argmax(magnitudes)\n",
        "    fundamental = magnitudes[fundamental_idx]\n",
        "\n",
        "    # Cálculo del THD como la suma de los armónicos sobre la fundamental\n",
        "    thd = np.sqrt(np.sum(magnitudes[1:]**2)) / fundamental\n",
        "    return thd\n",
        "\n",
        "# Calcular el THD\n",
        "thd_rc = calcular_thd(out_rc, Fs)\n",
        "thd_resistive = calcular_thd(in_, Fs)\n",
        "\n",
        "# Mostrar el valor del THD\n",
        "st.subheader(\"Resultados del THD\")\n",
        "st.markdown(\"\"\"\n",
        "El valor del THD es una medida de la distorsión de la señal debida a los armónicos.\n",
        "A continuación, se muestran los valores del THD tanto para el circuito resistivo puro como para el circuito RC en serie:\n",
        "\"\"\")\n",
        "st.markdown(f\"**THD del circuito RC**: {thd_rc * 100:.2f}%\")\n",
        "st.markdown(f\"**THD del circuito resistivo puro**: {thd_resistive * 100:.2f}%\")\n",
        "st.subheader('Cálculo del Factor de Potencia basado en THD')\n",
        "\n",
        "st.subheader('¿Qué es el Factor de Potencia?')\n",
        "st.write('''\n",
        "El **Factor de Potencia (FP)** mide la eficiencia con la que un sistema eléctrico convierte la energía eléctrica en trabajo útil.\n",
        "Cuando la señal tiene **Distorsión Armónica Total (THD)**, parte de la potencia se pierde en los armónicos, reduciendo la eficiencia.\n",
        "\n",
        "La fórmula general del Factor de Potencia con THD es:\n",
        "''')\n",
        "\n",
        "st.latex(r'''\n",
        "FP = \\sqrt{\\frac{1}{1 + \\left(THD\\right)^2}}\n",
        "''')\n",
        "\n",
        "st.write('''\n",
        "Donde el **THD** representa el porcentaje de distorsión de la señal. A medida que aumenta el **THD**, más potencia se pierde en los armónicos, reduciendo el **Factor de Potencia**.\n",
        "''')\n",
        "st.markdown(\"\"\"\n",
        "A continuación, se muestran los valores del factor de potencia tanto para el circuito resistivo puro como para el circuito RC en serie:\n",
        "\"\"\")\n",
        "pf1 = np.sqrt(1 / (1 + (thd_rc )**2))\n",
        "pf2 = np.sqrt(1 / (1 + (thd_resistive)**2))\n",
        "st.markdown(f\"**FP del circuito RC**: {pf1:.4f}\")\n",
        "st.markdown(f\"**FP del circuito resistivo puro**: {pf2:.4f}\")\n",
        "\n",
        "# FFT de la señal de salida para el circuito RC\n",
        "vfre_rc = np.fft.rfftfreq(len(out_rc), Ts)  # Vector de frecuencias en Hz\n",
        "Xf_rc = np.fft.rfft(out_rc)  # FFT de la salida\n",
        "\n",
        "st.markdown(\"### FFT de la Salida del Circuito RC\")\n",
        "st.markdown(\"\"\"\n",
        "La **Transformada de Fourier** nos muestra el contenido de frecuencias de la señal.\n",
        "La siguiente gráfica muestra cómo se distribuyen las frecuencias en la señal después de pasar por el circuito RC.\n",
        "\"\"\")\n",
        "plt.figure()\n",
        "plt.stem(vfre_rc, np.abs(Xf_rc) / len(out_rc))\n",
        "plt.xlabel('Frecuencia [Hz]')\n",
        "plt.ylabel('Magnitud FFT')\n",
        "st.pyplot(plt)\n",
        "\n",
        "# FFT de la señal para el circuito resistivo puro\n",
        "vfre_resistive = np.fft.rfftfreq(len(in_), Ts)\n",
        "Xf_resistive = np.fft.rfft(in_)\n",
        "\n",
        "st.write(\"### FFT del Circuito Resistivo Puro\")\n",
        "st.write(\"\"\"\n",
        "Este gráfico muestra la FFT de la señal en un circuito resistivo puro, sin ningún circuito adicional que altere la señal.\n",
        "\"\"\")\n",
        "plt.figure()\n",
        "plt.stem(vfre_resistive, np.abs(Xf_resistive) / len(in_))\n",
        "plt.xlabel('Frecuencia [Hz]')\n",
        "plt.ylabel('Magnitud FFT')\n",
        "st.pyplot(plt)"
      ],
      "metadata": {
        "colab": {
          "base_uri": "https://localhost:8080/"
        },
        "id": "xDQDtEmaOoSv",
        "outputId": "b2588c33-f3ab-4b14-bf8e-52c2f196b0bd"
      },
      "execution_count": 10,
      "outputs": [
        {
          "output_type": "stream",
          "name": "stdout",
          "text": [
            "Writing Punto3.py\n"
          ]
        }
      ]
    },
    {
      "cell_type": "markdown",
      "source": [
        "El código token=\"2lmAC6DGxB9xF06bq6Js7K7IZQK_5T6aE4rBZBp6hDqefow8M\" asigna un valor de cadena (string) a la variable token. Este token se utiliza para autenticar y autorizar la creación de la aplicación en Streamlit, permitiendo el acceso a servicios como ngrok."
      ],
      "metadata": {
        "id": "widLZ5mjQi8A"
      }
    },
    {
      "cell_type": "code",
      "source": [
        "token=\"2tdroQQlWE22mpbWF56ZQwhCI6W_38v4DcENvFijbeGWZszYC\""
      ],
      "metadata": {
        "id": "79onfynnO8EA"
      },
      "execution_count": 11,
      "outputs": []
    },
    {
      "cell_type": "markdown",
      "source": [
        "Este código permite ejecutar una aplicación de Streamlit y hacerla accesible desde Internet utilizando ngrok. Primero, se autentica con ngrok mediante un token de usuario, lo que permite gestionar túneles de forma segura. Luego, se ejecuta el archivo Punto3.py en un servidor local de Streamlit en el puerto 5039, usando nohup para que siga corriendo en segundo plano. Después, se establece un túnel con ngrok, permitiendo exponer el puerto de la aplicación a Internet mediante una URL pública. Finalmente, el código imprime el enlace generado por ngrok, que se puede utilizar para acceder a la aplicación desde cualquier navegador. Esta técnica es útil para compartir dashboards interactivos sin necesidad de abrir puertos manualmente o configurar servidores en la nube."
      ],
      "metadata": {
        "id": "LDRzTX8RQkFp"
      }
    },
    {
      "cell_type": "code",
      "source": [
        "from pyngrok import ngrok\n",
        "\n",
        "# # Set authentication token (unique per user)\n",
        "ngrok.set_auth_token(token)\n",
        "\n",
        "# # Start Streamlit server on a specific port\n",
        "!nohup streamlit run Punto3.py --server.port 5039 &\n",
        "\n",
        "# # Start ngrok tunnel to expose the Streamlit server\n",
        "ngrok_tunnel = ngrok.connect(addr='5039', proto='http', bind_tls=True)\n",
        "\n",
        "# # Print the URL of the ngrok tunnel\n",
        "print(' * Tunnel URL:', ngrok_tunnel.public_url)"
      ],
      "metadata": {
        "colab": {
          "base_uri": "https://localhost:8080/"
        },
        "id": "e-FUoQskO-ZB",
        "outputId": "e60376c3-8e87-463e-eb83-2e88f08a82e5"
      },
      "execution_count": 12,
      "outputs": [
        {
          "output_type": "stream",
          "name": "stdout",
          "text": [
            "nohup: appending output to 'nohup.out'\n",
            " * Tunnel URL: https://79cb-34-169-137-250.ngrok-free.app\n"
          ]
        }
      ]
    }
  ]
}