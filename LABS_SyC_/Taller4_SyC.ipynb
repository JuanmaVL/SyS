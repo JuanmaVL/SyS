{
  "nbformat": 4,
  "nbformat_minor": 0,
  "metadata": {
    "colab": {
      "provenance": [],
      "authorship_tag": "ABX9TyO0GW091PNNbLGEdn7jPXmH",
      "include_colab_link": true
    },
    "kernelspec": {
      "name": "python3",
      "display_name": "Python 3"
    },
    "language_info": {
      "name": "python"
    }
  },
  "cells": [
    {
      "cell_type": "markdown",
      "metadata": {
        "id": "view-in-github",
        "colab_type": "text"
      },
      "source": [
        "<a href=\"https://colab.research.google.com/github/JuanmaVL/SyS/blob/main/LABS_SyC_/Taller4_SyC.ipynb\" target=\"_parent\"><img src=\"https://colab.research.google.com/assets/colab-badge.svg\" alt=\"Open In Colab\"/></a>"
      ]
    },
    {
      "cell_type": "code",
      "execution_count": 5,
      "metadata": {
        "colab": {
          "base_uri": "https://localhost:8080/"
        },
        "id": "6mMIPswy_IBp",
        "outputId": "5216be07-d879-499e-a481-24ed49e4c28c"
      },
      "outputs": [
        {
          "output_type": "stream",
          "name": "stdout",
          "text": [
            "Collecting control\n",
            "  Downloading control-0.10.1-py3-none-any.whl.metadata (7.6 kB)\n",
            "Requirement already satisfied: matplotlib in /usr/local/lib/python3.11/dist-packages (3.10.0)\n",
            "Requirement already satisfied: numpy>=1.23 in /usr/local/lib/python3.11/dist-packages (from control) (2.0.2)\n",
            "Requirement already satisfied: scipy>=1.8 in /usr/local/lib/python3.11/dist-packages (from control) (1.15.3)\n",
            "Requirement already satisfied: contourpy>=1.0.1 in /usr/local/lib/python3.11/dist-packages (from matplotlib) (1.3.2)\n",
            "Requirement already satisfied: cycler>=0.10 in /usr/local/lib/python3.11/dist-packages (from matplotlib) (0.12.1)\n",
            "Requirement already satisfied: fonttools>=4.22.0 in /usr/local/lib/python3.11/dist-packages (from matplotlib) (4.58.0)\n",
            "Requirement already satisfied: kiwisolver>=1.3.1 in /usr/local/lib/python3.11/dist-packages (from matplotlib) (1.4.8)\n",
            "Requirement already satisfied: packaging>=20.0 in /usr/local/lib/python3.11/dist-packages (from matplotlib) (24.2)\n",
            "Requirement already satisfied: pillow>=8 in /usr/local/lib/python3.11/dist-packages (from matplotlib) (11.2.1)\n",
            "Requirement already satisfied: pyparsing>=2.3.1 in /usr/local/lib/python3.11/dist-packages (from matplotlib) (3.2.3)\n",
            "Requirement already satisfied: python-dateutil>=2.7 in /usr/local/lib/python3.11/dist-packages (from matplotlib) (2.9.0.post0)\n",
            "Requirement already satisfied: six>=1.5 in /usr/local/lib/python3.11/dist-packages (from python-dateutil>=2.7->matplotlib) (1.17.0)\n",
            "Downloading control-0.10.1-py3-none-any.whl (549 kB)\n",
            "\u001b[2K   \u001b[90m━━━━━━━━━━━━━━━━━━━━━━━━━━━━━━━━━━━━━━━━\u001b[0m \u001b[32m549.6/549.6 kB\u001b[0m \u001b[31m12.1 MB/s\u001b[0m eta \u001b[36m0:00:00\u001b[0m\n",
            "\u001b[?25hInstalling collected packages: control\n",
            "Successfully installed control-0.10.1\n",
            "Ingrese los coeficientes del *numerador* separados por espacios: 2 4 \n",
            "Ingrese los coeficientes del *denominador* separados por espacios: 5 7 \n",
            "\n",
            "Funcin de transferencia G(s) creada: <TransferFunction>: sys[0]\n",
            "Inputs (1): ['u[0]']\n",
            "Outputs (1): ['y[0]']\n",
            "\n",
            "\n",
            "2 s + 4\n",
            "-------\n",
            "5 s + 7\n",
            "\n",
            "\n",
            "Ingrese el punto de prueba s en el plano complejo (ejemplo: -2+4j): -1+2j\n",
            "\n",
            "Resultados para s = (-1+2j):\n",
            " - Valor de G(s): 0.4231-0.1154j\n",
            " - Magnitud |G(s)|: 0.4385\n",
            " - Fase (G(s)): -15.26 grados\n",
            " - Ganancia (valor absoluto): 0.4385\n"
          ]
        }
      ],
      "source": [
        "!pip install control matplotlib\n",
        "# Importar la biblioteca de control de sistemas\n",
        "import control\n",
        "import numpy as np # Para funciones matemticas (clculo de fase en grados)\n",
        "import ast # Para evaluar la entrada del punto complejo de forma segura\n",
        "# 1. Ingresar la funcion de transferencia (coeficientes de numerador y denominador)\n",
        "# Solicitar al usuario los coeficientes delnumerador y denominador como cadenas de texto\n",
        "numerador_str = input(\"Ingrese los coeficientes del *numerador* separados por espacios: \")\n",
        "denominador_str = input(\"Ingrese los coeficientes del *denominador* separados por espacios: \")\n",
        "# Convertir las cadenas de coeficientes en listas denmeros (float)\n",
        "# Se asume que los coeficientes pueden ser introducidos como enteros o decimales\n",
        "numerador = [float(val) for val in numerador_str.\n",
        "strip().split()]\n",
        "denominador = [float(val) for val in denominador_str.strip().split()]\n",
        "# Crear la funcin de transferencia G(s) con la librera control\n",
        "G = control.TransferFunction(numerador, denominador)\n",
        "print(\"\\nFuncin de transferencia G(s) creada:\", G)\n",
        "# 2. Ingresar un punto de prueba en el plano complejo\n",
        "# Se pedir al usuario que introduzca el punto s en formato Python, por ejemplo: -2+4j\n",
        "s_str = input(\"\\nIngrese el punto de prueba s en el plano complejo (ejemplo: -2+4j): \")\n",
        "# Convertir la cadena ingresada a nmero complejo de forma segura\n",
        "try:\n",
        "  s_valor = complex(ast.literal_eval(s_str))\n",
        "except Exception as e:\n",
        "# Manejar error de formato de entrada\n",
        "  raise ValueError(\"Formato de punto complejo no vlido. Intente usar por ejemplo -1+2j.\")\n",
        "# 3. Calcular el valor de la funcin de transferencia en s, su magnitud, fase y ganancia\n",
        "# Evaluar G(s) usando la funcin evalfr (evaluate frequency response) de la librera control\n",
        "G_en_s = control.evalfr(G, s_valor) # Valor complejo de G(s) en el punto dado\n",
        "# Calcular la magnitud (valor absoluto) de G(s)\n",
        "magnitud = abs(G_en_s)\n",
        "# Calcular la fase (ngulo) en radianes y luego convertir a grados\n",
        "fase_rad = np.angle(G_en_s) # fase en radianes\n",
        "fase_deg = np.angle(G_en_s, deg=True) # fase en grados\n",
        "# La ganancia en este contexto es el valor absoluto (magnitud) de G(s)\n",
        "ganancia = magnitud\n",
        "# 4. Mostrar los resultados con claridad\n",
        "print(f\"\\nResultados para s = {s_valor}:\")\n",
        "print(f\" - Valor de G(s): {G_en_s:.4f}\") # valor complejo con 4 decimales\n",
        "print(f\" - Magnitud |G(s)|: {magnitud:.4f}\") # magnitud con 4 decimales\n",
        "print(f\" - Fase (G(s)): {fase_deg:.2f} grados\")\n",
        "# fase en grados con 2 decimales\n",
        "print(f\" - Ganancia (valor absoluto): {ganancia:.4f}\")\n",
        "# 5. Referencia a herramienta visual de anlisis (sisotool)\n",
        "# Nota: Para utilizarla herramienta interactiva Sisotool de la librera control descomente la siguiente lnea\n",
        "# control.sisotool(G)\n"
      ]
    }
  ]
}