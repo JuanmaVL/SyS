{
  "nbformat": 4,
  "nbformat_minor": 0,
  "metadata": {
    "colab": {
      "provenance": [],
      "authorship_tag": "ABX9TyOreJ17FM3OETcsuqqDUdVt",
      "include_colab_link": true
    },
    "kernelspec": {
      "name": "python3",
      "display_name": "Python 3"
    },
    "language_info": {
      "name": "python"
    }
  },
  "cells": [
    {
      "cell_type": "markdown",
      "metadata": {
        "id": "view-in-github",
        "colab_type": "text"
      },
      "source": [
        "<a href=\"https://colab.research.google.com/github/JuanmaVL/SyS/blob/main/Corte2/P2/Parcial_2_SyS.ipynb\" target=\"_parent\"><img src=\"https://colab.research.google.com/assets/colab-badge.svg\" alt=\"Open In Colab\"/></a>"
      ]
    },
    {
      "cell_type": "markdown",
      "source": [
        "**PARCIAL NÚMERO 2 SEÑALES Y SISTEMAS**\n",
        "\n",
        "**Ejercicio número 3**\n",
        "\n",
        "Consulte en que consiste la distorsión total de armónicos (Total Harmonic Distortion-(THD)) y el factor de potencia en un circuito\n",
        "eléctrico. Cómo puede calcularse el THD desde la FFT?. Cómo puede calcularse la distorsión del factor de potencia con base al\n",
        "THD?.\n"
      ],
      "metadata": {
        "id": "uINqDhTeLeyB"
      }
    },
    {
      "cell_type": "markdown",
      "source": [
        "**Distorsión total de armónicos (THD)**\n",
        "\n",
        "La THD es una medida de la distorsión armónica presente en una señal. Se define como la relación entre la suma de las potencias de todos los componentes armónicos y la potencia del componente fundamental. En un circuito eléctrico, la THD puede ser causada por cargas no lineales, como rectificadores, fuentes de alimentación conmutadas y variadores de velocidad.\n",
        "\n",
        "\n",
        "**Cómo calcular el THD desde la FFT**\n",
        "\n",
        "La FFT (Transformada rápida de Fourier) es una herramienta matemática que se utiliza para analizar el contenido de frecuencia de una señal. Para calcular el THD desde la FFT, se deben seguir los siguientes pasos:\n",
        "\n",
        "1. Obtener la FFT de la señal.\n",
        "2. Identificar el componente fundamental y los componentes armónicos.\n",
        "3. Calcular la potencia de cada componente.\n",
        "4. Calcular la THD utilizando la siguiente fórmula:\n",
        "\n"
      ],
      "metadata": {
        "id": "siqQeu1fTd1Y"
      }
    },
    {
      "cell_type": "code",
      "execution_count": 8,
      "metadata": {
        "id": "7-iEXG3ALc4s",
        "outputId": "f86efa3c-bd69-4167-d3a2-59e728a2eea3",
        "colab": {
          "base_uri": "https://localhost:8080/",
          "height": 458
        }
      },
      "outputs": [
        {
          "output_type": "stream",
          "name": "stdout",
          "text": [
            "Ecuación utilizada:\n",
            "THD = √(∑(P_h^2)) / P_1 × 100%\n",
            "El THD calculado es: 11.36%\n"
          ]
        },
        {
          "output_type": "display_data",
          "data": {
            "text/plain": [
              "<Figure size 640x480 with 1 Axes>"
            ],
            "image/png": "[encoded data removed]"
          },
          "metadata": {}
        }
      ],
      "source": [
        "import numpy as np\n",
        "import matplotlib.pyplot as plt\n",
        "\n",
        "# Funcion para calcular el THD\n",
        "def calculate_thd(harmonics):\n",
        "    P1 = harmonics[0]  # Potencia fundamental (primer armónico)\n",
        "    Ph = harmonics[1:]  # Potencias de los armónicos superiores\n",
        "    THD = (np.sqrt(np.sum(np.square(Ph))) / P1) * 100\n",
        "    return THD\n",
        "\n",
        "# Funcion para imprimir la ecuacion con simbolos\n",
        "def print_equation():\n",
        "    equation = \"THD = √(∑(P_h^2)) / P_1 × 100%\"\n",
        "    print(\"Ecuación utilizada:\")\n",
        "    print(equation)\n",
        "\n",
        "# Ejemplo de uso\n",
        "harmonics = [100, 10, 5, 2]  # P1=100, P2=10, P3=5, P4=2\n",
        "print_equation()\n",
        "thd = calculate_thd(harmonics)\n",
        "print(f\"El THD calculado es: {thd:.2f}%\")\n",
        "\n",
        "# Mostrar la ecuacion visualmente\n",
        "plt.text(0.1, 0.6, r'THD = \\left( \\frac{\\sqrt{\\sum_{h=2}^{\\infty} P_h^2}}{P_1} \\right) \\cdot 100\\%', fontsize=14)\n",
        "plt.axis('off')\n",
        "plt.show()\n"
      ]
    },
    {
      "cell_type": "markdown",
      "source": [
        "donde:\n",
        "\n",
        "P_h es la potencia del componente armónico h-ésimo.\n",
        "\n",
        "P_1 es la potencia del componente fundamental."
      ],
      "metadata": {
        "id": "9gG8j6POWKdP"
      }
    },
    {
      "cell_type": "markdown",
      "source": [
        "**Factor de potencia**\n",
        "\n",
        "El factor de potencia es una medida de la eficiencia con la que se utiliza la energía eléctrica. Se define como la relación entre la potencia activa y la potencia aparente. En un circuito eléctrico, el factor de potencia puede ser afectado por la THD. Un factor de potencia bajo indica que se está desperdiciando energía eléctrica.\n",
        "\n",
        "**Cómo calcular el THD desde la FFT**\n",
        "\n",
        "La FFT (Transformada rápida de Fourier) es una herramienta matemática que se utiliza para analizar el contenido de frecuencia de una señal. Para calcular el THD desde la FFT, se deben seguir los siguientes pasos:\n",
        "\n",
        "1. Obtener la FFT de la señal.\n",
        "2. Identificar el componente fundamental y los componentes armónicos.\n",
        "3. Calcular la potencia de cada componente.\n",
        "4. Calcular la THD utilizando la siguiente fórmula:"
      ],
      "metadata": {
        "id": "htiOrF7MWVun"
      }
    },
    {
      "cell_type": "code",
      "source": [
        "THD = (sqrt(sum(P_h^2)) / P_1) * 100%"
      ],
      "metadata": {
        "id": "JmTI65CKWpgK"
      },
      "execution_count": null,
      "outputs": []
    },
    {
      "cell_type": "markdown",
      "source": [
        "donde:\n",
        "\n",
        "P_h es la potencia del componente armónico h-ésimo.\n",
        "\n",
        "P_1 es la potencia del componente fundamental."
      ],
      "metadata": {
        "id": "BgfUHsPUWri_"
      }
    },
    {
      "cell_type": "markdown",
      "source": [
        "**Numeral a**\n",
        "\n",
        "Genere un ejemplo ilustrativo para el calculo del THD y la distorsión del factor de potencia para un rectificador de onda\n",
        "completa con carga:\n",
        "\n",
        "i) netamente resistiva\n",
        "\n"
      ],
      "metadata": {
        "id": "Ki4Wn_muTNzY"
      }
    },
    {
      "cell_type": "code",
      "source": [],
      "metadata": {
        "id": "JwugY8mFTU8I"
      },
      "execution_count": null,
      "outputs": []
    },
    {
      "cell_type": "markdown",
      "source": [
        "ii) carga RC en serie. Establezca las condiciones necesarias para las simulaciones. El usuario podrá escoger diferentes valores de R y C. Discuta los resultados obtenidos."
      ],
      "metadata": {
        "id": "Q4-kOBwITVSg"
      }
    },
    {
      "cell_type": "code",
      "source": [],
      "metadata": {
        "id": "OohcyAvYTXLP"
      },
      "execution_count": null,
      "outputs": []
    }
  ]
}